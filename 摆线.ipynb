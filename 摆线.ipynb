{
 "cells": [
  {
   "cell_type": "code",
   "execution_count": 1,
   "metadata": {},
   "outputs": [],
   "source": [
    "from sympy import *\n",
    "init_printing()\n",
    "x=symbols('x')"
   ]
  },
  {
   "cell_type": "code",
   "execution_count": 2,
   "metadata": {},
   "outputs": [],
   "source": [
    "f=Function('f')\n",
    "y=f(x)\n",
    "yy=y.diff(x)\n",
    "yyy=yy.diff(x)"
   ]
  },
  {
   "cell_type": "code",
   "execution_count": 4,
   "metadata": {},
   "outputs": [
    {
     "data": {
      "image/png": "[encoded data removed]",
      "text/latex": [
       "$\\displaystyle 2 f{\\left(x \\right)} \\frac{d^{2}}{d x^{2}} f{\\left(x \\right)} = \\left(\\frac{d}{d x} f{\\left(x \\right)}\\right)^{2} + 1$"
      ],
      "text/plain": [
       "         2                   2    \n",
       "        d          ⎛d       ⎞     \n",
       "2⋅f(x)⋅───(f(x)) = ⎜──(f(x))⎟  + 1\n",
       "         2         ⎝dx      ⎠     \n",
       "       dx                         "
      ]
     },
     "execution_count": 4,
     "metadata": {},
     "output_type": "execute_result"
    }
   ],
   "source": [
    "system=Eq(yyy*y*2,1+yy**2)\n",
    "system"
   ]
  },
  {
   "cell_type": "code",
   "execution_count": 5,
   "metadata": {
    "collapsed": true
   },
   "outputs": [
    {
     "ename": "NotImplementedError",
     "evalue": "solve: Cannot solve 2*f(x)*Derivative(f(x), (x, 2)) - Derivative(f(x), x)**2 - 1",
     "output_type": "error",
     "traceback": [
      "\u001b[0;31m-------------------------------------------------------------------\u001b[0m",
      "\u001b[0;31mNotImplementedError\u001b[0m               Traceback (most recent call last)",
      "\u001b[0;32m<ipython-input-5-f53e3793ffc5>\u001b[0m in \u001b[0;36m<module>\u001b[0;34m\u001b[0m\n\u001b[0;32m----> 1\u001b[0;31m \u001b[0mdsolve\u001b[0m\u001b[0;34m(\u001b[0m\u001b[0msystem\u001b[0m\u001b[0;34m,\u001b[0m\u001b[0my\u001b[0m\u001b[0;34m)\u001b[0m\u001b[0;34m\u001b[0m\u001b[0;34m\u001b[0m\u001b[0m\n\u001b[0m",
      "\u001b[0;32m~/anaconda3/lib/python3.7/site-packages/sympy/solvers/ode.py\u001b[0m in \u001b[0;36mdsolve\u001b[0;34m(eq, func, hint, simplify, ics, xi, eta, x0, n, **kwargs)\u001b[0m\n\u001b[1;32m    639\u001b[0m         hints = _desolve(eq, func=func,\n\u001b[1;32m    640\u001b[0m             \u001b[0mhint\u001b[0m\u001b[0;34m=\u001b[0m\u001b[0mhint\u001b[0m\u001b[0;34m,\u001b[0m \u001b[0msimplify\u001b[0m\u001b[0;34m=\u001b[0m\u001b[0;32mTrue\u001b[0m\u001b[0;34m,\u001b[0m \u001b[0mxi\u001b[0m\u001b[0;34m=\u001b[0m\u001b[0mxi\u001b[0m\u001b[0;34m,\u001b[0m \u001b[0meta\u001b[0m\u001b[0;34m=\u001b[0m\u001b[0meta\u001b[0m\u001b[0;34m,\u001b[0m \u001b[0mtype\u001b[0m\u001b[0;34m=\u001b[0m\u001b[0;34m'ode'\u001b[0m\u001b[0;34m,\u001b[0m \u001b[0mics\u001b[0m\u001b[0;34m=\u001b[0m\u001b[0mics\u001b[0m\u001b[0;34m,\u001b[0m\u001b[0;34m\u001b[0m\u001b[0;34m\u001b[0m\u001b[0m\n\u001b[0;32m--> 641\u001b[0;31m             x0=x0, n=n, **kwargs)\n\u001b[0m\u001b[1;32m    642\u001b[0m \u001b[0;34m\u001b[0m\u001b[0m\n\u001b[1;32m    643\u001b[0m         \u001b[0meq\u001b[0m \u001b[0;34m=\u001b[0m \u001b[0mhints\u001b[0m\u001b[0;34m.\u001b[0m\u001b[0mpop\u001b[0m\u001b[0;34m(\u001b[0m\u001b[0;34m'eq'\u001b[0m\u001b[0;34m,\u001b[0m \u001b[0meq\u001b[0m\u001b[0;34m)\u001b[0m\u001b[0;34m\u001b[0m\u001b[0;34m\u001b[0m\u001b[0m\n",
      "\u001b[0;32m~/anaconda3/lib/python3.7/site-packages/sympy/solvers/deutils.py\u001b[0m in \u001b[0;36m_desolve\u001b[0;34m(eq, func, hint, ics, simplify, **kwargs)\u001b[0m\n\u001b[1;32m    233\u001b[0m             \u001b[0;32mraise\u001b[0m \u001b[0mValueError\u001b[0m\u001b[0;34m(\u001b[0m\u001b[0mstring\u001b[0m \u001b[0;34m+\u001b[0m \u001b[0mstr\u001b[0m\u001b[0;34m(\u001b[0m\u001b[0meq\u001b[0m\u001b[0;34m)\u001b[0m \u001b[0;34m+\u001b[0m \u001b[0;34m\" does not match hint \"\u001b[0m \u001b[0;34m+\u001b[0m \u001b[0mhint\u001b[0m\u001b[0;34m)\u001b[0m\u001b[0;34m\u001b[0m\u001b[0;34m\u001b[0m\u001b[0m\n\u001b[1;32m    234\u001b[0m         \u001b[0;32melse\u001b[0m\u001b[0;34m:\u001b[0m\u001b[0;34m\u001b[0m\u001b[0;34m\u001b[0m\u001b[0m\n\u001b[0;32m--> 235\u001b[0;31m             \u001b[0;32mraise\u001b[0m \u001b[0mNotImplementedError\u001b[0m\u001b[0;34m(\u001b[0m\u001b[0mdummy\u001b[0m \u001b[0;34m+\u001b[0m \u001b[0;34m\"solve\"\u001b[0m \u001b[0;34m+\u001b[0m \u001b[0;34m\": Cannot solve \"\u001b[0m \u001b[0;34m+\u001b[0m \u001b[0mstr\u001b[0m\u001b[0;34m(\u001b[0m\u001b[0meq\u001b[0m\u001b[0;34m)\u001b[0m\u001b[0;34m)\u001b[0m\u001b[0;34m\u001b[0m\u001b[0;34m\u001b[0m\u001b[0m\n\u001b[0m\u001b[1;32m    236\u001b[0m     \u001b[0;32mif\u001b[0m \u001b[0mhint\u001b[0m \u001b[0;34m==\u001b[0m \u001b[0;34m'default'\u001b[0m\u001b[0;34m:\u001b[0m\u001b[0;34m\u001b[0m\u001b[0;34m\u001b[0m\u001b[0m\n\u001b[1;32m    237\u001b[0m         return _desolve(eq, func, ics=ics, hint=hints['default'], simplify=simplify,\n",
      "\u001b[0;31mNotImplementedError\u001b[0m: solve: Cannot solve 2*f(x)*Derivative(f(x), (x, 2)) - Derivative(f(x), x)**2 - 1"
     ]
    }
   ],
   "source": [
    "dsolve(system,y)"
   ]
  },
  {
   "cell_type": "markdown",
   "metadata": {},
   "source": [
    "使用参数方程，求摆线的y=f(x)"
   ]
  },
  {
   "cell_type": "code",
   "execution_count": 7,
   "metadata": {},
   "outputs": [],
   "source": [
    "v,t,r,w=symbols('v t r w')\n",
    "x=v*t+r*cos(w*t)\n",
    "y=r+r*sin(w*t)"
   ]
  },
  {
   "cell_type": "code",
   "execution_count": 8,
   "metadata": {},
   "outputs": [
    {
     "data": {
      "image/png": "[encoded data removed]",
      "text/latex": [
       "$\\displaystyle \\left( r w \\cos{\\left(t w \\right)}, \\  - r w \\sin{\\left(t w \\right)} + v\\right)$"
      ],
      "text/plain": [
       "(r⋅w⋅cos(t⋅w), -r⋅w⋅sin(t⋅w) + v)"
      ]
     },
     "execution_count": 8,
     "metadata": {},
     "output_type": "execute_result"
    }
   ],
   "source": [
    "y.diff(t),x.diff(t)"
   ]
  },
  {
   "cell_type": "code",
   "execution_count": 11,
   "metadata": {},
   "outputs": [],
   "source": [
    "yy=y.diff(t)/x.diff(t)"
   ]
  },
  {
   "cell_type": "code",
   "execution_count": 12,
   "metadata": {},
   "outputs": [
    {
     "data": {
      "image/png": "[encoded data removed]",
      "text/latex": [
       "$\\displaystyle \\frac{r w \\cos{\\left(t w \\right)}}{- r w \\sin{\\left(t w \\right)} + v}$"
      ],
      "text/plain": [
       "   r⋅w⋅cos(t⋅w)  \n",
       "─────────────────\n",
       "-r⋅w⋅sin(t⋅w) + v"
      ]
     },
     "execution_count": 12,
     "metadata": {},
     "output_type": "execute_result"
    }
   ],
   "source": [
    "yy"
   ]
  },
  {
   "cell_type": "code",
   "execution_count": 13,
   "metadata": {},
   "outputs": [
    {
     "data": {
      "image/png": "[encoded data removed]",
      "text/latex": [
       "$\\displaystyle \\frac{\\frac{r^{2} w^{3} \\cos^{2}{\\left(t w \\right)}}{\\left(- r w \\sin{\\left(t w \\right)} + v\\right)^{2}} - \\frac{r w^{2} \\sin{\\left(t w \\right)}}{- r w \\sin{\\left(t w \\right)} + v}}{- r w \\sin{\\left(t w \\right)} + v}$"
      ],
      "text/plain": [
       "   2  3    2                2           \n",
       "  r ⋅w ⋅cos (t⋅w)        r⋅w ⋅sin(t⋅w)  \n",
       "──────────────────── - ─────────────────\n",
       "                   2   -r⋅w⋅sin(t⋅w) + v\n",
       "(-r⋅w⋅sin(t⋅w) + v)                     \n",
       "────────────────────────────────────────\n",
       "           -r⋅w⋅sin(t⋅w) + v            "
      ]
     },
     "execution_count": 13,
     "metadata": {},
     "output_type": "execute_result"
    }
   ],
   "source": [
    "yyy=yy.diff(t)/x.diff(t)\n",
    "yyy"
   ]
  },
  {
   "cell_type": "code",
   "execution_count": 14,
   "metadata": {},
   "outputs": [],
   "source": [
    "system=yyy*y-1-yy**2"
   ]
  },
  {
   "cell_type": "code",
   "execution_count": 15,
   "metadata": {},
   "outputs": [
    {
     "data": {
      "image/png": "[encoded data removed]",
      "text/latex": [
       "$\\displaystyle - \\frac{r^{2} w^{2} \\cos^{2}{\\left(t w \\right)}}{\\left(- r w \\sin{\\left(t w \\right)} + v\\right)^{2}} + \\frac{\\left(r \\sin{\\left(t w \\right)} + r\\right) \\left(\\frac{r^{2} w^{3} \\cos^{2}{\\left(t w \\right)}}{\\left(- r w \\sin{\\left(t w \\right)} + v\\right)^{2}} - \\frac{r w^{2} \\sin{\\left(t w \\right)}}{- r w \\sin{\\left(t w \\right)} + v}\\right)}{- r w \\sin{\\left(t w \\right)} + v} - 1$"
      ],
      "text/plain": [
       "                                          ⎛   2  3    2                2      \n",
       "                                          ⎜  r ⋅w ⋅cos (t⋅w)        r⋅w ⋅sin(t\n",
       "                         (r⋅sin(t⋅w) + r)⋅⎜──────────────────── - ────────────\n",
       "     2  2    2                            ⎜                   2   -r⋅w⋅sin(t⋅w\n",
       "    r ⋅w ⋅cos (t⋅w)                       ⎝(-r⋅w⋅sin(t⋅w) + v)                \n",
       "- ──────────────────── + ─────────────────────────────────────────────────────\n",
       "                     2                        -r⋅w⋅sin(t⋅w) + v               \n",
       "  (-r⋅w⋅sin(t⋅w) + v)                                                         \n",
       "\n",
       "     ⎞    \n",
       "⋅w)  ⎟    \n",
       "─────⎟    \n",
       ") + v⎟    \n",
       "     ⎠    \n",
       "────── - 1\n",
       "          \n",
       "          "
      ]
     },
     "execution_count": 15,
     "metadata": {},
     "output_type": "execute_result"
    }
   ],
   "source": [
    "system"
   ]
  },
  {
   "cell_type": "code",
   "execution_count": 16,
   "metadata": {},
   "outputs": [
    {
     "data": {
      "image/png": "[encoded data removed]",
      "text/latex": [
       "$\\displaystyle \\frac{- 2 r^{3} w^{3} \\sin{\\left(t w \\right)} - r^{3} w^{3} + 3 r^{2} v w^{2} \\sin^{2}{\\left(t w \\right)} + r^{2} v w^{2} \\sin{\\left(t w \\right)} + r^{2} v w^{2} - 3 r v^{2} w \\sin{\\left(t w \\right)} + v^{3}}{\\left(r w \\sin{\\left(t w \\right)} - v\\right)^{3}}$"
      ],
      "text/plain": [
       "     3  3             3  3      2    2    2         2    2             2    2 \n",
       "- 2⋅r ⋅w ⋅sin(t⋅w) - r ⋅w  + 3⋅r ⋅v⋅w ⋅sin (t⋅w) + r ⋅v⋅w ⋅sin(t⋅w) + r ⋅v⋅w  \n",
       "──────────────────────────────────────────────────────────────────────────────\n",
       "                                                           3                  \n",
       "                                         (r⋅w⋅sin(t⋅w) - v)                   \n",
       "\n",
       "       2               3\n",
       "- 3⋅r⋅v ⋅w⋅sin(t⋅w) + v \n",
       "────────────────────────\n",
       "                        \n",
       "                        "
      ]
     },
     "execution_count": 16,
     "metadata": {},
     "output_type": "execute_result"
    }
   ],
   "source": [
    "simplify(system)"
   ]
  },
  {
   "cell_type": "code",
   "execution_count": 5,
   "metadata": {},
   "outputs": [
    {
     "data": {
      "image/png": "[encoded data removed]",
      "text/latex": [
       "$\\displaystyle 2 \\sqrt{x - 1}$"
      ],
      "text/plain": [
       "    _______\n",
       "2⋅╲╱ x - 1 "
      ]
     },
     "execution_count": 5,
     "metadata": {},
     "output_type": "execute_result"
    }
   ],
   "source": [
    "integrate(1/sqrt(x-1),x)"
   ]
  }
 ],
 "metadata": {
  "kernelspec": {
   "display_name": "Python 3",
   "language": "python",
   "name": "python3"
  },
  "language_info": {
   "codemirror_mode": {
    "name": "ipython",
    "version": 3
   },
   "file_extension": ".py",
   "mimetype": "text/x-python",
   "name": "python",
   "nbconvert_exporter": "python",
   "pygments_lexer": "ipython3",
   "version": "3.7.4"
  }
 },
 "nbformat": 4,
 "nbformat_minor": 2
}

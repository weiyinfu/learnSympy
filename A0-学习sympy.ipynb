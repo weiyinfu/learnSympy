{
 "cells": [
  {
   "cell_type": "markdown",
   "metadata": {},
   "source": [
    "学习sympy时根据[官方文档](https://docs.sympy.org/latest/index.html)编写的笔记。  \n",
    "sympy是一个纯python写成的符号运算库，它有29万行代码。  \n",
    "学习路线：\n",
    "1. 按顺序阅读官方文档，边读边操作\n",
    "2. 阅读官方文档module部分，并阅读对应部分的代码\n",
    "  * 一边调试，一边阅读代码，使用winpdb工具，或者使用IDE的调试工具\n",
    "\n",
    "官方文档导读：\n",
    "* SymPy Tutorial:这是最主要的教程，它的特点是简单易懂，不涉及实现，只涉及用法。\n",
    "* Gotchas and Pitfalls:Sympy中的易混淆点和程序员必须明白的概念。\n",
    "* SymPy User’s Guide:Sympy用户指南，它的特点是简短，提纲契领，宏观笼统。\n",
    "* SymPy Modules Reference:这是API详细介绍，涉及全部细节。\n",
    "* 其余：其余内容都不重要，可以跳过。其中特殊主题中对[有限差商](https://docs.sympy.org/latest/special_topics/finite_diff_derivatives.html)进行了介绍。  \n",
    "\n",
    "sympy相关的工具：\n",
    "* isympy是ipython中专门给sympy封装的命令行工具。  \n",
    "* sage是python世界中的matlab，maple，mathematic。 "
   ]
  },
  {
   "cell_type": "markdown",
   "metadata": {},
   "source": [
    "# 快速浏览"
   ]
  },
  {
   "cell_type": "code",
   "execution_count": 4,
   "metadata": {},
   "outputs": [],
   "source": [
    "from sympy import *\n",
    "import numpy as np\n",
    "\n",
    "# 使用这句话进行初始化，可以使公式变得美观\n",
    "init_printing()"
   ]
  },
  {
   "cell_type": "code",
   "execution_count": 4,
   "metadata": {},
   "outputs": [],
   "source": [
    "x=Symbol('x')"
   ]
  },
  {
   "cell_type": "code",
   "execution_count": 13,
   "metadata": {},
   "outputs": [
    {
     "data": {
      "image/png": "[encoded data removed]",
      "text/latex": [
       "$\\displaystyle 1$"
      ],
      "text/plain": [
       "1"
      ]
     },
     "execution_count": 13,
     "metadata": {},
     "output_type": "execute_result"
    }
   ],
   "source": [
    "# 求极限\n",
    "limit(ss.sin(x)/x,x,0)"
   ]
  },
  {
   "cell_type": "code",
   "execution_count": 14,
   "metadata": {},
   "outputs": [
    {
     "data": {
      "image/png": "[encoded data removed]",
      "text/latex": [
       "$\\displaystyle \\log{\\left(x + 1 \\right)} - \\log{\\left(x + 2 \\right)}$"
      ],
      "text/plain": [
       "log(x + 1) - log(x + 2)"
      ]
     },
     "execution_count": 14,
     "metadata": {},
     "output_type": "execute_result"
    }
   ],
   "source": [
    "# 求不定积分\n",
    "integrate(1/(x**2+3*x+2),x)"
   ]
  },
  {
   "cell_type": "code",
   "execution_count": 29,
   "metadata": {},
   "outputs": [
    {
     "data": {
      "image/png": "[encoded data removed]",
      "text/latex": [
       "$\\displaystyle \\frac{\\sqrt{2} \\sqrt{\\pi}}{2}$"
      ],
      "text/plain": [
       "√2⋅√π\n",
       "─────\n",
       "  2  "
      ]
     },
     "execution_count": 29,
     "metadata": {},
     "output_type": "execute_result"
    }
   ],
   "source": [
    "# 求定积分\n",
    "integrate(sin(x*x),(x,-oo,oo))"
   ]
  },
  {
   "cell_type": "code",
   "execution_count": 30,
   "metadata": {},
   "outputs": [
    {
     "data": {
      "image/png": "[encoded data removed]",
      "text/latex": [
       "$\\displaystyle - \\frac{\\sqrt{\\pi} \\operatorname{erf}{\\left(1 \\right)}}{2} + \\frac{\\sqrt{\\pi} \\operatorname{erf}{\\left(2 \\right)}}{2}$"
      ],
      "text/plain": [
       "  √π⋅erf(1)   √π⋅erf(2)\n",
       "- ───────── + ─────────\n",
       "      2           2    "
      ]
     },
     "execution_count": 30,
     "metadata": {},
     "output_type": "execute_result"
    }
   ],
   "source": [
    "# 高斯函数没有原函数，看它如何积分\n",
    "integrate(exp(-x*x),(x,1,2))"
   ]
  },
  {
   "cell_type": "code",
   "execution_count": 28,
   "metadata": {},
   "outputs": [
    {
     "name": "stdout",
     "output_type": "stream",
     "text": [
      "-2*x*exp(-x**2)\n",
      "4*x**2*exp(-x**2) - 2*exp(-x**2)\n",
      "-8*x**3*exp(-x**2) + 12*x*exp(-x**2)\n",
      "16*x**4*exp(-x**2) - 48*x**2*exp(-x**2) + 12*exp(-x**2)\n",
      "-32*x**5*exp(-x**2) + 160*x**3*exp(-x**2) - 120*x*exp(-x**2)\n"
     ]
    }
   ],
   "source": [
    "# 对高斯函数求导数\n",
    "now=exp(-x*x)\n",
    "for i in range(5):\n",
    "    now=diff(now,x)# 对x求导\n",
    "    print(now)"
   ]
  },
  {
   "cell_type": "code",
   "execution_count": 17,
   "metadata": {},
   "outputs": [
    {
     "data": {
      "image/png": "[encoded data removed]",
      "text/latex": [
       "$\\displaystyle \\int e^{x} \\cos{\\left(x \\right)}\\, dx = \\frac{e^{x} \\sin{\\left(x \\right)}}{2} + \\frac{e^{x} \\cos{\\left(x \\right)}}{2}$"
      ],
      "text/plain": [
       "⌠                 x           x       \n",
       "⎮  x             ℯ ⋅sin(x)   ℯ ⋅cos(x)\n",
       "⎮ ℯ ⋅cos(x) dx = ───────── + ─────────\n",
       "⌡                    2           2    "
      ]
     },
     "execution_count": 17,
     "metadata": {},
     "output_type": "execute_result"
    }
   ],
   "source": [
    "# 积分也可以是一个类\n",
    "a=Integral(exp(x)*cos(x))\n",
    "# Eq表示等号，它也是一种运算符号，在sympy中，一切皆运算符号\n",
    "Eq(a,a.doit())"
   ]
  },
  {
   "cell_type": "code",
   "execution_count": 19,
   "metadata": {},
   "outputs": [
    {
     "data": {
      "image/png": "[encoded data removed]",
      "text/latex": [
       "$\\displaystyle \\int x^{2} e^{- x^{2}}\\, dx = - \\frac{x e^{- x^{2}}}{2} + \\frac{\\sqrt{\\pi} \\operatorname{erf}{\\left(x \\right)}}{4}$"
      ],
      "text/plain": [
       "⌠                     2            \n",
       "⎮       2           -x             \n",
       "⎮  2  -x         x⋅ℯ      √π⋅erf(x)\n",
       "⎮ x ⋅ℯ    dx = - ────── + ─────────\n",
       "⌡                  2          4    "
      ]
     },
     "execution_count": 19,
     "metadata": {},
     "output_type": "execute_result"
    }
   ],
   "source": [
    "a=Integral(x*x*exp(-x*x))\n",
    "Eq(a,a.doit())"
   ]
  },
  {
   "cell_type": "code",
   "execution_count": 23,
   "metadata": {},
   "outputs": [
    {
     "data": {
      "image/png": "[encoded data removed]",
      "text/latex": [
       "$\\displaystyle \\left( x^{2} + 2 x y, \\  x \\left(x + 2 y\\right)\\right)$"
      ],
      "text/plain": [
       "⎛ 2                     ⎞\n",
       "⎝x  + 2⋅x⋅y, x⋅(x + 2⋅y)⎠"
      ]
     },
     "execution_count": 23,
     "metadata": {},
     "output_type": "execute_result"
    }
   ],
   "source": [
    "x,y=symbols('x y')\n",
    "z=(x+2*y)*x\n",
    "# 展开与因式分解\n",
    "expand(z),factor(z)"
   ]
  },
  {
   "cell_type": "code",
   "execution_count": 32,
   "metadata": {},
   "outputs": [
    {
     "data": {
      "image/png": "[encoded data removed]",
      "text/latex": [
       "$\\displaystyle \\left[ - \\sqrt{2}, \\  \\sqrt{2}\\right]$"
      ],
      "text/plain": [
       "[-√2, √2]"
      ]
     },
     "execution_count": 32,
     "metadata": {},
     "output_type": "execute_result"
    }
   ],
   "source": [
    "# 解方程\n",
    "solve(x*x-2,x)"
   ]
  },
  {
   "cell_type": "code",
   "execution_count": 34,
   "metadata": {},
   "outputs": [
    {
     "data": {
      "image/png": "[encoded data removed]",
      "text/latex": [
       "$\\displaystyle \\left[ - \\frac{2}{3} - \\frac{1}{3 \\left(- \\frac{1}{2} - \\frac{\\sqrt{3} i}{2}\\right) \\sqrt[3]{\\frac{3 \\sqrt{69}}{2} + \\frac{25}{2}}} - \\frac{\\left(- \\frac{1}{2} - \\frac{\\sqrt{3} i}{2}\\right) \\sqrt[3]{\\frac{3 \\sqrt{69}}{2} + \\frac{25}{2}}}{3}, \\  - \\frac{2}{3} - \\frac{\\left(- \\frac{1}{2} + \\frac{\\sqrt{3} i}{2}\\right) \\sqrt[3]{\\frac{3 \\sqrt{69}}{2} + \\frac{25}{2}}}{3} - \\frac{1}{3 \\left(- \\frac{1}{2} + \\frac{\\sqrt{3} i}{2}\\right) \\sqrt[3]{\\frac{3 \\sqrt{69}}{2} + \\frac{25}{2}}}, \\  - \\frac{\\sqrt[3]{\\frac{3 \\sqrt{69}}{2} + \\frac{25}{2}}}{3} - \\frac{2}{3} - \\frac{1}{3 \\sqrt[3]{\\frac{3 \\sqrt{69}}{2} + \\frac{25}{2}}}\\right]$"
      ],
      "text/plain": [
       "⎡                                                         ____________        \n",
       "⎢                                        ⎛  1   √3⋅ⅈ⎞    ╱ 3⋅√69   25         \n",
       "⎢                                        ⎜- ─ - ────⎟⋅3 ╱  ───── + ──         \n",
       "⎢  2                  1                  ⎝  2    2  ⎠ ╲╱     2     2      2   \n",
       "⎢- ─ - ─────────────────────────────── - ─────────────────────────────, - ─ - \n",
       "⎢  3                      ____________                 3                  3   \n",
       "⎢        ⎛  1   √3⋅ⅈ⎞    ╱ 3⋅√69   25                                         \n",
       "⎢      3⋅⎜- ─ - ────⎟⋅3 ╱  ───── + ──                                         \n",
       "⎣        ⎝  2    2  ⎠ ╲╱     2     2                                          \n",
       "\n",
       "                 ____________                                          _______\n",
       "⎛  1   √3⋅ⅈ⎞    ╱ 3⋅√69   25                                          ╱ 3⋅√69 \n",
       "⎜- ─ + ────⎟⋅3 ╱  ───── + ──                                       3 ╱  ───── \n",
       "⎝  2    2  ⎠ ╲╱     2     2                    1                   ╲╱     2   \n",
       "───────────────────────────── - ───────────────────────────────, - ───────────\n",
       "              3                                    ____________           3   \n",
       "                                  ⎛  1   √3⋅ⅈ⎞    ╱ 3⋅√69   25                \n",
       "                                3⋅⎜- ─ + ────⎟⋅3 ╱  ───── + ──                \n",
       "                                  ⎝  2    2  ⎠ ╲╱     2     2                 \n",
       "\n",
       "_____                         ⎤\n",
       "  25                          ⎥\n",
       "+ ──                          ⎥\n",
       "  2     2           1         ⎥\n",
       "───── - ─ - ──────────────────⎥\n",
       "        3         ____________⎥\n",
       "                 ╱ 3⋅√69   25 ⎥\n",
       "            3⋅3 ╱  ───── + ── ⎥\n",
       "              ╲╱     2     2  ⎦"
      ]
     },
     "execution_count": 34,
     "metadata": {},
     "output_type": "execute_result"
    }
   ],
   "source": [
    "solve(x**3+2*x**2+x+1,x)"
   ]
  },
  {
   "cell_type": "code",
   "execution_count": 91,
   "metadata": {},
   "outputs": [
    {
     "data": {
      "image/png": "[encoded data removed]",
      "text/latex": [
       "$\\displaystyle \\left( x^{2} + x + 1, \\  \\left(x + 1\\right)^{2}\\right)$"
      ],
      "text/plain": [
       "⎛ 2                 2⎞\n",
       "⎝x  + x + 1, (x + 1) ⎠"
      ]
     },
     "execution_count": 91,
     "metadata": {},
     "output_type": "execute_result"
    }
   ],
   "source": [
    "factor(x**2+x+1),factor(x**2+2*x+1)"
   ]
  },
  {
   "cell_type": "code",
   "execution_count": 59,
   "metadata": {},
   "outputs": [
    {
     "data": {
      "image/png": "[encoded data removed]",
      "text/latex": [
       "$\\displaystyle \\left[ \\operatorname{CRootOf} {\\left(x^{7} + 3 x^{3} + 2 x + 1, 0\\right)}, \\  \\operatorname{CRootOf} {\\left(x^{7} + 3 x^{3} + 2 x + 1, 1\\right)}, \\  \\operatorname{CRootOf} {\\left(x^{7} + 3 x^{3} + 2 x + 1, 2\\right)}, \\  \\operatorname{CRootOf} {\\left(x^{7} + 3 x^{3} + 2 x + 1, 3\\right)}, \\  \\operatorname{CRootOf} {\\left(x^{7} + 3 x^{3} + 2 x + 1, 4\\right)}, \\  \\operatorname{CRootOf} {\\left(x^{7} + 3 x^{3} + 2 x + 1, 5\\right)}, \\  \\operatorname{CRootOf} {\\left(x^{7} + 3 x^{3} + 2 x + 1, 6\\right)}\\right]$"
      ],
      "text/plain": [
       "⎡       ⎛ 7      3             ⎞         ⎛ 7      3             ⎞         ⎛ 7 \n",
       "⎣CRootOf⎝x  + 3⋅x  + 2⋅x + 1, 0⎠, CRootOf⎝x  + 3⋅x  + 2⋅x + 1, 1⎠, CRootOf⎝x  \n",
       "\n",
       "     3             ⎞         ⎛ 7      3             ⎞         ⎛ 7      3      \n",
       "+ 3⋅x  + 2⋅x + 1, 2⎠, CRootOf⎝x  + 3⋅x  + 2⋅x + 1, 3⎠, CRootOf⎝x  + 3⋅x  + 2⋅x\n",
       "\n",
       "       ⎞         ⎛ 7      3             ⎞         ⎛ 7      3             ⎞⎤\n",
       " + 1, 4⎠, CRootOf⎝x  + 3⋅x  + 2⋅x + 1, 5⎠, CRootOf⎝x  + 3⋅x  + 2⋅x + 1, 6⎠⎦"
      ]
     },
     "execution_count": 59,
     "metadata": {},
     "output_type": "execute_result"
    }
   ],
   "source": [
    "solve(x**7+3*x**3+2*x+1,x)"
   ]
  },
  {
   "cell_type": "code",
   "execution_count": 40,
   "metadata": {},
   "outputs": [
    {
     "data": {
      "image/png": "[encoded data removed]",
      "text/latex": [
       "$\\displaystyle - y{\\left(t \\right)} + \\frac{d^{2}}{d t^{2}} y{\\left(t \\right)} = e^{t}$"
      ],
      "text/plain": [
       "          2           \n",
       "         d           t\n",
       "-y(t) + ───(y(t)) = ℯ \n",
       "          2           \n",
       "        dt            "
      ]
     },
     "execution_count": 40,
     "metadata": {},
     "output_type": "execute_result"
    }
   ],
   "source": [
    "# 求解差分方程\n",
    "y=Function('y')\n",
    "t=symbols('t')\n",
    "diff_equation=Eq(y(t).diff(t,t)-y(t),exp(t))\n",
    "diff_equation "
   ]
  },
  {
   "cell_type": "code",
   "execution_count": 41,
   "metadata": {},
   "outputs": [
    {
     "data": {
      "image/png": "[encoded data removed]",
      "text/latex": [
       "$\\displaystyle y{\\left(t \\right)} = C_{2} e^{- t} + \\left(C_{1} + \\frac{t}{2}\\right) e^{t}$"
      ],
      "text/plain": [
       "           -t   ⎛     t⎞  t\n",
       "y(t) = C₂⋅ℯ   + ⎜C₁ + ─⎟⋅ℯ \n",
       "                ⎝     2⎠   "
      ]
     },
     "execution_count": 41,
     "metadata": {},
     "output_type": "execute_result"
    }
   ],
   "source": [
    "dsolve(diff_equation,y(t))"
   ]
  },
  {
   "cell_type": "code",
   "execution_count": 57,
   "metadata": {},
   "outputs": [
    {
     "data": {
      "image/png": "[encoded data removed]",
      "text/latex": [
       "$\\displaystyle \\left\\{ \\frac{5}{2} - \\frac{\\sqrt{33}}{2} : 1, \\  \\frac{5}{2} + \\frac{\\sqrt{33}}{2} : 1\\right\\}$"
      ],
      "text/plain": [
       "⎧5   √33     5   √33   ⎫\n",
       "⎨─ - ───: 1, ─ + ───: 1⎬\n",
       "⎩2    2      2    2    ⎭"
      ]
     },
     "execution_count": 57,
     "metadata": {},
     "output_type": "execute_result"
    }
   ],
   "source": [
    "# 矩阵求特征值\n",
    "Matrix([[1,2],[3,4]]).eigenvals()\n",
    "# 输出中key表示特征值，value表示特征值的重数"
   ]
  },
  {
   "cell_type": "code",
   "execution_count": 122,
   "metadata": {},
   "outputs": [
    {
     "data": {
      "text/plain": [
       "(True, True)"
      ]
     },
     "execution_count": 122,
     "metadata": {},
     "output_type": "execute_result"
    }
   ],
   "source": [
    "# sympy 中判断相等\n",
    "x.equals(x),(x*(x+1)).equals(x*x+x)"
   ]
  },
  {
   "cell_type": "code",
   "execution_count": 126,
   "metadata": {},
   "outputs": [
    {
     "data": {
      "image/png": "[encoded data removed]",
      "text/latex": [
       "$\\displaystyle \\left( \\frac{1}{3}, \\  \\frac{1}{3}, \\  \\frac{1}{3}\\right)$"
      ],
      "text/plain": [
       "(1/3, 1/3, 1/3)"
      ]
     },
     "execution_count": 126,
     "metadata": {},
     "output_type": "execute_result"
    }
   ],
   "source": [
    "# 分数\n",
    "Integer(1)/Integer(3),Rational(1,3),sympify('1/3')"
   ]
  },
  {
   "cell_type": "code",
   "execution_count": 70,
   "metadata": {},
   "outputs": [
    {
     "data": {
      "image/png": "[encoded data removed]",
      "text/latex": [
       "$\\displaystyle - \\left(x - 2\\right)^{2} + \\left(x + 3\\right)^{3}$"
      ],
      "text/plain": [
       "         2          3\n",
       "- (x - 2)  + (x + 3) "
      ]
     },
     "execution_count": 70,
     "metadata": {},
     "output_type": "execute_result"
    }
   ],
   "source": [
    "# 直接代入字符串，simplify函数能够将字符串转换成表达式\n",
    "simplify('(x+3)**3-(x-2)**2')"
   ]
  },
  {
   "cell_type": "markdown",
   "metadata": {},
   "source": [
    "# 替换，代入，求值"
   ]
  },
  {
   "cell_type": "markdown",
   "metadata": {},
   "source": [
    "下面开始讲三种代入\n",
    "* subs：在sympy中继续玩，用一个表达式替换另一个表达式\n",
    "* evalf:与数值发生关联，用数值替换符号\n",
    "* lambdify:与numpy发生关联"
   ]
  },
  {
   "cell_type": "code",
   "execution_count": 129,
   "metadata": {},
   "outputs": [
    {
     "data": {
      "image/png": "[encoded data removed]",
      "text/latex": [
       "$\\displaystyle \\sin{\\left(x \\right)}$"
      ],
      "text/plain": [
       "sin(x)"
      ]
     },
     "execution_count": 129,
     "metadata": {},
     "output_type": "execute_result"
    }
   ],
   "source": [
    "# 把一个符号替换成另一个符号\n",
    "x,y=symbols('x,y')\n",
    "z=sin(x)\n",
    "z"
   ]
  },
  {
   "cell_type": "code",
   "execution_count": 130,
   "metadata": {},
   "outputs": [
    {
     "data": {
      "image/png": "[encoded data removed]",
      "text/latex": [
       "$\\displaystyle \\sin{\\left(y \\right)}$"
      ],
      "text/plain": [
       "sin(y)"
      ]
     },
     "execution_count": 130,
     "metadata": {},
     "output_type": "execute_result"
    }
   ],
   "source": [
    "z.subs(x,y)"
   ]
  },
  {
   "cell_type": "code",
   "execution_count": 131,
   "metadata": {},
   "outputs": [
    {
     "data": {
      "image/png": "[encoded data removed]",
      "text/latex": [
       "$\\displaystyle \\sin{\\left(y^{2} \\right)}$"
      ],
      "text/plain": [
       "   ⎛ 2⎞\n",
       "sin⎝y ⎠"
      ]
     },
     "execution_count": 131,
     "metadata": {},
     "output_type": "execute_result"
    }
   ],
   "source": [
    "z.subs(x,y*y)"
   ]
  },
  {
   "cell_type": "code",
   "execution_count": 132,
   "metadata": {},
   "outputs": [
    {
     "data": {
      "image/png": "[encoded data removed]",
      "text/latex": [
       "$\\displaystyle \\left( \\sin{\\left(3 \\right)}, \\  \\sin{\\left(3 \\right)}\\right)$"
      ],
      "text/plain": [
       "(sin(3), sin(3))"
      ]
     },
     "execution_count": 132,
     "metadata": {},
     "output_type": "execute_result"
    }
   ],
   "source": [
    "# 可以代入数字\n",
    "z.subs(x,3),z.subs(x,Integer(3))"
   ]
  },
  {
   "cell_type": "code",
   "execution_count": 68,
   "metadata": {},
   "outputs": [
    {
     "data": {
      "image/png": "[encoded data removed]",
      "text/latex": [
       "$\\displaystyle \\sin{\\left(12 \\right)}$"
      ],
      "text/plain": [
       "sin(12)"
      ]
     },
     "execution_count": 68,
     "metadata": {},
     "output_type": "execute_result"
    }
   ],
   "source": [
    "# 同时替换多个变量\n",
    "z=sin(x*y)\n",
    "z.subs([(x,3),(y,4)])"
   ]
  },
  {
   "cell_type": "code",
   "execution_count": 74,
   "metadata": {},
   "outputs": [
    {
     "data": {
      "image/png": "[encoded data removed]",
      "text/latex": [
       "$\\displaystyle \\left( \\sin{\\left(x y \\right)}, \\  \\sin{\\left(x y \\right)}, \\  -0.536572918000435, \\  3.141592654\\right)$"
      ],
      "text/plain": [
       "(sin(x⋅y), sin(x⋅y), -0.536572918000435, 3.141592654)"
      ]
     },
     "execution_count": 74,
     "metadata": {},
     "output_type": "execute_result"
    }
   ],
   "source": [
    "# 可以对z求具体数值，如果传入的参数不对，就保持原样\n",
    "z.evalf(),z.evalf(3),z.evalf(subs={x:3,y:4}),pi.evalf(10)"
   ]
  },
  {
   "cell_type": "code",
   "execution_count": 77,
   "metadata": {},
   "outputs": [
    {
     "name": "stdout",
     "output_type": "stream",
     "text": [
      "0.1411200080598672\n"
     ]
    },
    {
     "data": {
      "text/plain": [
       "array([ 0.        ,  0.84147098,  0.90929743,  0.14112001, -0.7568025 ,\n",
       "       -0.95892427, -0.2794155 ,  0.6569866 ,  0.98935825,  0.41211849])"
      ]
     },
     "execution_count": 77,
     "metadata": {},
     "output_type": "execute_result"
    }
   ],
   "source": [
    "import numpy as np\n",
    "a=np.arange(10)\n",
    "x=symbols('x')\n",
    "y=sin(x)\n",
    "f=lambdify(x,y,'math')\n",
    "print(f(3))# f(a)会报错\n",
    "ff=lambdify(x,y,'numpy')\n",
    "ff(a)"
   ]
  },
  {
   "cell_type": "code",
   "execution_count": 80,
   "metadata": {},
   "outputs": [
    {
     "data": {
      "text/plain": [
       "array([ 0.        ,  0.84147098,  0.90929743,  0.14112001, -0.7568025 ,\n",
       "       -0.95892427, -0.2794155 ,  0.6569866 ,  0.98935825,  0.41211849])"
      ]
     },
     "execution_count": 80,
     "metadata": {},
     "output_type": "execute_result"
    }
   ],
   "source": [
    "# lambdify还可以自定义求值函数\n",
    "fff=lambdify(x,y,{'sin':np.sin})\n",
    "fff(a)"
   ]
  },
  {
   "cell_type": "markdown",
   "metadata": {},
   "source": [
    "# 展开，化简，变换"
   ]
  },
  {
   "cell_type": "markdown",
   "metadata": {},
   "source": [
    "展开"
   ]
  },
  {
   "cell_type": "code",
   "execution_count": 66,
   "metadata": {},
   "outputs": [
    {
     "data": {
      "image/png": "[encoded data removed]",
      "text/latex": [
       "$\\displaystyle - 4 \\sin^{3}{\\left(x \\right)} + 3 \\sin{\\left(x \\right)}$"
      ],
      "text/plain": [
       "       3              \n",
       "- 4⋅sin (x) + 3⋅sin(x)"
      ]
     },
     "execution_count": 66,
     "metadata": {},
     "output_type": "execute_result"
    }
   ],
   "source": [
    "# 把三角函数展开成sin和cos的组合\n",
    "expand_trig(sin(3*x))"
   ]
  },
  {
   "cell_type": "code",
   "execution_count": 67,
   "metadata": {},
   "outputs": [
    {
     "data": {
      "image/png": "[encoded data removed]",
      "text/latex": [
       "$\\displaystyle x^{6} + 3 x^{5} + 6 x^{4} + 7 x^{3} + 6 x^{2} + 3 x + 1$"
      ],
      "text/plain": [
       " 6      5      4      3      2          \n",
       "x  + 3⋅x  + 6⋅x  + 7⋅x  + 6⋅x  + 3⋅x + 1"
      ]
     },
     "execution_count": 67,
     "metadata": {},
     "output_type": "execute_result"
    }
   ],
   "source": [
    "# 多项式展开\n",
    "expand((x**2+x+1)**3)"
   ]
  },
  {
   "cell_type": "code",
   "execution_count": 82,
   "metadata": {},
   "outputs": [
    {
     "data": {
      "image/png": "[encoded data removed]",
      "text/latex": [
       "$\\displaystyle \\left( f{\\left(x \\right)}, \\  h{\\left(y \\right)}\\right)$"
      ],
      "text/plain": [
       "(f(x), h(y))"
      ]
     },
     "execution_count": 82,
     "metadata": {},
     "output_type": "execute_result"
    }
   ],
   "source": [
    "x,y=symbols('x y',integer=True)\n",
    "f,h=symbols('f h',cls=Function)\n",
    "f(x),h(y)"
   ]
  },
  {
   "cell_type": "markdown",
   "metadata": {},
   "source": [
    "simplify函数用于化简，它会尝试所有的化简方法，并选择“最简”的那一种，其中最简的定义是sympy内置的，可能并不符合用户期望。\n",
    "simplify会尝试sympy内置的化简变换，是一种尽力而为的函数，对化简结果不做任何保证。\n"
   ]
  },
  {
   "cell_type": "code",
   "execution_count": 86,
   "metadata": {},
   "outputs": [
    {
     "data": {
      "image/png": "[encoded data removed]",
      "text/latex": [
       "$\\displaystyle \\left(x - 2\\right) \\left(x - 1\\right)$"
      ],
      "text/plain": [
       "(x - 2)⋅(x - 1)"
      ]
     },
     "execution_count": 86,
     "metadata": {},
     "output_type": "execute_result"
    }
   ],
   "source": [
    "simplify(sin(x)**2 + cos(x)**2)"
   ]
  },
  {
   "cell_type": "code",
   "execution_count": 87,
   "metadata": {},
   "outputs": [
    {
     "data": {
      "image/png": "[encoded data removed]",
      "text/latex": [
       "$\\displaystyle x - 1$"
      ],
      "text/plain": [
       "x - 1"
      ]
     },
     "execution_count": 87,
     "metadata": {},
     "output_type": "execute_result"
    }
   ],
   "source": [
    "simplify((x**3 + x**2 - x - 1)/(x**2 + 2*x + 1))"
   ]
  },
  {
   "cell_type": "code",
   "execution_count": 88,
   "metadata": {},
   "outputs": [
    {
     "data": {
      "image/png": "[encoded data removed]",
      "text/latex": [
       "$\\displaystyle \\left(x - 2\\right) \\left(x - 1\\right)$"
      ],
      "text/plain": [
       "(x - 2)⋅(x - 1)"
      ]
     },
     "execution_count": 88,
     "metadata": {},
     "output_type": "execute_result"
    }
   ],
   "source": [
    "simplify(gamma(x)/gamma(x - 2))"
   ]
  },
  {
   "cell_type": "code",
   "execution_count": 92,
   "metadata": {},
   "outputs": [
    {
     "data": {
      "image/png": "[encoded data removed]",
      "text/latex": [
       "$\\displaystyle \\frac{1}{2}$"
      ],
      "text/plain": [
       "1/2"
      ]
     },
     "execution_count": 92,
     "metadata": {},
     "output_type": "execute_result"
    }
   ],
   "source": [
    "simplify(Rational(3,6))"
   ]
  },
  {
   "cell_type": "code",
   "execution_count": 93,
   "metadata": {},
   "outputs": [
    {
     "data": {
      "image/png": "[encoded data removed]",
      "text/latex": [
       "$\\displaystyle \\left(x + y\\right)^{2}$"
      ],
      "text/plain": [
       "       2\n",
       "(x + y) "
      ]
     },
     "execution_count": 93,
     "metadata": {},
     "output_type": "execute_result"
    }
   ],
   "source": [
    "factor(x**2+y**2+2*x*y)"
   ]
  },
  {
   "cell_type": "code",
   "execution_count": 98,
   "metadata": {},
   "outputs": [
    {
     "data": {
      "image/png": "[encoded data removed]",
      "text/latex": [
       "$\\displaystyle \\sin^{2}{\\left(x \\right)} + \\sin{\\left(x \\right)} + 1$"
      ],
      "text/plain": [
       "   2                \n",
       "sin (x) + sin(x) + 1"
      ]
     },
     "execution_count": 98,
     "metadata": {},
     "output_type": "execute_result"
    }
   ],
   "source": [
    "factor(sin(x)**2+sin(x)+1)"
   ]
  },
  {
   "cell_type": "code",
   "execution_count": 96,
   "metadata": {},
   "outputs": [
    {
     "data": {
      "image/png": "[encoded data removed]",
      "text/latex": [
       "$\\displaystyle \\left( 2, \\  \\left[ \\left( x - y, \\  1\\right), \\  \\left( x + y, \\  1\\right)\\right]\\right)$"
      ],
      "text/plain": [
       "(2, [(x - y, 1), (x + y, 1)])"
      ]
     },
     "execution_count": 96,
     "metadata": {},
     "output_type": "execute_result"
    }
   ],
   "source": [
    "factor_list(2*x**2-2*y**2)"
   ]
  },
  {
   "cell_type": "code",
   "execution_count": 99,
   "metadata": {},
   "outputs": [
    {
     "data": {
      "image/png": "[encoded data removed]",
      "text/latex": [
       "$\\displaystyle 21$"
      ],
      "text/plain": [
       "21"
      ]
     },
     "execution_count": 99,
     "metadata": {},
     "output_type": "execute_result"
    }
   ],
   "source": [
    "factor(21)"
   ]
  },
  {
   "cell_type": "code",
   "execution_count": 107,
   "metadata": {},
   "outputs": [
    {
     "data": {
      "image/png": "[encoded data removed]",
      "text/latex": [
       "$\\displaystyle 4 x^{2} + 10 x + \\left(x + 1\\right)^{2}$"
      ],
      "text/plain": [
       "   2                 2\n",
       "4⋅x  + 10⋅x + (x + 1) "
      ]
     },
     "execution_count": 107,
     "metadata": {},
     "output_type": "execute_result"
    }
   ],
   "source": [
    "# 合并同类项，它的行为是确定的\n",
    "z=collect(3*x+4*x**2+7*x+(x+1)**2,x**2)\n",
    "z"
   ]
  },
  {
   "cell_type": "code",
   "execution_count": 108,
   "metadata": {},
   "outputs": [
    {
     "data": {
      "image/png": "[encoded data removed]",
      "text/latex": [
       "$\\displaystyle 4$"
      ],
      "text/plain": [
       "4"
      ]
     },
     "execution_count": 108,
     "metadata": {},
     "output_type": "execute_result"
    }
   ],
   "source": [
    "z.coeff(x,2)"
   ]
  },
  {
   "cell_type": "code",
   "execution_count": 109,
   "metadata": {},
   "outputs": [
    {
     "data": {
      "image/png": "[encoded data removed]",
      "text/latex": [
       "$\\displaystyle \\frac{x + 1}{x - 1}$"
      ],
      "text/plain": [
       "x + 1\n",
       "─────\n",
       "x - 1"
      ]
     },
     "execution_count": 109,
     "metadata": {},
     "output_type": "execute_result"
    }
   ],
   "source": [
    "# cancel用于化简分式形式的多项式\n",
    "cancel((x**2+2*x+1)/(x**2-1))"
   ]
  },
  {
   "cell_type": "code",
   "execution_count": 110,
   "metadata": {},
   "outputs": [
    {
     "data": {
      "image/png": "[encoded data removed]",
      "text/latex": [
       "$\\displaystyle \\frac{x + 1}{x - 1}$"
      ],
      "text/plain": [
       "x + 1\n",
       "─────\n",
       "x - 1"
      ]
     },
     "execution_count": 110,
     "metadata": {},
     "output_type": "execute_result"
    }
   ],
   "source": [
    "# simplify的功能包含cancel，但是cancel语义更明确，行为更可控\n",
    "simplify((x**2+2*x+1)/(x**2-1))"
   ]
  },
  {
   "cell_type": "code",
   "execution_count": 111,
   "metadata": {},
   "outputs": [
    {
     "data": {
      "image/png": "[encoded data removed]",
      "text/latex": [
       "$\\displaystyle x^{2} - 1$"
      ],
      "text/plain": [
       " 2    \n",
       "x  - 1"
      ]
     },
     "execution_count": 111,
     "metadata": {},
     "output_type": "execute_result"
    }
   ],
   "source": [
    "cancel(x**2-1)"
   ]
  },
  {
   "cell_type": "code",
   "execution_count": 114,
   "metadata": {},
   "outputs": [
    {
     "data": {
      "image/png": "[encoded data removed]",
      "text/latex": [
       "$\\displaystyle \\frac{x^{3} + 2 x^{2} + 3 x + 4}{5 x^{2} + 6 x + 7}$"
      ],
      "text/plain": [
       " 3      2          \n",
       "x  + 2⋅x  + 3⋅x + 4\n",
       "───────────────────\n",
       "      2            \n",
       "   5⋅x  + 6⋅x + 7  "
      ]
     },
     "execution_count": 114,
     "metadata": {},
     "output_type": "execute_result"
    }
   ],
   "source": [
    "y=(x**3+2*x**2+3*x+4)/(5*x**2+6*x+7)\n",
    "y"
   ]
  },
  {
   "cell_type": "code",
   "execution_count": 115,
   "metadata": {},
   "outputs": [
    {
     "data": {
      "image/png": "[encoded data removed]",
      "text/latex": [
       "$\\displaystyle \\frac{x^{3} + 2 x^{2} + 3 x + 4}{5 x^{2} + 6 x + 7}$"
      ],
      "text/plain": [
       " 3      2          \n",
       "x  + 2⋅x  + 3⋅x + 4\n",
       "───────────────────\n",
       "      2            \n",
       "   5⋅x  + 6⋅x + 7  "
      ]
     },
     "execution_count": 115,
     "metadata": {},
     "output_type": "execute_result"
    }
   ],
   "source": [
    "simplify(y)"
   ]
  },
  {
   "cell_type": "code",
   "execution_count": 126,
   "metadata": {
    "collapsed": true
   },
   "outputs": [
    {
     "ename": "PolynomialError",
     "evalue": "can't construct polynomials from 4*x**3 + 21*x**2 + 10*x + 12, x**4 + 5*x**3 + 5*x**2 + 4*x",
     "output_type": "error",
     "traceback": [
      "\u001b[0;31m---------------------------------------------------------------------------\u001b[0m",
      "\u001b[0;31mPolificationFailed\u001b[0m                        Traceback (most recent call last)",
      "\u001b[0;32m~/anaconda3/lib/python3.7/site-packages/sympy/polys/partfrac.py\u001b[0m in \u001b[0;36mapart\u001b[0;34m(f, x, full, **options)\u001b[0m\n\u001b[1;32m     82\u001b[0m     \u001b[0;32mtry\u001b[0m\u001b[0;34m:\u001b[0m\u001b[0;34m\u001b[0m\u001b[0;34m\u001b[0m\u001b[0m\n\u001b[0;32m---> 83\u001b[0;31m         \u001b[0;34m(\u001b[0m\u001b[0mP\u001b[0m\u001b[0;34m,\u001b[0m \u001b[0mQ\u001b[0m\u001b[0;34m)\u001b[0m\u001b[0;34m,\u001b[0m \u001b[0mopt\u001b[0m \u001b[0;34m=\u001b[0m \u001b[0mparallel_poly_from_expr\u001b[0m\u001b[0;34m(\u001b[0m\u001b[0;34m(\u001b[0m\u001b[0mP\u001b[0m\u001b[0;34m,\u001b[0m \u001b[0mQ\u001b[0m\u001b[0;34m)\u001b[0m\u001b[0;34m,\u001b[0m \u001b[0mx\u001b[0m\u001b[0;34m,\u001b[0m \u001b[0;34m**\u001b[0m\u001b[0moptions\u001b[0m\u001b[0;34m)\u001b[0m\u001b[0;34m\u001b[0m\u001b[0;34m\u001b[0m\u001b[0m\n\u001b[0m\u001b[1;32m     84\u001b[0m     \u001b[0;32mexcept\u001b[0m \u001b[0mPolynomialError\u001b[0m \u001b[0;32mas\u001b[0m \u001b[0mmsg\u001b[0m\u001b[0;34m:\u001b[0m\u001b[0;34m\u001b[0m\u001b[0;34m\u001b[0m\u001b[0m\n",
      "\u001b[0;32m~/anaconda3/lib/python3.7/site-packages/sympy/polys/polytools.py\u001b[0m in \u001b[0;36mparallel_poly_from_expr\u001b[0;34m(exprs, *gens, **args)\u001b[0m\n\u001b[1;32m   4308\u001b[0m     \u001b[0mopt\u001b[0m \u001b[0;34m=\u001b[0m \u001b[0moptions\u001b[0m\u001b[0;34m.\u001b[0m\u001b[0mbuild_options\u001b[0m\u001b[0;34m(\u001b[0m\u001b[0mgens\u001b[0m\u001b[0;34m,\u001b[0m \u001b[0margs\u001b[0m\u001b[0;34m)\u001b[0m\u001b[0;34m\u001b[0m\u001b[0;34m\u001b[0m\u001b[0m\n\u001b[0;32m-> 4309\u001b[0;31m     \u001b[0;32mreturn\u001b[0m \u001b[0m_parallel_poly_from_expr\u001b[0m\u001b[0;34m(\u001b[0m\u001b[0mexprs\u001b[0m\u001b[0;34m,\u001b[0m \u001b[0mopt\u001b[0m\u001b[0;34m)\u001b[0m\u001b[0;34m\u001b[0m\u001b[0;34m\u001b[0m\u001b[0m\n\u001b[0m\u001b[1;32m   4310\u001b[0m \u001b[0;34m\u001b[0m\u001b[0m\n",
      "\u001b[0;32m~/anaconda3/lib/python3.7/site-packages/sympy/polys/polytools.py\u001b[0m in \u001b[0;36m_parallel_poly_from_expr\u001b[0;34m(exprs, opt)\u001b[0m\n\u001b[1;32m   4363\u001b[0m     \u001b[0;32mif\u001b[0m \u001b[0;32mnot\u001b[0m \u001b[0mopt\u001b[0m\u001b[0;34m.\u001b[0m\u001b[0mgens\u001b[0m\u001b[0;34m:\u001b[0m\u001b[0;34m\u001b[0m\u001b[0;34m\u001b[0m\u001b[0m\n\u001b[0;32m-> 4364\u001b[0;31m         \u001b[0;32mraise\u001b[0m \u001b[0mPolificationFailed\u001b[0m\u001b[0;34m(\u001b[0m\u001b[0mopt\u001b[0m\u001b[0;34m,\u001b[0m \u001b[0morigs\u001b[0m\u001b[0;34m,\u001b[0m \u001b[0mexprs\u001b[0m\u001b[0;34m,\u001b[0m \u001b[0;32mTrue\u001b[0m\u001b[0;34m)\u001b[0m\u001b[0;34m\u001b[0m\u001b[0;34m\u001b[0m\u001b[0m\n\u001b[0m\u001b[1;32m   4365\u001b[0m \u001b[0;34m\u001b[0m\u001b[0m\n",
      "\u001b[0;31mPolificationFailed\u001b[0m: can't construct polynomials from 4*x**3 + 21*x**2 + 10*x + 12, x**4 + 5*x**3 + 5*x**2 + 4*x",
      "\nDuring handling of the above exception, another exception occurred:\n",
      "\u001b[0;31mPolynomialError\u001b[0m                           Traceback (most recent call last)",
      "\u001b[0;32m<ipython-input-126-8904e354f23e>\u001b[0m in \u001b[0;36m<module>\u001b[0;34m\u001b[0m\n\u001b[1;32m      1\u001b[0m \u001b[0;31m# 会报错，原因不明\u001b[0m\u001b[0;34m\u001b[0m\u001b[0;34m\u001b[0m\u001b[0;34m\u001b[0m\u001b[0m\n\u001b[0;32m----> 2\u001b[0;31m \u001b[0mapart\u001b[0m\u001b[0;34m(\u001b[0m\u001b[0my\u001b[0m\u001b[0;34m)\u001b[0m\u001b[0;34m,\u001b[0m\u001b[0mapart\u001b[0m\u001b[0;34m(\u001b[0m\u001b[0;36m4\u001b[0m\u001b[0;34m*\u001b[0m\u001b[0mx\u001b[0m\u001b[0;34m**\u001b[0m\u001b[0;36m3\u001b[0m \u001b[0;34m+\u001b[0m \u001b[0;36m21\u001b[0m\u001b[0;34m*\u001b[0m\u001b[0mx\u001b[0m\u001b[0;34m**\u001b[0m\u001b[0;36m2\u001b[0m \u001b[0;34m+\u001b[0m \u001b[0;36m10\u001b[0m\u001b[0;34m*\u001b[0m\u001b[0mx\u001b[0m \u001b[0;34m+\u001b[0m \u001b[0;36m12\u001b[0m\u001b[0;34m)\u001b[0m\u001b[0;34m/\u001b[0m\u001b[0;34m(\u001b[0m\u001b[0mx\u001b[0m\u001b[0;34m**\u001b[0m\u001b[0;36m4\u001b[0m \u001b[0;34m+\u001b[0m \u001b[0;36m5\u001b[0m\u001b[0;34m*\u001b[0m\u001b[0mx\u001b[0m\u001b[0;34m**\u001b[0m\u001b[0;36m3\u001b[0m \u001b[0;34m+\u001b[0m \u001b[0;36m5\u001b[0m\u001b[0;34m*\u001b[0m\u001b[0mx\u001b[0m\u001b[0;34m**\u001b[0m\u001b[0;36m2\u001b[0m \u001b[0;34m+\u001b[0m \u001b[0;36m4\u001b[0m\u001b[0;34m*\u001b[0m\u001b[0mx\u001b[0m\u001b[0;34m)\u001b[0m\u001b[0;34m\u001b[0m\u001b[0;34m\u001b[0m\u001b[0m\n\u001b[0m",
      "\u001b[0;32m~/anaconda3/lib/python3.7/site-packages/sympy/utilities/decorator.py\u001b[0m in \u001b[0;36mthreaded_func\u001b[0;34m(expr, *args, **kwargs)\u001b[0m\n\u001b[1;32m     36\u001b[0m                                       func(expr.rhs, *args, **kwargs))\n\u001b[1;32m     37\u001b[0m             \u001b[0;32melse\u001b[0m\u001b[0;34m:\u001b[0m\u001b[0;34m\u001b[0m\u001b[0;34m\u001b[0m\u001b[0m\n\u001b[0;32m---> 38\u001b[0;31m                 \u001b[0;32mreturn\u001b[0m \u001b[0mfunc\u001b[0m\u001b[0;34m(\u001b[0m\u001b[0mexpr\u001b[0m\u001b[0;34m,\u001b[0m \u001b[0;34m*\u001b[0m\u001b[0margs\u001b[0m\u001b[0;34m,\u001b[0m \u001b[0;34m**\u001b[0m\u001b[0mkwargs\u001b[0m\u001b[0;34m)\u001b[0m\u001b[0;34m\u001b[0m\u001b[0;34m\u001b[0m\u001b[0m\n\u001b[0m\u001b[1;32m     39\u001b[0m \u001b[0;34m\u001b[0m\u001b[0m\n\u001b[1;32m     40\u001b[0m     \u001b[0;32mreturn\u001b[0m \u001b[0mthreaded_func\u001b[0m\u001b[0;34m\u001b[0m\u001b[0;34m\u001b[0m\u001b[0m\n",
      "\u001b[0;32m~/anaconda3/lib/python3.7/site-packages/sympy/polys/partfrac.py\u001b[0m in \u001b[0;36mapart\u001b[0;34m(f, x, full, **options)\u001b[0m\n\u001b[1;32m     84\u001b[0m     \u001b[0;32mexcept\u001b[0m \u001b[0mPolynomialError\u001b[0m \u001b[0;32mas\u001b[0m \u001b[0mmsg\u001b[0m\u001b[0;34m:\u001b[0m\u001b[0;34m\u001b[0m\u001b[0;34m\u001b[0m\u001b[0m\n\u001b[1;32m     85\u001b[0m         \u001b[0;32mif\u001b[0m \u001b[0mf\u001b[0m\u001b[0;34m.\u001b[0m\u001b[0mis_commutative\u001b[0m\u001b[0;34m:\u001b[0m\u001b[0;34m\u001b[0m\u001b[0;34m\u001b[0m\u001b[0m\n\u001b[0;32m---> 86\u001b[0;31m             \u001b[0;32mraise\u001b[0m \u001b[0mPolynomialError\u001b[0m\u001b[0;34m(\u001b[0m\u001b[0mmsg\u001b[0m\u001b[0;34m)\u001b[0m\u001b[0;34m\u001b[0m\u001b[0;34m\u001b[0m\u001b[0m\n\u001b[0m\u001b[1;32m     87\u001b[0m         \u001b[0;31m# non-commutative\u001b[0m\u001b[0;34m\u001b[0m\u001b[0;34m\u001b[0m\u001b[0;34m\u001b[0m\u001b[0m\n\u001b[1;32m     88\u001b[0m         \u001b[0;32mif\u001b[0m \u001b[0mf\u001b[0m\u001b[0;34m.\u001b[0m\u001b[0mis_Mul\u001b[0m\u001b[0;34m:\u001b[0m\u001b[0;34m\u001b[0m\u001b[0;34m\u001b[0m\u001b[0m\n",
      "\u001b[0;31mPolynomialError\u001b[0m: can't construct polynomials from 4*x**3 + 21*x**2 + 10*x + 12, x**4 + 5*x**3 + 5*x**2 + 4*x"
     ]
    }
   ],
   "source": [
    "# 会报错，原因不明\n",
    "apart(y),apart(4*x**3 + 21*x**2 + 10*x + 12)/(x**4 + 5*x**3 + 5*x**2 + 4*x) "
   ]
  },
  {
   "cell_type": "markdown",
   "metadata": {},
   "source": [
    "三角函数"
   ]
  },
  {
   "cell_type": "code",
   "execution_count": 129,
   "metadata": {},
   "outputs": [
    {
     "data": {
      "image/png": "[encoded data removed]",
      "text/latex": [
       "$\\displaystyle \\left( \\operatorname{acos}{\\left(3 \\right)}, \\  3, \\  \\tan{\\left(4 \\right)}, \\  \\operatorname{atan}{\\left(5 \\right)}, \\  \\sin{\\left(6 \\right)}, \\  \\sec{\\left(7 \\right)}, \\  \\csc{\\left(8 \\right)}, \\  \\cot{\\left(9 \\right)}\\right)$"
      ],
      "text/plain": [
       "(acos(3), 3, tan(4), atan(5), sin(6), sec(7), csc(8), cot(9))"
      ]
     },
     "execution_count": 129,
     "metadata": {},
     "output_type": "execute_result"
    }
   ],
   "source": [
    "acos(3),cos(acos(3)),tan(4),atan(5),sin(6),sec(7),csc(8),cot(9)"
   ]
  },
  {
   "cell_type": "code",
   "execution_count": 136,
   "metadata": {},
   "outputs": [
    {
     "data": {
      "image/png": "[encoded data removed]",
      "text/latex": [
       "$\\displaystyle \\left( \\cosh{\\left(x \\right)}, \\  \\sinh{\\left(x \\right)}, \\  \\tanh{\\left(x \\right)}\\right)$"
      ],
      "text/plain": [
       "(cosh(x), sinh(x), tanh(x))"
      ]
     },
     "execution_count": 136,
     "metadata": {},
     "output_type": "execute_result"
    }
   ],
   "source": [
    "cosh(x),sinh(x),tanh(x)"
   ]
  },
  {
   "cell_type": "code",
   "execution_count": 137,
   "metadata": {},
   "outputs": [
    {
     "data": {
      "image/png": "[encoded data removed]",
      "text/latex": [
       "$\\displaystyle \\tan{\\left(x \\right)}$"
      ],
      "text/plain": [
       "tan(x)"
      ]
     },
     "execution_count": 137,
     "metadata": {},
     "output_type": "execute_result"
    }
   ],
   "source": [
    "trigsimp(sin(x)/cos(x))"
   ]
  },
  {
   "cell_type": "code",
   "execution_count": 142,
   "metadata": {},
   "outputs": [
    {
     "data": {
      "image/png": "[encoded data removed]",
      "text/latex": [
       "$\\displaystyle \\left(- \\frac{1}{2 \\sin{\\left(x \\right)} \\cos{\\left(x \\right)}} + \\frac{\\cot^{3}{\\left(x \\right)} - 3 \\cot{\\left(x \\right)}}{\\left(3 \\cot^{2}{\\left(x \\right)} - 1\\right) \\left(8 \\cos^{4}{\\left(x \\right)} - 8 \\cos^{2}{\\left(x \\right)} + 1\\right)}\\right)^{2} + \\frac{1}{\\left(16 \\sin^{5}{\\left(x \\right)} - 20 \\sin^{3}{\\left(x \\right)} + 5 \\sin{\\left(x \\right)}\\right)^{2}}$"
      ],
      "text/plain": [
       "                                                                 2            \n",
       "⎛                                    3                          ⎞             \n",
       "⎜         1                       cot (x) - 3⋅cot(x)            ⎟             \n",
       "⎜- ─────────────── + ───────────────────────────────────────────⎟  + ─────────\n",
       "⎜  2⋅sin(x)⋅cos(x)   ⎛     2       ⎞ ⎛     4           2       ⎞⎟             \n",
       "⎝                    ⎝3⋅cot (x) - 1⎠⋅⎝8⋅cos (x) - 8⋅cos (x) + 1⎠⎠    ⎛      5 \n",
       "                                                                     ⎝16⋅sin (\n",
       "\n",
       "                            \n",
       "                            \n",
       "         1                  \n",
       "────────────────────────────\n",
       "                           2\n",
       "           3              ⎞ \n",
       "x) - 20⋅sin (x) + 5⋅sin(x)⎠ "
      ]
     },
     "execution_count": 142,
     "metadata": {},
     "output_type": "execute_result"
    }
   ],
   "source": [
    "z=expand_trig((cot(3*x)*sec(4*x)-csc(2*x))**2+(1/sin(5*x))**2)\n",
    "z"
   ]
  },
  {
   "cell_type": "code",
   "execution_count": 143,
   "metadata": {},
   "outputs": [
    {
     "data": {
      "image/png": "[encoded data removed]",
      "text/latex": [
       "$\\displaystyle \\left(- \\frac{1}{\\sin{\\left(2 x \\right)}} + \\frac{\\cot^{3}{\\left(x \\right)} - 3 \\cot{\\left(x \\right)}}{\\left(3 \\cot^{2}{\\left(x \\right)} - 1\\right) \\left(8 \\cos^{4}{\\left(x \\right)} - 8 \\cos^{2}{\\left(x \\right)} + 1\\right)}\\right)^{2} + \\frac{1}{\\left(16 \\sin^{4}{\\left(x \\right)} - 20 \\sin^{2}{\\left(x \\right)} + 5\\right)^{2} \\sin^{2}{\\left(x \\right)}}$"
      ],
      "text/plain": [
       "                                                          2                   \n",
       "⎛                             3                          ⎞                    \n",
       "⎜     1                    cot (x) - 3⋅cot(x)            ⎟                    \n",
       "⎜- ──────── + ───────────────────────────────────────────⎟  + ────────────────\n",
       "⎜  sin(2⋅x)   ⎛     2       ⎞ ⎛     4           2       ⎞⎟                    \n",
       "⎝             ⎝3⋅cot (x) - 1⎠⋅⎝8⋅cos (x) - 8⋅cos (x) + 1⎠⎠    ⎛      4        \n",
       "                                                              ⎝16⋅sin (x) - 20\n",
       "\n",
       "                      \n",
       "                      \n",
       "  1                   \n",
       "──────────────────────\n",
       "             2        \n",
       "    2       ⎞     2   \n",
       "⋅sin (x) + 5⎠ ⋅sin (x)"
      ]
     },
     "execution_count": 143,
     "metadata": {},
     "output_type": "execute_result"
    }
   ],
   "source": [
    "trigsimp(z)"
   ]
  },
  {
   "cell_type": "markdown",
   "metadata": {},
   "source": [
    "有些变换只能作用于正数，有些变换只能作用于整数，因此定义symbol时需要设定symbol的类型，这样sympy才能更有效的化简"
   ]
  },
  {
   "cell_type": "code",
   "execution_count": 147,
   "metadata": {},
   "outputs": [],
   "source": [
    "w=symbols('w')# 默认情况下w是复数\n",
    "x=symbols('x',integer=True)\n",
    "y=symbols('y',positive=True)\n",
    "z=symbols('z',real=True)# z为实数"
   ]
  },
  {
   "cell_type": "code",
   "execution_count": 148,
   "metadata": {},
   "outputs": [
    {
     "data": {
      "text/plain": [
       "True"
      ]
     },
     "execution_count": 148,
     "metadata": {},
     "output_type": "execute_result"
    }
   ],
   "source": [
    "# sqrt函数只是1/2次幂的简写形式，它们本质上是同一套东西\n",
    "x**Rational(1,2)==sqrt(x)"
   ]
  },
  {
   "cell_type": "code",
   "execution_count": 154,
   "metadata": {},
   "outputs": [
    {
     "data": {
      "image/png": "[encoded data removed]",
      "text/latex": [
       "$\\displaystyle x^{a} x^{b} = x^{a + b}$"
      ],
      "text/plain": [
       " a  b    a + b\n",
       "x ⋅x  = x     "
      ]
     },
     "execution_count": 154,
     "metadata": {},
     "output_type": "execute_result"
    }
   ],
   "source": [
    "#幂化简有三个公式\n",
    "x,a,b=symbols('x a b')\n",
    "# 此式永远正确\n",
    "Eq(x**a*x**b,x**(a+b))"
   ]
  },
  {
   "cell_type": "code",
   "execution_count": 157,
   "metadata": {},
   "outputs": [
    {
     "data": {
      "image/png": "[encoded data removed]",
      "text/latex": [
       "$\\displaystyle x^{a} y^{a} = \\left(x y\\right)^{a}$"
      ],
      "text/plain": [
       " a  a        a\n",
       "x ⋅y  = (x⋅y) "
      ]
     },
     "execution_count": 157,
     "metadata": {},
     "output_type": "execute_result"
    }
   ],
   "source": [
    "# 此式适用于x，y为正数的情况，并且a为实数\n",
    "Eq(x**a*y**a,(x*y)**a)"
   ]
  },
  {
   "cell_type": "code",
   "execution_count": 158,
   "metadata": {},
   "outputs": [
    {
     "data": {
      "image/png": "[encoded data removed]",
      "text/latex": [
       "$\\displaystyle \\left(x^{a}\\right)^{b} = x^{a b}$"
      ],
      "text/plain": [
       "    b       \n",
       "⎛ a⎞     a⋅b\n",
       "⎝x ⎠  = x   "
      ]
     },
     "execution_count": 158,
     "metadata": {},
     "output_type": "execute_result"
    }
   ],
   "source": [
    "# 只有在b为整数的情况下才成立\n",
    "Eq((x**a)**b,x**(a*b))"
   ]
  },
  {
   "cell_type": "code",
   "execution_count": 159,
   "metadata": {},
   "outputs": [
    {
     "data": {
      "image/png": "[encoded data removed]",
      "text/latex": [
       "$\\displaystyle \\left(x y\\right)^{a}$"
      ],
      "text/plain": [
       "     a\n",
       "(x⋅y) "
      ]
     },
     "execution_count": 159,
     "metadata": {},
     "output_type": "execute_result"
    }
   ],
   "source": [
    "# powsimp应用幂公式1和幂公式2进行化简\n",
    "powsimp(x**a*y**a)"
   ]
  },
  {
   "cell_type": "code",
   "execution_count": 161,
   "metadata": {},
   "outputs": [
    {
     "data": {
      "image/png": "[encoded data removed]",
      "text/latex": [
       "$\\displaystyle \\left( x^{a} y^{a}, \\  \\left(x y\\right)^{a}\\right)$"
      ],
      "text/plain": [
       "⎛ a  a       a⎞\n",
       "⎝x ⋅y , (x⋅y) ⎠"
      ]
     },
     "execution_count": 161,
     "metadata": {},
     "output_type": "execute_result"
    }
   ],
   "source": [
    "# 当x和y不满足大于0的条件时，无法化简，但是可以强制化简\n",
    "x,y=symbols('x y',real=True)\n",
    "powsimp(x**a*y**a),powsimp(x**a*y**a,force=True)"
   ]
  },
  {
   "cell_type": "code",
   "execution_count": 169,
   "metadata": {},
   "outputs": [
    {
     "data": {
      "image/png": "[encoded data removed]",
      "text/latex": [
       "$\\displaystyle x^{a} x^{b}$"
      ],
      "text/plain": [
       " a  b\n",
       "x ⋅x "
      ]
     },
     "execution_count": 169,
     "metadata": {},
     "output_type": "execute_result"
    }
   ],
   "source": [
    "# powsimp的逆变换\n",
    "# 公式一的逆变换，它没有force参数，因为这个公式是恒成立的\n",
    "expand_power_exp((x**(a+b)))"
   ]
  },
  {
   "cell_type": "code",
   "execution_count": 166,
   "metadata": {},
   "outputs": [
    {
     "data": {
      "image/png": "[encoded data removed]",
      "text/latex": [
       "$\\displaystyle x^{a} y^{a}$"
      ],
      "text/plain": [
       " a  a\n",
       "x ⋅y "
      ]
     },
     "execution_count": 166,
     "metadata": {},
     "output_type": "execute_result"
    }
   ],
   "source": [
    "# 公式二的逆变换，它有force参数\n",
    "x,y=symbols('x y',positive=True)\n",
    "expand_power_base((x*y)**a),expand_power_base((x*y)**a,force=True)"
   ]
  },
  {
   "cell_type": "code",
   "execution_count": 171,
   "metadata": {},
   "outputs": [
    {
     "data": {
      "image/png": "[encoded data removed]",
      "text/latex": [
       "$\\displaystyle \\left( \\left(x^{a}\\right)^{b}, \\  x^{a b}\\right)$"
      ],
      "text/plain": [
       "⎛    b      ⎞\n",
       "⎜⎛ a⎞    a⋅b⎟\n",
       "⎝⎝x ⎠ , x   ⎠"
      ]
     },
     "execution_count": 171,
     "metadata": {},
     "output_type": "execute_result"
    }
   ],
   "source": [
    "# 使用公式三进行化简\n",
    "powdenest((x**a)**b),powdenest((x**a)**b,force=True)"
   ]
  },
  {
   "cell_type": "code",
   "execution_count": 173,
   "metadata": {},
   "outputs": [
    {
     "data": {
      "image/png": "[encoded data removed]",
      "text/latex": [
       "$\\displaystyle \\left(x^{a}\\right)^{b}$"
      ],
      "text/plain": [
       "    b\n",
       "⎛ a⎞ \n",
       "⎝x ⎠ "
      ]
     },
     "execution_count": 173,
     "metadata": {},
     "output_type": "execute_result"
    }
   ],
   "source": [
    "b=symbols('b',interger=True)\n",
    "powdenest((x**a)**b)"
   ]
  },
  {
   "cell_type": "markdown",
   "metadata": {},
   "source": [
    "对数函数公式有两个"
   ]
  },
  {
   "cell_type": "code",
   "execution_count": 177,
   "metadata": {},
   "outputs": [
    {
     "data": {
      "image/png": "[encoded data removed]",
      "text/latex": [
       "$\\displaystyle \\left( \\log{\\left(x y \\right)} = \\log{\\left(x \\right)} + \\log{\\left(y \\right)}, \\  \\log{\\left(x^{n} \\right)} = n \\log{\\left(x \\right)}\\right)$"
      ],
      "text/plain": [
       "⎛                               ⎛ n⎞           ⎞\n",
       "⎝log(x⋅y) = log(x) + log(y), log⎝x ⎠ = n⋅log(x)⎠"
      ]
     },
     "execution_count": 177,
     "metadata": {},
     "output_type": "execute_result"
    }
   ],
   "source": [
    "x,y=symbols('x y',positive=True)\n",
    "n=symbols('n',real=True)\n",
    "Eq(ln(x*y),ln(x)+ln(y)),Eq(ln(x**n),n*ln(x))"
   ]
  },
  {
   "cell_type": "code",
   "execution_count": 178,
   "metadata": {},
   "outputs": [
    {
     "data": {
      "image/png": "[encoded data removed]",
      "text/latex": [
       "$\\displaystyle \\log{\\left(x \\right)} + 3 \\log{\\left(y \\right)}$"
      ],
      "text/plain": [
       "log(x) + 3⋅log(y)"
      ]
     },
     "execution_count": 178,
     "metadata": {},
     "output_type": "execute_result"
    }
   ],
   "source": [
    "z=expand_log(ln(x*y**3))\n",
    "z"
   ]
  },
  {
   "cell_type": "code",
   "execution_count": 180,
   "metadata": {},
   "outputs": [
    {
     "data": {
      "image/png": "[encoded data removed]",
      "text/latex": [
       "$\\displaystyle \\log{\\left(x y^{3} \\right)}$"
      ],
      "text/plain": [
       "   ⎛   3⎞\n",
       "log⎝x⋅y ⎠"
      ]
     },
     "execution_count": 180,
     "metadata": {},
     "output_type": "execute_result"
    }
   ],
   "source": [
    "# expand_log的逆变换是logcombine\n",
    "logcombine(ln(x)+3*ln(y))"
   ]
  },
  {
   "cell_type": "markdown",
   "metadata": {},
   "source": [
    "sympy中包含很多特殊函数"
   ]
  },
  {
   "cell_type": "code",
   "execution_count": 184,
   "metadata": {},
   "outputs": [
    {
     "data": {
      "image/png": "[encoded data removed]",
      "text/latex": [
       "$\\displaystyle n!$"
      ],
      "text/plain": [
       "n!"
      ]
     },
     "execution_count": 184,
     "metadata": {},
     "output_type": "execute_result"
    }
   ],
   "source": [
    "# 阶乘\n",
    "n,k=symbols('n k')\n",
    "factorial(n)"
   ]
  },
  {
   "cell_type": "code",
   "execution_count": 185,
   "metadata": {},
   "outputs": [
    {
     "data": {
      "image/png": "[encoded data removed]",
      "text/latex": [
       "$\\displaystyle {\\binom{n}{k}}$"
      ],
      "text/plain": [
       "⎛n⎞\n",
       "⎜ ⎟\n",
       "⎝k⎠"
      ]
     },
     "execution_count": 185,
     "metadata": {},
     "output_type": "execute_result"
    }
   ],
   "source": [
    "# 组合\n",
    "binomial(n,k)"
   ]
  },
  {
   "cell_type": "code",
   "execution_count": 186,
   "metadata": {},
   "outputs": [
    {
     "data": {
      "image/png": "[encoded data removed]",
      "text/latex": [
       "$\\displaystyle \\Gamma\\left(n\\right)$"
      ],
      "text/plain": [
       "Γ(n)"
      ]
     },
     "execution_count": 186,
     "metadata": {},
     "output_type": "execute_result"
    }
   ],
   "source": [
    "# gamma函数\n",
    "gamma(n)"
   ]
  },
  {
   "cell_type": "code",
   "execution_count": 191,
   "metadata": {},
   "outputs": [
    {
     "data": {
      "image/png": "[encoded data removed]",
      "text/latex": [
       "$\\displaystyle \\left( \\frac{2 \\sin^{2}{\\left(x \\right)}}{\\sin{\\left(2 x \\right)}}, \\  \\tan{\\left(x \\right)}\\right)$"
      ],
      "text/plain": [
       "⎛     2           ⎞\n",
       "⎜2⋅sin (x)        ⎟\n",
       "⎜─────────, tan(x)⎟\n",
       "⎝ sin(2⋅x)        ⎠"
      ]
     },
     "execution_count": 191,
     "metadata": {},
     "output_type": "execute_result"
    }
   ],
   "source": [
    "# rewrite就是用一个函数去表达另一个函数，这是一个尽力而为服务\n",
    "tan(x).rewrite(sin),tan(x).rewrite(ln)"
   ]
  },
  {
   "cell_type": "code",
   "execution_count": 192,
   "metadata": {},
   "outputs": [
    {
     "data": {
      "image/png": "[encoded data removed]",
      "text/latex": [
       "$\\displaystyle x \\left(x + 1\\right) \\left(x + 2\\right) \\Gamma\\left(x\\right)$"
      ],
      "text/plain": [
       "x⋅(x + 1)⋅(x + 2)⋅Γ(x)"
      ]
     },
     "execution_count": 192,
     "metadata": {},
     "output_type": "execute_result"
    }
   ],
   "source": [
    "# 特殊函数都有特殊的化简方法\n",
    "expand_func(gamma(x+3))"
   ]
  },
  {
   "cell_type": "code",
   "execution_count": 195,
   "metadata": {},
   "outputs": [
    {
     "data": {
      "image/png": "[encoded data removed]",
      "text/latex": [
       "$\\displaystyle \\left(x - 3\\right) \\left(x - 2\\right) \\left(x - 1\\right)$"
      ],
      "text/plain": [
       "(x - 3)⋅(x - 2)⋅(x - 1)"
      ]
     },
     "execution_count": 195,
     "metadata": {},
     "output_type": "execute_result"
    }
   ],
   "source": [
    "# gamma函数化简\n",
    "gammasimp(gamma(x)/gamma(x-3))"
   ]
  },
  {
   "cell_type": "code",
   "execution_count": 196,
   "metadata": {},
   "outputs": [
    {
     "data": {
      "image/png": "[encoded data removed]",
      "text/latex": [
       "$\\displaystyle \\frac{n + 1}{k + 1}$"
      ],
      "text/plain": [
       "n + 1\n",
       "─────\n",
       "k + 1"
      ]
     },
     "execution_count": 196,
     "metadata": {},
     "output_type": "execute_result"
    }
   ],
   "source": [
    "# 组合函数化简\n",
    "combsimp(binomial(n+1, k+1)/binomial(n, k))"
   ]
  },
  {
   "cell_type": "code",
   "execution_count": 197,
   "metadata": {},
   "outputs": [
    {
     "data": {
      "image/png": "[encoded data removed]",
      "text/latex": [
       "$\\displaystyle \\left( a_{0}, \\  a_{1}, \\  a_{2}, \\  a_{3}, \\  a_{4}\\right)$"
      ],
      "text/plain": [
       "(a₀, a₁, a₂, a₃, a₄)"
      ]
     },
     "execution_count": 197,
     "metadata": {},
     "output_type": "execute_result"
    }
   ],
   "source": [
    "symbols('a0:5')"
   ]
  },
  {
   "cell_type": "code",
   "execution_count": null,
   "metadata": {},
   "outputs": [],
   "source": [
    "# 这样会报错，因为symbols会返回6个符号\n",
    "a,b=symbols('a0:5 b')\n",
    "a,b"
   ]
  },
  {
   "cell_type": "markdown",
   "metadata": {},
   "source": [
    "下面做一个连分数小练习，这个练习没有明确目的，只为了熟悉sympy API。"
   ]
  },
  {
   "cell_type": "code",
   "execution_count": 211,
   "metadata": {},
   "outputs": [],
   "source": [
    "from typing import List\n",
    "def get_lianfenshu(a:List):\n",
    "    s=1/a[-1]\n",
    "    for i in range(len(a)-2,-1,-1):\n",
    "        s=1/(s+a[i])\n",
    "    return s"
   ]
  },
  {
   "cell_type": "code",
   "execution_count": 213,
   "metadata": {},
   "outputs": [
    {
     "data": {
      "image/png": "[encoded data removed]",
      "text/latex": [
       "$\\displaystyle 0.6976744186046512$"
      ],
      "text/plain": [
       "0.6976744186046512"
      ]
     },
     "execution_count": 213,
     "metadata": {},
     "output_type": "execute_result"
    }
   ],
   "source": [
    "get_lianfenshu([1,2,3,4])"
   ]
  },
  {
   "cell_type": "code",
   "execution_count": 214,
   "metadata": {},
   "outputs": [
    {
     "data": {
      "image/png": "[encoded data removed]",
      "text/latex": [
       "$\\displaystyle \\frac{10}{7}$"
      ],
      "text/plain": [
       "10/7"
      ]
     },
     "execution_count": 214,
     "metadata": {},
     "output_type": "execute_result"
    }
   ],
   "source": [
    "get_lianfenshu([Integer(i) for i in range(4)])"
   ]
  },
  {
   "cell_type": "code",
   "execution_count": 215,
   "metadata": {},
   "outputs": [
    {
     "data": {
      "image/png": "[encoded data removed]",
      "text/latex": [
       "$\\displaystyle \\frac{1}{a_{0} + \\frac{1}{a_{1} + \\frac{1}{a_{2}}}}$"
      ],
      "text/plain": [
       "     1      \n",
       "────────────\n",
       "        1   \n",
       "a₀ + ───────\n",
       "          1 \n",
       "     a₁ + ──\n",
       "          a₂"
      ]
     },
     "execution_count": 215,
     "metadata": {},
     "output_type": "execute_result"
    }
   ],
   "source": [
    "a=symbols('a0:3')\n",
    "y=get_lianfenshu(a)\n",
    "y"
   ]
  },
  {
   "cell_type": "code",
   "execution_count": 216,
   "metadata": {},
   "outputs": [
    {
     "data": {
      "image/png": "[encoded data removed]",
      "text/latex": [
       "$\\displaystyle \\frac{a_{1} a_{2} + 1}{a_{0} a_{1} a_{2} + a_{0} + a_{2}}$"
      ],
      "text/plain": [
       "    a₁⋅a₂ + 1     \n",
       "──────────────────\n",
       "a₀⋅a₁⋅a₂ + a₀ + a₂"
      ]
     },
     "execution_count": 216,
     "metadata": {},
     "output_type": "execute_result"
    }
   ],
   "source": [
    "cancel(y)"
   ]
  },
  {
   "cell_type": "code",
   "execution_count": 219,
   "metadata": {},
   "outputs": [
    {
     "data": {
      "image/png": "[encoded data removed]",
      "text/latex": [
       "$\\displaystyle a_{0} + \\frac{a_{2}}{a_{1} a_{2} + 1}$"
      ],
      "text/plain": [
       "         a₂   \n",
       "a₀ + ─────────\n",
       "     a₁⋅a₂ + 1"
      ]
     },
     "execution_count": 219,
     "metadata": {},
     "output_type": "execute_result"
    }
   ],
   "source": [
    "apart(1/y,a[0])"
   ]
  },
  {
   "cell_type": "code",
   "execution_count": 220,
   "metadata": {},
   "outputs": [
    {
     "data": {
      "image/png": "[encoded data removed]",
      "text/latex": [
       "$\\displaystyle \\frac{a_{2}}{a_{1} a_{2} + 1}$"
      ],
      "text/plain": [
       "    a₂   \n",
       "─────────\n",
       "a₁⋅a₂ + 1"
      ]
     },
     "execution_count": 220,
     "metadata": {},
     "output_type": "execute_result"
    }
   ],
   "source": [
    "apart(1/y-a[0],a[1])"
   ]
  },
  {
   "cell_type": "markdown",
   "metadata": {},
   "source": [
    "# 微积分"
   ]
  },
  {
   "cell_type": "code",
   "execution_count": 221,
   "metadata": {},
   "outputs": [
    {
     "data": {
      "image/png": "[encoded data removed]",
      "text/latex": [
       "$\\displaystyle \\log{\\left(x \\right)} \\cos{\\left(x \\right)} + \\frac{\\sin{\\left(x \\right)}}{x}$"
      ],
      "text/plain": [
       "                sin(x)\n",
       "log(x)⋅cos(x) + ──────\n",
       "                  x   "
      ]
     },
     "execution_count": 221,
     "metadata": {},
     "output_type": "execute_result"
    }
   ],
   "source": [
    "x=symbols('x')\n",
    "y=sin(x)*ln(x)\n",
    "y.diff(x)"
   ]
  },
  {
   "cell_type": "code",
   "execution_count": 222,
   "metadata": {},
   "outputs": [
    {
     "data": {
      "image/png": "[encoded data removed]",
      "text/latex": [
       "$\\displaystyle - \\log{\\left(x \\right)} \\cos{\\left(x \\right)} - \\frac{3 \\sin{\\left(x \\right)}}{x} - \\frac{3 \\cos{\\left(x \\right)}}{x^{2}} + \\frac{2 \\sin{\\left(x \\right)}}{x^{3}}$"
      ],
      "text/plain": [
       "                 3⋅sin(x)   3⋅cos(x)   2⋅sin(x)\n",
       "-log(x)⋅cos(x) - ──────── - ──────── + ────────\n",
       "                    x           2          3   \n",
       "                               x          x    "
      ]
     },
     "execution_count": 222,
     "metadata": {},
     "output_type": "execute_result"
    }
   ],
   "source": [
    "# 求三次导数\n",
    "y.diff(x,3)"
   ]
  },
  {
   "cell_type": "code",
   "execution_count": 223,
   "metadata": {},
   "outputs": [
    {
     "data": {
      "image/png": "[encoded data removed]",
      "text/latex": [
       "$\\displaystyle - \\log{\\left(x \\right)} \\cos{\\left(x \\right)} - \\frac{3 \\sin{\\left(x \\right)}}{x} - \\frac{3 \\cos{\\left(x \\right)}}{x^{2}} + \\frac{2 \\sin{\\left(x \\right)}}{x^{3}}$"
      ],
      "text/plain": [
       "                 3⋅sin(x)   3⋅cos(x)   2⋅sin(x)\n",
       "-log(x)⋅cos(x) - ──────── - ──────── + ────────\n",
       "                    x           2          3   \n",
       "                               x          x    "
      ]
     },
     "execution_count": 223,
     "metadata": {},
     "output_type": "execute_result"
    }
   ],
   "source": [
    "# 求三次导\n",
    "y.diff(x,x,x)"
   ]
  },
  {
   "cell_type": "code",
   "execution_count": 226,
   "metadata": {},
   "outputs": [
    {
     "data": {
      "image/png": "[encoded data removed]",
      "text/latex": [
       "$\\displaystyle \\left( - \\sin{\\left(y \\right)} \\cos{\\left(x \\right)}, \\  - \\sin{\\left(y \\right)} \\cos{\\left(x \\right)}\\right)$"
      ],
      "text/plain": [
       "(-sin(y)⋅cos(x), -sin(y)⋅cos(x))"
      ]
     },
     "execution_count": 226,
     "metadata": {},
     "output_type": "execute_result"
    }
   ],
   "source": [
    "# 二阶偏导\n",
    "x,y=symbols('x,y')\n",
    "z=sin(x)*cos(y)\n",
    "z.diff(x,y),diff(z,x,y)"
   ]
  },
  {
   "cell_type": "markdown",
   "metadata": {},
   "source": [
    "sympy有两种API:\n",
    "* 第一种是函数，例如integral，diff等\n",
    "* 第二种是类，例如Integeral，Derivative等，一句Derivative().doit()就相当与diff"
   ]
  },
  {
   "cell_type": "code",
   "execution_count": 229,
   "metadata": {},
   "outputs": [
    {
     "data": {
      "image/png": "[encoded data removed]",
      "text/latex": [
       "$\\displaystyle \\frac{\\partial^{7}}{\\partial y^{4}\\partial x^{3}} \\sin{\\left(x \\right)} \\cos{\\left(y \\right)}$"
      ],
      "text/plain": [
       "    7                 \n",
       "   ∂                  \n",
       "───────(sin(x)⋅cos(y))\n",
       "  4   3               \n",
       "∂y  ∂x                "
      ]
     },
     "execution_count": 229,
     "metadata": {},
     "output_type": "execute_result"
    }
   ],
   "source": [
    "p=Derivative(z,x,3,y,4)\n",
    "p"
   ]
  },
  {
   "cell_type": "code",
   "execution_count": 230,
   "metadata": {},
   "outputs": [
    {
     "data": {
      "image/png": "[encoded data removed]",
      "text/latex": [
       "$\\displaystyle - \\cos{\\left(x \\right)} \\cos{\\left(y \\right)}$"
      ],
      "text/plain": [
       "-cos(x)⋅cos(y)"
      ]
     },
     "execution_count": 230,
     "metadata": {},
     "output_type": "execute_result"
    }
   ],
   "source": [
    "p.doit()"
   ]
  },
  {
   "cell_type": "code",
   "execution_count": 232,
   "metadata": {},
   "outputs": [
    {
     "data": {
      "image/png": "[encoded data removed]",
      "text/latex": [
       "$\\displaystyle \\left( - \\cos{\\left(x \\right)} \\cos{\\left(y \\right)}, \\  \\sin{\\left(x \\right)} \\sin{\\left(y \\right)}\\right)$"
      ],
      "text/plain": [
       "(-cos(x)⋅cos(y), sin(x)⋅sin(y))"
      ]
     },
     "execution_count": 232,
     "metadata": {},
     "output_type": "execute_result"
    }
   ],
   "source": [
    "# 下面开始研究积分\n",
    "integrate(z,x),integrate(z,y)"
   ]
  },
  {
   "cell_type": "code",
   "execution_count": 233,
   "metadata": {},
   "outputs": [
    {
     "data": {
      "image/png": "[encoded data removed]",
      "text/latex": [
       "$\\displaystyle 1$"
      ],
      "text/plain": [
       "1"
      ]
     },
     "execution_count": 233,
     "metadata": {},
     "output_type": "execute_result"
    }
   ],
   "source": [
    "integrate(exp(-x),(x,0,oo))"
   ]
  },
  {
   "cell_type": "code",
   "execution_count": 234,
   "metadata": {},
   "outputs": [
    {
     "data": {
      "image/png": "[encoded data removed]",
      "text/latex": [
       "$\\displaystyle \\left( \\infty, \\  -\\infty\\right)$"
      ],
      "text/plain": [
       "(∞, -∞)"
      ]
     },
     "execution_count": 234,
     "metadata": {},
     "output_type": "execute_result"
    }
   ],
   "source": [
    "oo,-oo # sympy 真是天才的设计，这个变量名真奇妙"
   ]
  },
  {
   "cell_type": "code",
   "execution_count": 236,
   "metadata": {},
   "outputs": [
    {
     "data": {
      "image/png": "[encoded data removed]",
      "text/latex": [
       "$\\displaystyle \\frac{\\pi}{4}$"
      ],
      "text/plain": [
       "π\n",
       "─\n",
       "4"
      ]
     },
     "execution_count": 236,
     "metadata": {},
     "output_type": "execute_result"
    }
   ],
   "source": [
    "integrate(exp(-(x**2+y**2)),(x,0,oo),(y,0,oo))"
   ]
  },
  {
   "cell_type": "code",
   "execution_count": 239,
   "metadata": {},
   "outputs": [
    {
     "data": {
      "image/png": "[encoded data removed]",
      "text/latex": [
       "$\\displaystyle \\int \\frac{x}{\\sin{\\left(x \\right)}}\\, dx$"
      ],
      "text/plain": [
       "⌠          \n",
       "⎮   x      \n",
       "⎮ ────── dx\n",
       "⎮ sin(x)   \n",
       "⌡          "
      ]
     },
     "execution_count": 239,
     "metadata": {},
     "output_type": "execute_result"
    }
   ],
   "source": [
    "# 有些函数不可积\n",
    "integrate(x/sin(x))"
   ]
  },
  {
   "cell_type": "code",
   "execution_count": 242,
   "metadata": {},
   "outputs": [
    {
     "data": {
      "image/png": "[encoded data removed]",
      "text/latex": [
       "$\\displaystyle - \\sin{\\left(y \\right)} \\cos{\\left(x \\right)}$"
      ],
      "text/plain": [
       "-sin(y)⋅cos(x)"
      ]
     },
     "execution_count": 242,
     "metadata": {},
     "output_type": "execute_result"
    }
   ],
   "source": [
    "#第二类API\n",
    "Integral(z,x,y).doit()"
   ]
  },
  {
   "cell_type": "markdown",
   "metadata": {},
   "source": [
    "下面开始研究极限"
   ]
  },
  {
   "cell_type": "code",
   "execution_count": 245,
   "metadata": {},
   "outputs": [
    {
     "data": {
      "image/png": "[encoded data removed]",
      "text/latex": [
       "$\\displaystyle \\left( 1, \\  1, \\  1\\right)$"
      ],
      "text/plain": [
       "(1, 1, 1)"
      ]
     },
     "execution_count": 245,
     "metadata": {},
     "output_type": "execute_result"
    }
   ],
   "source": [
    "limit(x/sin(x),x,0),limit(x/sin(x),x,0,'-'),limit(x/sin(x),x,0,'+'),"
   ]
  },
  {
   "cell_type": "code",
   "execution_count": 247,
   "metadata": {},
   "outputs": [
    {
     "data": {
      "image/png": "[encoded data removed]",
      "text/latex": [
       "$\\displaystyle \\lim_{x \\to 2^+}\\left(\\frac{x}{\\sin{\\left(x \\right)}}\\right) = \\frac{2}{\\sin{\\left(2 \\right)}}$"
      ],
      "text/plain": [
       "     ⎛  x   ⎞     2   \n",
       " lim ⎜──────⎟ = ──────\n",
       "x─→2⁺⎝sin(x)⎠   sin(2)"
      ]
     },
     "execution_count": 247,
     "metadata": {},
     "output_type": "execute_result"
    }
   ],
   "source": [
    "z=Limit(x/sin(x),x,2,'+')\n",
    "Eq(z,z.doit())"
   ]
  },
  {
   "cell_type": "markdown",
   "metadata": {},
   "source": [
    "泰勒展开\n",
    "指对连，三角断。\n",
    "三角对数隔一换，\n",
    "对数函数一二三，\n",
    "三角指数有感叹。"
   ]
  },
  {
   "cell_type": "code",
   "execution_count": 248,
   "metadata": {},
   "outputs": [
    {
     "data": {
      "image/png": "[encoded data removed]",
      "text/latex": [
       "$\\displaystyle 1 + x + \\frac{x^{2}}{2} + \\frac{x^{3}}{6} + O\\left(x^{4}\\right)$"
      ],
      "text/plain": [
       "         2    3        \n",
       "        x    x     ⎛ 4⎞\n",
       "1 + x + ── + ── + O⎝x ⎠\n",
       "        2    6         "
      ]
     },
     "execution_count": 248,
     "metadata": {},
     "output_type": "execute_result"
    }
   ],
   "source": [
    "# 在x=0处展开4项\n",
    "exp(x).series(x,0,4)"
   ]
  },
  {
   "cell_type": "code",
   "execution_count": 249,
   "metadata": {},
   "outputs": [
    {
     "data": {
      "image/png": "[encoded data removed]",
      "text/latex": [
       "$\\displaystyle e + e \\left(x - 1\\right) + \\frac{e \\left(x - 1\\right)^{2}}{2} + O\\left(\\left(x - 1\\right)^{3}; x\\rightarrow 1\\right)$"
      ],
      "text/plain": [
       "                         2                     \n",
       "                ℯ⋅(x - 1)     ⎛       3       ⎞\n",
       "ℯ + ℯ⋅(x - 1) + ────────── + O⎝(x - 1) ; x → 1⎠\n",
       "                    2                          "
      ]
     },
     "execution_count": 249,
     "metadata": {},
     "output_type": "execute_result"
    }
   ],
   "source": [
    "# 在x=1处展开三项\n",
    "exp(x).series(x,1,3)"
   ]
  },
  {
   "cell_type": "code",
   "execution_count": 250,
   "metadata": {},
   "outputs": [
    {
     "data": {
      "image/png": "[encoded data removed]",
      "text/latex": [
       "$\\displaystyle O\\left(x^{4}\\right)$"
      ],
      "text/plain": [
       " ⎛ 4⎞\n",
       "O⎝x ⎠"
      ]
     },
     "execution_count": 250,
     "metadata": {},
     "output_type": "execute_result"
    }
   ],
   "source": [
    "# 大O表示法\n",
    "O(x**4)"
   ]
  },
  {
   "cell_type": "code",
   "execution_count": 251,
   "metadata": {},
   "outputs": [
    {
     "data": {
      "image/png": "[encoded data removed]",
      "text/latex": [
       "$\\displaystyle \\frac{e \\left(x - 1\\right)^{2}}{2} + e \\left(x - 1\\right) + e$"
      ],
      "text/plain": [
       "         2                \n",
       "ℯ⋅(x - 1)                 \n",
       "────────── + ℯ⋅(x - 1) + ℯ\n",
       "    2                     "
      ]
     },
     "execution_count": 251,
     "metadata": {},
     "output_type": "execute_result"
    }
   ],
   "source": [
    "exp(x).series(x,1,3).removeO()"
   ]
  },
  {
   "cell_type": "markdown",
   "metadata": {},
   "source": [
    "有限差分是一种求解微分方程组的数值解法，见官方文档。"
   ]
  },
  {
   "cell_type": "markdown",
   "metadata": {},
   "source": [
    "# 解方程\n",
    "* 求解一元方程solveset()，solveset只能接受一个表达式\n",
    "* 求解线性方程组linsolve()\n",
    "* 求解非线性方程组nonlinsolve()"
   ]
  },
  {
   "cell_type": "code",
   "execution_count": 253,
   "metadata": {},
   "outputs": [
    {
     "data": {
      "image/png": "[encoded data removed]",
      "text/latex": [
       "$\\displaystyle \\left\\{- \\frac{c}{2 \\left(a + b\\right)} - \\frac{\\sqrt{- 4 a d - 4 b d + c^{2}}}{2 \\left(a + b\\right)}, - \\frac{c}{2 \\left(a + b\\right)} + \\frac{\\sqrt{- 4 a d - 4 b d + c^{2}}}{2 \\left(a + b\\right)}\\right\\}$"
      ],
      "text/plain": [
       "⎧                 _____________________                   ____________________\n",
       "⎪                ╱                   2                   ╱                   2\n",
       "⎨      c       ╲╱  -4⋅a⋅d - 4⋅b⋅d + c          c       ╲╱  -4⋅a⋅d - 4⋅b⋅d + c \n",
       "⎪- ───────── - ────────────────────────, - ───────── + ───────────────────────\n",
       "⎩  2⋅(a + b)          2⋅(a + b)            2⋅(a + b)          2⋅(a + b)       \n",
       "\n",
       "_⎫\n",
       " ⎪\n",
       " ⎬\n",
       "─⎪\n",
       " ⎭"
      ]
     },
     "execution_count": 253,
     "metadata": {},
     "output_type": "execute_result"
    }
   ],
   "source": [
    "a,b,c,d,x=symbols('a,b,c,d,x')\n",
    "# 二次方程求根公式,solve如果没有Eq则表示此式等于0\n",
    "solveset(a*x**2+b*x**2+c*x+d,x)"
   ]
  },
  {
   "cell_type": "code",
   "execution_count": 266,
   "metadata": {},
   "outputs": [
    {
     "data": {
      "image/png": "[encoded data removed]",
      "text/latex": [
       "$\\displaystyle \\left( a_{0} + a_{1} x + a_{2} x^{2}, \\  \\left\\{- \\frac{a_{1}}{2 a_{2}} - \\frac{\\sqrt{- 4 a_{0} a_{2} + a_{1}^{2}}}{2 a_{2}}, - \\frac{a_{1}}{2 a_{2}} + \\frac{\\sqrt{- 4 a_{0} a_{2} + a_{1}^{2}}}{2 a_{2}}\\right\\}, \\  \\mathbb{R} \\cap \\left\\{- \\frac{a_{1}}{2 a_{2}} - \\frac{\\sqrt{- 4 a_{0} a_{2} + a_{1}^{2}}}{2 a_{2}}, - \\frac{a_{1}}{2 a_{2}} + \\frac{\\sqrt{- 4 a_{0} a_{2} + a_{1}^{2}}}{2 a_{2}}\\right\\}\\right)$"
      ],
      "text/plain": [
       "⎛                   ⎧            ________________              _______________\n",
       "⎜                   ⎪           ╱              2              ╱              2\n",
       "⎜                2  ⎨   a₁    ╲╱  -4⋅a₀⋅a₂ + a₁       a₁    ╲╱  -4⋅a₀⋅a₂ + a₁ \n",
       "⎜a₀ + a₁⋅x + a₂⋅x , ⎪- ──── - ───────────────────, - ──── + ──────────────────\n",
       "⎝                   ⎩  2⋅a₂           2⋅a₂           2⋅a₂           2⋅a₂      \n",
       "\n",
       "_⎫      ⎧            ________________              ________________⎫⎞\n",
       " ⎪      ⎪           ╱              2              ╱              2 ⎪⎟\n",
       " ⎬      ⎨   a₁    ╲╱  -4⋅a₀⋅a₂ + a₁       a₁    ╲╱  -4⋅a₀⋅a₂ + a₁  ⎬⎟\n",
       "─⎪, ℝ ∩ ⎪- ──── - ───────────────────, - ──── + ───────────────────⎪⎟\n",
       " ⎭      ⎩  2⋅a₂           2⋅a₂           2⋅a₂           2⋅a₂       ⎭⎠"
      ]
     },
     "execution_count": 266,
     "metadata": {},
     "output_type": "execute_result"
    }
   ],
   "source": [
    "# n次方程求根公式\n",
    "n=3\n",
    "a=symbols(f'a0:{n}')\n",
    "x=symbols('x')\n",
    "s=a[0]\n",
    "for i in range(1,n):\n",
    "    s+=a[i]*x**i\n",
    "s,solveset(s,x),solveset(s,x,domain=S.Reals)"
   ]
  },
  {
   "cell_type": "code",
   "execution_count": 263,
   "metadata": {},
   "outputs": [
    {
     "data": {
      "image/png": "[encoded data removed]",
      "text/latex": [
       "$\\displaystyle \\left\\{0, 1\\right\\}$"
      ],
      "text/plain": [
       "{0, 1}"
      ]
     },
     "execution_count": 263,
     "metadata": {},
     "output_type": "execute_result"
    }
   ],
   "source": [
    "solveset(x**2-x,x)"
   ]
  },
  {
   "cell_type": "code",
   "execution_count": 264,
   "metadata": {},
   "outputs": [
    {
     "data": {
      "image/png": "[encoded data removed]",
      "text/latex": [
       "$\\displaystyle \\left\\{- i, i\\right\\}$"
      ],
      "text/plain": [
       "{-ⅈ, ⅈ}"
      ]
     },
     "execution_count": 264,
     "metadata": {},
     "output_type": "execute_result"
    }
   ],
   "source": [
    "solveset(x**2+1,x)"
   ]
  },
  {
   "cell_type": "code",
   "execution_count": 265,
   "metadata": {},
   "outputs": [
    {
     "data": {
      "image/png": "[encoded data removed]",
      "text/latex": [
       "$\\displaystyle \\emptyset$"
      ],
      "text/plain": [
       "∅"
      ]
     },
     "execution_count": 265,
     "metadata": {},
     "output_type": "execute_result"
    }
   ],
   "source": [
    "# 此方程在实数域无解\n",
    "solveset(x**2+1,x,domain=S.Reals)"
   ]
  },
  {
   "cell_type": "code",
   "execution_count": 269,
   "metadata": {
    "collapsed": true
   },
   "outputs": [
    {
     "data": {
      "text/plain": [
       "['Catalan',\n",
       " 'ComplexInfinity',\n",
       " 'Complexes',\n",
       " 'EmptySet',\n",
       " 'EulerGamma',\n",
       " 'Exp1',\n",
       " 'GoldenRatio',\n",
       " 'Half',\n",
       " 'IdentityFunction',\n",
       " 'ImaginaryUnit',\n",
       " 'Infinity',\n",
       " 'Integers',\n",
       " 'NaN',\n",
       " 'Naturals',\n",
       " 'Naturals0',\n",
       " 'NegativeInfinity',\n",
       " 'NegativeOne',\n",
       " 'One',\n",
       " 'Pi',\n",
       " 'Reals',\n",
       " 'TribonacciConstant',\n",
       " 'UniversalSet',\n",
       " 'Zero',\n",
       " '__call__',\n",
       " '__class__',\n",
       " '__delattr__',\n",
       " '__dir__',\n",
       " '__doc__',\n",
       " '__eq__',\n",
       " '__format__',\n",
       " '__ge__',\n",
       " '__getattr__',\n",
       " '__getattribute__',\n",
       " '__gt__',\n",
       " '__hash__',\n",
       " '__init__',\n",
       " '__init_subclass__',\n",
       " '__le__',\n",
       " '__lt__',\n",
       " '__module__',\n",
       " '__ne__',\n",
       " '__new__',\n",
       " '__reduce__',\n",
       " '__reduce_ex__',\n",
       " '__repr__',\n",
       " '__setattr__',\n",
       " '__sizeof__',\n",
       " '__slots__',\n",
       " '__str__',\n",
       " '__subclasshook__',\n",
       " '_classes_to_install',\n",
       " 'false',\n",
       " 'register',\n",
       " 'true']"
      ]
     },
     "execution_count": 269,
     "metadata": {},
     "output_type": "execute_result"
    }
   ],
   "source": [
    "# 全部数域，每个数域其实就是一个特殊符号，集合之间可以求交集\n",
    "dir(S)"
   ]
  },
  {
   "cell_type": "code",
   "execution_count": 270,
   "metadata": {},
   "outputs": [
    {
     "data": {
      "image/png": "[encoded data removed]",
      "text/latex": [
       "$\\displaystyle \\left\\{2 n \\pi + \\frac{\\pi}{2}\\; |\\; n \\in \\mathbb{Z}\\right\\}$"
      ],
      "text/plain": [
       "⎧        π        ⎫\n",
       "⎨2⋅n⋅π + ─ | n ∊ ℤ⎬\n",
       "⎩        2        ⎭"
      ]
     },
     "execution_count": 270,
     "metadata": {},
     "output_type": "execute_result"
    }
   ],
   "source": [
    "# 解不唯一\n",
    "solveset(sin(x)-1,x)"
   ]
  },
  {
   "cell_type": "markdown",
   "metadata": {},
   "source": [
    "linsolve()接受三种类型的参数：\n",
    "* 代数式列表\n",
    "* 矩阵\n",
    "* 矩阵A和结果b元祖"
   ]
  },
  {
   "cell_type": "code",
   "execution_count": 305,
   "metadata": {},
   "outputs": [
    {
     "data": {
      "image/png": "[encoded data removed]",
      "text/latex": [
       "$\\displaystyle \\left\\{\\left( 0, \\  0\\right)\\right\\}$"
      ],
      "text/plain": [
       "{(0, 0)}"
      ]
     },
     "execution_count": 305,
     "metadata": {},
     "output_type": "execute_result"
    }
   ],
   "source": [
    "a,b,c,d,x,y=symbols('a,b,c,d,x,y')\n",
    "linsolve([a*x+b*y,c*x+d*y],(x,y))"
   ]
  },
  {
   "cell_type": "code",
   "execution_count": 274,
   "metadata": {},
   "outputs": [
    {
     "data": {
      "image/png": "[encoded data removed]",
      "text/latex": [
       "$\\displaystyle \\left\\{\\left( \\frac{- 4 b + 3 d}{a d - b c}, \\  \\frac{4 a - 3 c}{a d - b c}\\right)\\right\\}$"
      ],
      "text/plain": [
       "⎧⎛-4⋅b + 3⋅d  4⋅a - 3⋅c⎞⎫\n",
       "⎨⎜──────────, ─────────⎟⎬\n",
       "⎩⎝a⋅d - b⋅c   a⋅d - b⋅c⎠⎭"
      ]
     },
     "execution_count": 274,
     "metadata": {},
     "output_type": "execute_result"
    }
   ],
   "source": [
    "linsolve([Eq(a*x+b*y,3),Eq(c*x+d*y,4)],(x,y))"
   ]
  },
  {
   "cell_type": "code",
   "execution_count": 307,
   "metadata": {},
   "outputs": [
    {
     "data": {
      "image/png": "[encoded data removed]",
      "text/latex": [
       "$\\displaystyle \\left\\{\\left( \\frac{- b y - c z + 3}{a}, \\  y, \\  z\\right)\\right\\}$"
      ],
      "text/plain": [
       "⎧⎛-b⋅y - c⋅z + 3      ⎞⎫\n",
       "⎨⎜──────────────, y, z⎟⎬\n",
       "⎩⎝      a             ⎠⎭"
      ]
     },
     "execution_count": 307,
     "metadata": {},
     "output_type": "execute_result"
    }
   ],
   "source": [
    "# 方程返回多组解\n",
    "a,b,c,x,y,z=symbols('a,b,c,x,y,z')\n",
    "linsolve(Matrix([[a,b,c,3]]),(x,y,z))"
   ]
  },
  {
   "cell_type": "code",
   "execution_count": 282,
   "metadata": {},
   "outputs": [
    {
     "data": {
      "image/png": "[encoded data removed]",
      "text/latex": [
       "$\\displaystyle \\left\\{\\left( \\frac{- b y + 1}{a}, \\  y\\right)\\right\\}$"
      ],
      "text/plain": [
       "⎧⎛-b⋅y + 1   ⎞⎫\n",
       "⎨⎜────────, y⎟⎬\n",
       "⎩⎝   a       ⎠⎭"
      ]
     },
     "execution_count": 282,
     "metadata": {},
     "output_type": "execute_result"
    }
   ],
   "source": [
    "# 不满秩的线性方程组\n",
    "linsolve([Eq(a*x+b*y,1)],[x,y])"
   ]
  },
  {
   "cell_type": "code",
   "execution_count": 308,
   "metadata": {},
   "outputs": [
    {
     "data": {
      "image/png": "[encoded data removed]",
      "text/latex": [
       "$\\displaystyle \\left[ \\right]$"
      ],
      "text/plain": [
       "[]"
      ]
     },
     "execution_count": 308,
     "metadata": {},
     "output_type": "execute_result"
    }
   ],
   "source": [
    "# 用solve却返回空，说明solve不能求解线性方程组\n",
    "a,b,c,d,e,f,x,y,z=symbols('a,b,c,d,e,f,x,y,z')\n",
    "solve(Matrix([[a,b,c,3],[d,e,f,4]]),x)"
   ]
  },
  {
   "cell_type": "code",
   "execution_count": 280,
   "metadata": {},
   "outputs": [
    {
     "data": {
      "image/png": "[encoded data removed]",
      "text/latex": [
       "$\\displaystyle \\left\\{\\left( \\frac{- 4 b + 3 d}{a d - b c}, \\  \\frac{4 a - 3 c}{a d - b c}\\right)\\right\\}$"
      ],
      "text/plain": [
       "⎧⎛-4⋅b + 3⋅d  4⋅a - 3⋅c⎞⎫\n",
       "⎨⎜──────────, ─────────⎟⎬\n",
       "⎩⎝a⋅d - b⋅c   a⋅d - b⋅c⎠⎭"
      ]
     },
     "execution_count": 280,
     "metadata": {},
     "output_type": "execute_result"
    }
   ],
   "source": [
    "ma=Matrix([[a,b,3],[c,d,4]])\n",
    "linsolve((ma[:,:-1],ma[:,-1]),(x,y))"
   ]
  },
  {
   "cell_type": "code",
   "execution_count": 289,
   "metadata": {},
   "outputs": [
    {
     "data": {
      "image/png": "[encoded data removed]",
      "text/latex": [
       "$\\displaystyle \\left[ \\left( \\pi - \\operatorname{asin}{\\left(\\cos{\\left(y \\right)} \\right)}, \\  y\\right), \\  \\left( \\operatorname{asin}{\\left(\\cos{\\left(y \\right)} \\right)}, \\  y\\right)\\right]$"
      ],
      "text/plain": [
       "[(π - asin(cos(y)), y), (asin(cos(y)), y)]"
      ]
     },
     "execution_count": 289,
     "metadata": {},
     "output_type": "execute_result"
    }
   ],
   "source": [
    "x,y=symbols('x,y')\n",
    "# 使用solveset却会报错，因为solveset只能求一个未知量\n",
    "solve(Eq(sin(x)-cos(y),0),(x,y))"
   ]
  },
  {
   "cell_type": "code",
   "execution_count": 339,
   "metadata": {},
   "outputs": [
    {
     "data": {
      "image/png": "[encoded data removed]",
      "text/latex": [
       "$\\displaystyle \\left( \\left\\{x \\mid x \\in \\mathbb{R} \\wedge \\sin{\\left(x \\right)} - \\cos{\\left(y \\right)} = 0 \\right\\}, \\  \\left\\{\\left( \\left\\{x \\mid x \\in \\mathbb{R} \\wedge \\sin{\\left(x \\right)} - \\cos{\\left(y \\right)} = 0 \\right\\}\\right)\\right\\}\\right)$"
      ],
      "text/plain": [
       "({x | x ∊ ℝ ∧ sin(x) - cos(y) = 0}, {({x | x ∊ ℝ ∧ sin(x) - cos(y) = 0},)})"
      ]
     },
     "execution_count": 339,
     "metadata": {},
     "output_type": "execute_result"
    }
   ],
   "source": [
    "# solveset和nonlinsolve不能求解三角函数方程\n",
    "solveset(Eq(sin(x)-cos(y),0),x),nonlinsolve([Eq(sin(x)-cos(y),0)],x)"
   ]
  },
  {
   "cell_type": "code",
   "execution_count": 294,
   "metadata": {},
   "outputs": [
    {
     "data": {
      "image/png": "[encoded data removed]",
      "text/latex": [
       "$\\displaystyle \\left[ \\pi - \\operatorname{asin}{\\left(\\cos{\\left(y \\right)} \\right)}, \\  \\operatorname{asin}{\\left(\\cos{\\left(y \\right)} \\right)}\\right]$"
      ],
      "text/plain": [
       "[π - asin(cos(y)), asin(cos(y))]"
      ]
     },
     "execution_count": 294,
     "metadata": {},
     "output_type": "execute_result"
    }
   ],
   "source": [
    "solve(Eq(sin(x)-cos(y),0),x)"
   ]
  },
  {
   "cell_type": "code",
   "execution_count": 337,
   "metadata": {},
   "outputs": [
    {
     "data": {
      "image/png": "[encoded data removed]",
      "text/latex": [
       "$\\displaystyle \\left[ \\left\\{ x : \\pi - \\operatorname{asin}{\\left(\\cos{\\left(y \\right)} \\right)}\\right\\}, \\  \\left\\{ x : \\operatorname{asin}{\\left(\\cos{\\left(y \\right)} \\right)}\\right\\}\\right]$"
      ],
      "text/plain": [
       "[{x: π - asin(cos(y))}, {x: asin(cos(y))}]"
      ]
     },
     "execution_count": 337,
     "metadata": {},
     "output_type": "execute_result"
    }
   ],
   "source": [
    "# solve函数可以返回字典，solve只能解决一个自变量\n",
    "solve(Eq(sin(x)-cos(y),0),(x,y),dict=True)"
   ]
  },
  {
   "cell_type": "code",
   "execution_count": 342,
   "metadata": {},
   "outputs": [
    {
     "data": {
      "image/png": "[encoded data removed]",
      "text/latex": [
       "$\\displaystyle \\left[ \\sin{\\left(x \\right)} + \\cos{\\left(x \\right)} = 1, \\  \\sin{\\left(x + y \\right)} = 2\\right]$"
      ],
      "text/plain": [
       "[sin(x) + cos(x) = 1, sin(x + y) = 2]"
      ]
     },
     "execution_count": 342,
     "metadata": {},
     "output_type": "execute_result"
    }
   ],
   "source": [
    "triangle_system=[Eq(sin(x)+cos(x),1),Eq(sin(x+y),2)]\n",
    "triangle_system"
   ]
  },
  {
   "cell_type": "code",
   "execution_count": 343,
   "metadata": {},
   "outputs": [
    {
     "data": {
      "image/png": "[encoded data removed]",
      "text/latex": [
       "$\\displaystyle \\left[ \\left\\{ x : 0, \\  y : \\pi - \\operatorname{asin}{\\left(2 \\right)}\\right\\}, \\  \\left\\{ x : 0, \\  y : \\operatorname{asin}{\\left(2 \\right)}\\right\\}, \\  \\left\\{ x : \\frac{\\pi}{2}, \\  y : 2 \\pi - \\operatorname{acos}{\\left(2 \\right)}\\right\\}, \\  \\left\\{ x : \\frac{\\pi}{2}, \\  y : \\operatorname{acos}{\\left(2 \\right)}\\right\\}\\right]$"
      ],
      "text/plain": [
       "⎡                                            ⎧   π                  ⎫  ⎧   π  \n",
       "⎢{x: 0, y: π - asin(2)}, {x: 0, y: asin(2)}, ⎨x: ─, y: 2⋅π - acos(2)⎬, ⎨x: ─, \n",
       "⎣                                            ⎩   2                  ⎭  ⎩   2  \n",
       "\n",
       "          ⎫⎤\n",
       "y: acos(2)⎬⎥\n",
       "          ⎭⎦"
      ]
     },
     "execution_count": 343,
     "metadata": {},
     "output_type": "execute_result"
    }
   ],
   "source": [
    "solve(triangle_system,(x,y),dict=True)"
   ]
  },
  {
   "cell_type": "code",
   "execution_count": 346,
   "metadata": {},
   "outputs": [
    {
     "data": {
      "image/png": "[encoded data removed]",
      "text/latex": [
       "$\\displaystyle \\left\\{\\left( \\left\\{2 n \\pi\\; |\\; n \\in \\mathbb{Z}\\right\\}\\right), \\left( \\left\\{2 n \\pi + \\frac{\\pi}{2}\\; |\\; n \\in \\mathbb{Z}\\right\\}\\right)\\right\\}$"
      ],
      "text/plain": [
       "⎧                    ⎛⎧        π        ⎫ ⎞⎫\n",
       "⎨({2⋅n⋅π | n ∊ ℤ},), ⎜⎨2⋅n⋅π + ─ | n ∊ ℤ⎬,⎟⎬\n",
       "⎩                    ⎝⎩        2        ⎭ ⎠⎭"
      ]
     },
     "execution_count": 346,
     "metadata": {},
     "output_type": "execute_result"
    }
   ],
   "source": [
    "# nonlinsolve只能求一个变量，并且这个结果没有考虑第二个式子\n",
    "nonlinsolve(triangle_system,x)"
   ]
  },
  {
   "cell_type": "code",
   "execution_count": 347,
   "metadata": {},
   "outputs": [
    {
     "data": {
      "image/png": "[encoded data removed]",
      "text/latex": [
       "$\\displaystyle \\left\\{2 n \\pi\\; |\\; n \\in \\mathbb{Z}\\right\\} \\cup \\left\\{2 n \\pi + \\frac{\\pi}{2}\\; |\\; n \\in \\mathbb{Z}\\right\\}$"
      ],
      "text/plain": [
       "                  ⎧        π        ⎫\n",
       "{2⋅n⋅π | n ∊ ℤ} ∪ ⎨2⋅n⋅π + ─ | n ∊ ℤ⎬\n",
       "                  ⎩        2        ⎭"
      ]
     },
     "execution_count": 347,
     "metadata": {},
     "output_type": "execute_result"
    }
   ],
   "source": [
    "# solveset只能接受一个代数表达式，不能接受一个方程组。solveset的未知量只能求一个变量，不能求多个变量\n",
    "solveset(triangle_system[0],x)"
   ]
  },
  {
   "cell_type": "markdown",
   "metadata": {},
   "source": [
    "solve()是唯一能够正确解决三角方程组的函数"
   ]
  },
  {
   "cell_type": "code",
   "execution_count": 333,
   "metadata": {},
   "outputs": [
    {
     "data": {
      "image/png": "[encoded data removed]",
      "text/latex": [
       "$\\displaystyle \\left( \\left\\{-1, 1\\right\\}, \\  \\left\\{ -1 : 1, \\  1 : 2\\right\\}, \\  \\left[ -1, \\  1\\right], \\  \\left[ \\left\\{ x : -1\\right\\}, \\  \\left\\{ x : 1\\right\\}\\right]\\right)$"
      ],
      "text/plain": [
       "({-1, 1}, {-1: 1, 1: 2}, [-1, 1], [{x: -1}, {x: 1}])"
      ]
     },
     "execution_count": 333,
     "metadata": {},
     "output_type": "execute_result"
    }
   ],
   "source": [
    "# 方程求根\n",
    "x=symbols('x')\n",
    "system=(x-1)**2*(x+1)\n",
    "solveset(system,x),roots(system),solve(system,x),solve(system,x,dict=True)\n",
    "# roots返回来的字典key表示根，value表示几重根"
   ]
  },
  {
   "cell_type": "code",
   "execution_count": 334,
   "metadata": {},
   "outputs": [
    {
     "data": {
      "image/png": "[encoded data removed]",
      "text/latex": [
       "$\\displaystyle \\left[ \\left( - \\frac{3 \\pi}{4}, \\  \\frac{3 \\pi}{4}\\right), \\  \\left( - \\frac{\\pi}{4}, \\  \\frac{\\pi}{4}\\right), \\  \\left( \\frac{\\pi}{4}, \\  \\frac{3 \\pi}{4}\\right), \\  \\left( \\frac{3 \\pi}{4}, \\  \\frac{\\pi}{4}\\right)\\right]$"
      ],
      "text/plain": [
       "⎡⎛-3⋅π   3⋅π⎞  ⎛-π   π⎞  ⎛π  3⋅π⎞  ⎛3⋅π  π⎞⎤\n",
       "⎢⎜─────, ───⎟, ⎜───, ─⎟, ⎜─, ───⎟, ⎜───, ─⎟⎥\n",
       "⎣⎝  4     4 ⎠  ⎝ 4   4⎠  ⎝4   4 ⎠  ⎝ 4   4⎠⎦"
      ]
     },
     "execution_count": 334,
     "metadata": {},
     "output_type": "execute_result"
    }
   ],
   "source": [
    "solve([sin(x + y), cos(x - y)], [x, y])"
   ]
  },
  {
   "cell_type": "markdown",
   "metadata": {},
   "source": [
    "求解微分方程"
   ]
  },
  {
   "cell_type": "code",
   "execution_count": 325,
   "metadata": {},
   "outputs": [
    {
     "data": {
      "image/png": "[encoded data removed]",
      "text/latex": [
       "$\\displaystyle - x + f{\\left(x \\right)} + \\cos{\\left(f{\\left(x \\right)} \\right)} = C_{1}$"
      ],
      "text/plain": [
       "-x + f(x) + cos(f(x)) = C₁"
      ]
     },
     "execution_count": 325,
     "metadata": {},
     "output_type": "execute_result"
    }
   ],
   "source": [
    "f=Function('f')\n",
    "x=symbols('x')\n",
    "dsolve(f(x).diff(x)*(1 - sin(f(x))) - 1, f(x))"
   ]
  },
  {
   "cell_type": "markdown",
   "metadata": {},
   "source": [
    "# 矩阵"
   ]
  },
  {
   "cell_type": "code",
   "execution_count": 371,
   "metadata": {},
   "outputs": [
    {
     "data": {
      "text/latex": [
       "$\\displaystyle \\left( \\left[\\begin{matrix}0 & 1 & 2\\\\3 & 4 & 5\\\\6 & 7 & 8\\end{matrix}\\right], \\  \\left( 3, \\  3\\right)\\right)$"
      ],
      "text/plain": [
       "⎛⎡0  1  2⎤        ⎞\n",
       "⎜⎢       ⎥        ⎟\n",
       "⎜⎢3  4  5⎥, (3, 3)⎟\n",
       "⎜⎢       ⎥        ⎟\n",
       "⎝⎣6  7  8⎦        ⎠"
      ]
     },
     "execution_count": 371,
     "metadata": {},
     "output_type": "execute_result"
    }
   ],
   "source": [
    "import numpy as np\n",
    "a=np.arange(9).reshape(3,3)\n",
    "a=Matrix(a)\n",
    "a,a.shape"
   ]
  },
  {
   "cell_type": "code",
   "execution_count": 366,
   "metadata": {},
   "outputs": [
    {
     "data": {
      "text/latex": [
       "$\\displaystyle \\left( \\left[\\begin{matrix}0 & 1 & 2\\end{matrix}\\right], \\  \\left[\\begin{matrix}2\\\\5\\\\8\\end{matrix}\\right], \\  \\left[\\begin{matrix}0 & 1 & 2\\end{matrix}\\right], \\  \\left[\\begin{matrix}2\\\\5\\\\8\\end{matrix}\\right]\\right)$"
      ],
      "text/plain": [
       "⎛           ⎡2⎤             ⎡2⎤⎞\n",
       "⎜           ⎢ ⎥             ⎢ ⎥⎟\n",
       "⎜[0  1  2], ⎢5⎥, [0  1  2], ⎢5⎥⎟\n",
       "⎜           ⎢ ⎥             ⎢ ⎥⎟\n",
       "⎝           ⎣8⎦             ⎣8⎦⎠"
      ]
     },
     "execution_count": 366,
     "metadata": {},
     "output_type": "execute_result"
    }
   ],
   "source": [
    "a.row(0),a.col(-1),a[0,:],a[:,-1]"
   ]
  },
  {
   "cell_type": "markdown",
   "metadata": {},
   "source": [
    "row_del,col_del是在原来位置上进行操作\n",
    "row_insert,col_insert是copy一份新数据"
   ]
  },
  {
   "cell_type": "code",
   "execution_count": 372,
   "metadata": {},
   "outputs": [
    {
     "data": {
      "text/latex": [
       "$\\displaystyle \\left[\\begin{matrix}3 & 4 & 5\\\\6 & 7 & 8\\end{matrix}\\right]$"
      ],
      "text/plain": [
       "⎡3  4  5⎤\n",
       "⎢       ⎥\n",
       "⎣6  7  8⎦"
      ]
     },
     "execution_count": 372,
     "metadata": {},
     "output_type": "execute_result"
    }
   ],
   "source": [
    "a.row_del(0)\n",
    "a"
   ]
  },
  {
   "cell_type": "code",
   "execution_count": 373,
   "metadata": {},
   "outputs": [
    {
     "data": {
      "text/latex": [
       "$\\displaystyle \\left[\\begin{matrix}0 & 1 & 2\\\\3 & 4 & 5\\\\6 & 7 & 8\\end{matrix}\\right]$"
      ],
      "text/plain": [
       "⎡0  1  2⎤\n",
       "⎢       ⎥\n",
       "⎢3  4  5⎥\n",
       "⎢       ⎥\n",
       "⎣6  7  8⎦"
      ]
     },
     "execution_count": 373,
     "metadata": {},
     "output_type": "execute_result"
    }
   ],
   "source": [
    "a=a.row_insert(0,Matrix([[0,1,2]]))\n",
    "a"
   ]
  },
  {
   "cell_type": "code",
   "execution_count": 374,
   "metadata": {},
   "outputs": [
    {
     "data": {
      "text/latex": [
       "$\\displaystyle \\left[\\begin{matrix}1 & 2\\\\4 & 5\\\\7 & 8\\end{matrix}\\right]$"
      ],
      "text/plain": [
       "⎡1  2⎤\n",
       "⎢    ⎥\n",
       "⎢4  5⎥\n",
       "⎢    ⎥\n",
       "⎣7  8⎦"
      ]
     },
     "execution_count": 374,
     "metadata": {},
     "output_type": "execute_result"
    }
   ],
   "source": [
    "a.col_del(0)\n",
    "a"
   ]
  },
  {
   "cell_type": "code",
   "execution_count": 375,
   "metadata": {},
   "outputs": [],
   "source": [
    "# 插入列向量Matrix(一维数组)会自动构建成列向量\n",
    "a=a.col_insert(0,Matrix([0,3,6]))\n",
    "a"
   ]
  },
  {
   "cell_type": "code",
   "execution_count": 378,
   "metadata": {},
   "outputs": [],
   "source": [
    "# 插入多列\n",
    "a=a.col_insert(0,Matrix([[9,13],[10,14],[11,15]]))\n",
    "a"
   ]
  },
  {
   "cell_type": "markdown",
   "metadata": {},
   "source": [
    "矩阵的基本操作"
   ]
  },
  {
   "cell_type": "code",
   "execution_count": 388,
   "metadata": {},
   "outputs": [
    {
     "data": {
      "text/latex": [
       "$\\displaystyle \\left( \\left[\\begin{matrix}0 & 2\\\\1 & 3\\end{matrix}\\right], \\  -2\\right)$"
      ],
      "text/plain": [
       "⎛⎡0  2⎤    ⎞\n",
       "⎜⎢    ⎥, -2⎟\n",
       "⎝⎣1  3⎦    ⎠"
      ]
     },
     "execution_count": 388,
     "metadata": {},
     "output_type": "execute_result"
    }
   ],
   "source": [
    "a=Matrix(np.arange(4).reshape(2,2))\n",
    "# 转置，行列式的值\n",
    "a.T,a.det()"
   ]
  },
  {
   "cell_type": "code",
   "execution_count": 389,
   "metadata": {},
   "outputs": [
    {
     "data": {
      "text/latex": [
       "$\\displaystyle \\left[\\begin{matrix}2 & 3\\\\6 & 11\\end{matrix}\\right]$"
      ],
      "text/plain": [
       "⎡2  3 ⎤\n",
       "⎢     ⎥\n",
       "⎣6  11⎦"
      ]
     },
     "execution_count": 389,
     "metadata": {},
     "output_type": "execute_result"
    }
   ],
   "source": [
    "# 乘方\n",
    "a**2"
   ]
  },
  {
   "cell_type": "code",
   "execution_count": null,
   "metadata": {},
   "outputs": [],
   "source": [
    "# 逆,如果矩阵不满秩就会抛出异常\n",
    "a**-1"
   ]
  },
  {
   "cell_type": "markdown",
   "metadata": {},
   "source": [
    "矩阵的创建"
   ]
  },
  {
   "cell_type": "code",
   "execution_count": 392,
   "metadata": {},
   "outputs": [
    {
     "data": {
      "text/latex": [
       "$\\displaystyle \\left( \\left[\\begin{matrix}1 & 0\\\\0 & 1\\end{matrix}\\right], \\  \\left[\\begin{matrix}1 & 1\\\\1 & 1\\end{matrix}\\right], \\  \\left[\\begin{matrix}0 & 0\\\\0 & 0\\end{matrix}\\right], \\  \\left[\\begin{matrix}1 & 0 & 0\\\\0 & 2 & 0\\\\0 & 0 & 3\\end{matrix}\\right]\\right)$"
      ],
      "text/plain": [
       "⎛                        ⎡1  0  0⎤⎞\n",
       "⎜⎡1  0⎤  ⎡1  1⎤  ⎡0  0⎤  ⎢       ⎥⎟\n",
       "⎜⎢    ⎥, ⎢    ⎥, ⎢    ⎥, ⎢0  2  0⎥⎟\n",
       "⎜⎣0  1⎦  ⎣1  1⎦  ⎣0  0⎦  ⎢       ⎥⎟\n",
       "⎝                        ⎣0  0  3⎦⎠"
      ]
     },
     "execution_count": 392,
     "metadata": {},
     "output_type": "execute_result"
    }
   ],
   "source": [
    "eye(2),ones(2),zeros(2),diag(1,2,3)"
   ]
  },
  {
   "cell_type": "code",
   "execution_count": 395,
   "metadata": {},
   "outputs": [
    {
     "data": {
      "text/latex": [
       "$\\displaystyle \\left( \\left[\\begin{matrix}1 & 0 & 0 & 0 & 0 & 0 & 0 & 0 & 0\\\\0 & 2 & 0 & 0 & 0 & 0 & 0 & 0 & 0\\\\0 & 0 & 3 & 0 & 0 & 0 & 0 & 0 & 0\\\\0 & 0 & 0 & 1 & 1 & 0 & 0 & 0 & 0\\\\0 & 0 & 0 & 1 & 1 & 0 & 0 & 0 & 0\\\\0 & 0 & 0 & 0 & 0 & 1 & 0 & 0 & 0\\\\0 & 0 & 0 & 0 & 0 & 0 & 1 & 0 & 0\\\\0 & 0 & 0 & 0 & 0 & 0 & 0 & 1 & 0\\\\0 & 0 & 0 & 0 & 0 & 0 & 0 & 0 & 7\\\\0 & 0 & 0 & 0 & 0 & 0 & 0 & 0 & 8\\\\0 & 0 & 0 & 0 & 0 & 0 & 0 & 0 & 9\\end{matrix}\\right], \\  \\left( 11, \\  9\\right)\\right)$"
      ],
      "text/plain": [
       "⎛⎡1  0  0  0  0  0  0  0  0⎤         ⎞\n",
       "⎜⎢                         ⎥         ⎟\n",
       "⎜⎢0  2  0  0  0  0  0  0  0⎥         ⎟\n",
       "⎜⎢                         ⎥         ⎟\n",
       "⎜⎢0  0  3  0  0  0  0  0  0⎥         ⎟\n",
       "⎜⎢                         ⎥         ⎟\n",
       "⎜⎢0  0  0  1  1  0  0  0  0⎥         ⎟\n",
       "⎜⎢                         ⎥         ⎟\n",
       "⎜⎢0  0  0  1  1  0  0  0  0⎥         ⎟\n",
       "⎜⎢                         ⎥         ⎟\n",
       "⎜⎢0  0  0  0  0  1  0  0  0⎥, (11, 9)⎟\n",
       "⎜⎢                         ⎥         ⎟\n",
       "⎜⎢0  0  0  0  0  0  1  0  0⎥         ⎟\n",
       "⎜⎢                         ⎥         ⎟\n",
       "⎜⎢0  0  0  0  0  0  0  1  0⎥         ⎟\n",
       "⎜⎢                         ⎥         ⎟\n",
       "⎜⎢0  0  0  0  0  0  0  0  7⎥         ⎟\n",
       "⎜⎢                         ⎥         ⎟\n",
       "⎜⎢0  0  0  0  0  0  0  0  8⎥         ⎟\n",
       "⎜⎢                         ⎥         ⎟\n",
       "⎝⎣0  0  0  0  0  0  0  0  9⎦         ⎠"
      ]
     },
     "execution_count": 395,
     "metadata": {},
     "output_type": "execute_result"
    }
   ],
   "source": [
    "# 对角矩阵的构建很灵活\n",
    "a=diag(1,2,3,ones(2),eye(3),Matrix([7,8,9]))\n",
    "a,a.shape"
   ]
  },
  {
   "cell_type": "code",
   "execution_count": 405,
   "metadata": {},
   "outputs": [
    {
     "data": {
      "text/latex": [
       "$\\displaystyle \\left[\\begin{matrix}2 & 6 & 6 & 2 & 2\\\\2 & 8 & 7 & 3 & 1\\\\6 & 2 & 2 & 3 & 6\\end{matrix}\\right]$"
      ],
      "text/plain": [
       "⎡2  6  6  2  2⎤\n",
       "⎢             ⎥\n",
       "⎢2  8  7  3  1⎥\n",
       "⎢             ⎥\n",
       "⎣6  2  2  3  6⎦"
      ]
     },
     "execution_count": 405,
     "metadata": {},
     "output_type": "execute_result"
    }
   ],
   "source": [
    "a=Matrix(np.random.randint(1,9,(3,5)))\n",
    "a"
   ]
  },
  {
   "cell_type": "code",
   "execution_count": 406,
   "metadata": {},
   "outputs": [
    {
     "data": {
      "text/latex": [
       "$\\displaystyle \\left( \\left[\\begin{matrix}1 & 0 & 0 & \\frac{7}{16} & 1\\\\0 & 1 & 0 & \\frac{13}{16} & -1\\\\0 & 0 & 1 & - \\frac{5}{8} & 1\\end{matrix}\\right], \\  \\left( 0, \\  1, \\  2\\right)\\right)$"
      ],
      "text/plain": [
       "⎛⎡1  0  0  7/16  1 ⎤           ⎞\n",
       "⎜⎢                 ⎥           ⎟\n",
       "⎜⎢          13     ⎥           ⎟\n",
       "⎜⎢0  1  0   ──   -1⎥, (0, 1, 2)⎟\n",
       "⎜⎢          16     ⎥           ⎟\n",
       "⎜⎢                 ⎥           ⎟\n",
       "⎝⎣0  0  1  -5/8  1 ⎦           ⎠"
      ]
     },
     "execution_count": 406,
     "metadata": {},
     "output_type": "execute_result"
    }
   ],
   "source": [
    "# 把矩阵左上角化为单位阵\n",
    "a.rref()"
   ]
  },
  {
   "cell_type": "markdown",
   "metadata": {},
   "source": [
    "矩阵的nullspace表示解空间中的任意常数向量"
   ]
  },
  {
   "cell_type": "code",
   "execution_count": 407,
   "metadata": {},
   "outputs": [
    {
     "data": {
      "text/latex": [
       "$\\displaystyle \\left[ \\left[\\begin{matrix}- \\frac{7}{16}\\\\- \\frac{13}{16}\\\\\\frac{5}{8}\\\\1\\\\0\\end{matrix}\\right], \\  \\left[\\begin{matrix}-1\\\\1\\\\-1\\\\0\\\\1\\end{matrix}\\right]\\right]$"
      ],
      "text/plain": [
       "⎡⎡-7/16⎤      ⎤\n",
       "⎢⎢     ⎥  ⎡-1⎤⎥\n",
       "⎢⎢-13  ⎥  ⎢  ⎥⎥\n",
       "⎢⎢──── ⎥  ⎢1 ⎥⎥\n",
       "⎢⎢ 16  ⎥  ⎢  ⎥⎥\n",
       "⎢⎢     ⎥, ⎢-1⎥⎥\n",
       "⎢⎢ 5/8 ⎥  ⎢  ⎥⎥\n",
       "⎢⎢     ⎥  ⎢0 ⎥⎥\n",
       "⎢⎢  1  ⎥  ⎢  ⎥⎥\n",
       "⎢⎢     ⎥  ⎣1 ⎦⎥\n",
       "⎣⎣  0  ⎦      ⎦"
      ]
     },
     "execution_count": 407,
     "metadata": {},
     "output_type": "execute_result"
    }
   ],
   "source": [
    "# 矩阵的列空间和行空间\n",
    "a.nullspace()"
   ]
  },
  {
   "cell_type": "code",
   "execution_count": 411,
   "metadata": {},
   "outputs": [
    {
     "data": {
      "text/latex": [
       "$\\displaystyle \\left( \\left[ \\left[\\begin{matrix}2\\\\2\\\\6\\end{matrix}\\right], \\  \\left[\\begin{matrix}6\\\\8\\\\2\\end{matrix}\\right], \\  \\left[\\begin{matrix}6\\\\7\\\\2\\end{matrix}\\right]\\right], \\  \\left[ \\right]\\right)$"
      ],
      "text/plain": [
       "⎛⎡⎡2⎤  ⎡6⎤  ⎡6⎤⎤    ⎞\n",
       "⎜⎢⎢ ⎥  ⎢ ⎥  ⎢ ⎥⎥    ⎟\n",
       "⎜⎢⎢2⎥, ⎢8⎥, ⎢7⎥⎥, []⎟\n",
       "⎜⎢⎢ ⎥  ⎢ ⎥  ⎢ ⎥⎥    ⎟\n",
       "⎝⎣⎣6⎦  ⎣2⎦  ⎣2⎦⎦    ⎠"
      ]
     },
     "execution_count": 411,
     "metadata": {},
     "output_type": "execute_result"
    }
   ],
   "source": [
    "a.columnspace()"
   ]
  },
  {
   "cell_type": "code",
   "execution_count": 416,
   "metadata": {},
   "outputs": [
    {
     "data": {
      "text/latex": [
       "$\\displaystyle \\left( \\left[\\begin{matrix}2 & 2 & 6\\\\6 & 8 & 2\\\\6 & 7 & 2\\\\2 & 3 & 3\\\\2 & 1 & 6\\end{matrix}\\right], \\  \\left[ \\left[\\begin{matrix}2\\\\6\\\\6\\\\2\\\\2\\end{matrix}\\right], \\  \\left[\\begin{matrix}2\\\\8\\\\7\\\\3\\\\1\\end{matrix}\\right], \\  \\left[\\begin{matrix}6\\\\2\\\\2\\\\3\\\\6\\end{matrix}\\right]\\right]\\right)$"
      ],
      "text/plain": [
       "⎛⎡2  2  6⎤  ⎡⎡2⎤  ⎡2⎤  ⎡6⎤⎤⎞\n",
       "⎜⎢       ⎥  ⎢⎢ ⎥  ⎢ ⎥  ⎢ ⎥⎥⎟\n",
       "⎜⎢6  8  2⎥  ⎢⎢6⎥  ⎢8⎥  ⎢2⎥⎥⎟\n",
       "⎜⎢       ⎥  ⎢⎢ ⎥  ⎢ ⎥  ⎢ ⎥⎥⎟\n",
       "⎜⎢6  7  2⎥, ⎢⎢6⎥, ⎢7⎥, ⎢2⎥⎥⎟\n",
       "⎜⎢       ⎥  ⎢⎢ ⎥  ⎢ ⎥  ⎢ ⎥⎥⎟\n",
       "⎜⎢2  3  3⎥  ⎢⎢2⎥  ⎢3⎥  ⎢3⎥⎥⎟\n",
       "⎜⎢       ⎥  ⎢⎢ ⎥  ⎢ ⎥  ⎢ ⎥⎥⎟\n",
       "⎝⎣2  1  6⎦  ⎣⎣2⎦  ⎣1⎦  ⎣6⎦⎦⎠"
      ]
     },
     "execution_count": 416,
     "metadata": {},
     "output_type": "execute_result"
    }
   ],
   "source": [
    "a.T,a.T.columnspace()"
   ]
  },
  {
   "cell_type": "code",
   "execution_count": 5,
   "metadata": {},
   "outputs": [
    {
     "data": {
      "image/png": "[encoded data removed]",
      "text/latex": [
       "$\\displaystyle \\left\\{ \\frac{5}{2} - \\frac{\\sqrt{57}}{2} : 1, \\  \\frac{5}{2} + \\frac{\\sqrt{57}}{2} : 1\\right\\}$"
      ],
      "text/plain": [
       "⎧5   √57     5   √57   ⎫\n",
       "⎨─ - ───: 1, ─ + ───: 1⎬\n",
       "⎩2    2      2    2    ⎭"
      ]
     },
     "execution_count": 5,
     "metadata": {},
     "output_type": "execute_result"
    }
   ],
   "source": [
    "a=Matrix(np.random.randint(1,9,(2,2)))\n",
    "a.eigenvals()"
   ]
  },
  {
   "cell_type": "code",
   "execution_count": 6,
   "metadata": {},
   "outputs": [
    {
     "data": {
      "text/latex": [
       "$\\displaystyle \\left[ \\left( \\frac{5}{2} - \\frac{\\sqrt{57}}{2}, \\  1, \\  \\left[ \\left[\\begin{matrix}- \\frac{4}{- \\frac{3}{2} + \\frac{\\sqrt{57}}{2}}\\\\1\\end{matrix}\\right]\\right]\\right), \\  \\left( \\frac{5}{2} + \\frac{\\sqrt{57}}{2}, \\  1, \\  \\left[ \\left[\\begin{matrix}- \\frac{4}{- \\frac{\\sqrt{57}}{2} - \\frac{3}{2}}\\\\1\\end{matrix}\\right]\\right]\\right)\\right]$"
      ],
      "text/plain": [
       "⎡⎛            ⎡⎡   -4    ⎤⎤⎞  ⎛            ⎡⎡   -4    ⎤⎤⎞⎤\n",
       "⎢⎜            ⎢⎢─────────⎥⎥⎟  ⎜            ⎢⎢─────────⎥⎥⎟⎥\n",
       "⎢⎜5   √57     ⎢⎢  3   √57⎥⎥⎟  ⎜5   √57     ⎢⎢  √57   3⎥⎥⎟⎥\n",
       "⎢⎜─ - ───, 1, ⎢⎢- ─ + ───⎥⎥⎟, ⎜─ + ───, 1, ⎢⎢- ─── - ─⎥⎥⎟⎥\n",
       "⎢⎜2    2      ⎢⎢  2    2 ⎥⎥⎟  ⎜2    2      ⎢⎢   2    2⎥⎥⎟⎥\n",
       "⎢⎜            ⎢⎢         ⎥⎥⎟  ⎜            ⎢⎢         ⎥⎥⎟⎥\n",
       "⎣⎝            ⎣⎣    1    ⎦⎦⎠  ⎝            ⎣⎣    1    ⎦⎦⎠⎦"
      ]
     },
     "execution_count": 6,
     "metadata": {},
     "output_type": "execute_result"
    }
   ],
   "source": [
    "a.eigenvects()"
   ]
  },
  {
   "cell_type": "code",
   "execution_count": 7,
   "metadata": {},
   "outputs": [],
   "source": [
    "# 对角化，矩阵的分解A=P*D*P^-1\n",
    "P,D=a.diagonalize()"
   ]
  },
  {
   "cell_type": "code",
   "execution_count": 9,
   "metadata": {},
   "outputs": [
    {
     "data": {
      "text/latex": [
       "$\\displaystyle \\left[\\begin{matrix}- \\frac{\\sqrt{57}}{6} - \\frac{1}{2} & - \\frac{1}{2} + \\frac{\\sqrt{57}}{6}\\\\1 & 1\\end{matrix}\\right]$"
      ],
      "text/plain": [
       "⎡  √57   1    1   √57⎤\n",
       "⎢- ─── - ─  - ─ + ───⎥\n",
       "⎢   6    2    2    6 ⎥\n",
       "⎢                    ⎥\n",
       "⎣    1          1    ⎦"
      ]
     },
     "execution_count": 9,
     "metadata": {},
     "output_type": "execute_result"
    }
   ],
   "source": [
    "P"
   ]
  },
  {
   "cell_type": "code",
   "execution_count": 10,
   "metadata": {},
   "outputs": [
    {
     "data": {
      "text/latex": [
       "$\\displaystyle \\left[\\begin{matrix}\\frac{5}{2} - \\frac{\\sqrt{57}}{2} & 0\\\\0 & \\frac{5}{2} + \\frac{\\sqrt{57}}{2}\\end{matrix}\\right]$"
      ],
      "text/plain": [
       "⎡5   √57         ⎤\n",
       "⎢─ - ───     0   ⎥\n",
       "⎢2    2          ⎥\n",
       "⎢                ⎥\n",
       "⎢         5   √57⎥\n",
       "⎢   0     ─ + ───⎥\n",
       "⎣         2    2 ⎦"
      ]
     },
     "execution_count": 10,
     "metadata": {},
     "output_type": "execute_result"
    }
   ],
   "source": [
    "D"
   ]
  },
  {
   "cell_type": "code",
   "execution_count": 12,
   "metadata": {},
   "outputs": [
    {
     "data": {
      "text/latex": [
       "$\\displaystyle \\left[\\begin{matrix}- \\frac{\\sqrt{57} \\left(\\frac{5}{2} - \\frac{\\sqrt{57}}{2}\\right) \\left(- \\frac{\\sqrt{57}}{6} - \\frac{1}{2}\\right)}{19} + \\frac{\\sqrt{57} \\left(- \\frac{1}{2} + \\frac{\\sqrt{57}}{6}\\right) \\left(\\frac{5}{2} + \\frac{\\sqrt{57}}{2}\\right)}{19} & \\frac{\\sqrt{57} \\left(- \\frac{1}{2} + \\frac{\\sqrt{57}}{6}\\right) \\left(\\frac{5}{2} - \\frac{\\sqrt{57}}{2}\\right) \\left(- \\frac{\\sqrt{57}}{6} - \\frac{1}{2}\\right)}{19} - \\frac{\\sqrt{57} \\left(- \\frac{1}{2} + \\frac{\\sqrt{57}}{6}\\right) \\left(\\frac{5}{2} + \\frac{\\sqrt{57}}{2}\\right) \\left(- \\frac{\\sqrt{57}}{6} - \\frac{1}{2}\\right)}{19}\\\\- \\frac{\\sqrt{57} \\left(\\frac{5}{2} - \\frac{\\sqrt{57}}{2}\\right)}{19} + \\frac{\\sqrt{57} \\left(\\frac{5}{2} + \\frac{\\sqrt{57}}{2}\\right)}{19} & \\frac{\\sqrt{57} \\left(- \\frac{1}{2} + \\frac{\\sqrt{57}}{6}\\right) \\left(\\frac{5}{2} - \\frac{\\sqrt{57}}{2}\\right)}{19} - \\frac{\\sqrt{57} \\left(\\frac{5}{2} + \\frac{\\sqrt{57}}{2}\\right) \\left(- \\frac{\\sqrt{57}}{6} - \\frac{1}{2}\\right)}{19}\\end{matrix}\\right]$"
      ],
      "text/plain": [
       "⎡      ⎛5   √57⎞ ⎛  √57   1⎞       ⎛  1   √57⎞ ⎛5   √57⎞      ⎛  1   √57⎞ ⎛5  \n",
       "⎢  √57⋅⎜─ - ───⎟⋅⎜- ─── - ─⎟   √57⋅⎜- ─ + ───⎟⋅⎜─ + ───⎟  √57⋅⎜- ─ + ───⎟⋅⎜─ -\n",
       "⎢      ⎝2    2 ⎠ ⎝   6    2⎠       ⎝  2    6 ⎠ ⎝2    2 ⎠      ⎝  2    6 ⎠ ⎝2  \n",
       "⎢- ───────────────────────── + ─────────────────────────  ────────────────────\n",
       "⎢              19                          19                               19\n",
       "⎢                                                                             \n",
       "⎢                  ⎛5   √57⎞       ⎛5   √57⎞                              ⎛  1\n",
       "⎢              √57⋅⎜─ - ───⎟   √57⋅⎜─ + ───⎟                          √57⋅⎜- ─\n",
       "⎢                  ⎝2    2 ⎠       ⎝2    2 ⎠                              ⎝  2\n",
       "⎢            - ───────────── + ─────────────                          ────────\n",
       "⎣                    19              19                                       \n",
       "\n",
       " √57⎞ ⎛  √57   1⎞       ⎛  1   √57⎞ ⎛5   √57⎞ ⎛  √57   1⎞⎤\n",
       " ───⎟⋅⎜- ─── - ─⎟   √57⋅⎜- ─ + ───⎟⋅⎜─ + ───⎟⋅⎜- ─── - ─⎟⎥\n",
       "  2 ⎠ ⎝   6    2⎠       ⎝  2    6 ⎠ ⎝2    2 ⎠ ⎝   6    2⎠⎥\n",
       "───────────────── - ─────────────────────────────────────⎥\n",
       "                                      19                 ⎥\n",
       "                                                         ⎥\n",
       "   √57⎞ ⎛5   √57⎞       ⎛5   √57⎞ ⎛  √57   1⎞            ⎥\n",
       " + ───⎟⋅⎜─ - ───⎟   √57⋅⎜─ + ───⎟⋅⎜- ─── - ─⎟            ⎥\n",
       "    6 ⎠ ⎝2    2 ⎠       ⎝2    2 ⎠ ⎝   6    2⎠            ⎥\n",
       "───────────────── - ─────────────────────────            ⎥\n",
       "    19                          19                       ⎦"
      ]
     },
     "execution_count": 12,
     "metadata": {},
     "output_type": "execute_result"
    }
   ],
   "source": [
    "z=P*D*P**-1\n",
    "z"
   ]
  },
  {
   "cell_type": "code",
   "execution_count": 14,
   "metadata": {},
   "outputs": [
    {
     "data": {
      "text/latex": [
       "$\\displaystyle \\left( \\left[\\begin{matrix}1 & 4\\\\3 & 4\\end{matrix}\\right], \\  \\left[\\begin{matrix}1 & 4\\\\3 & 4\\end{matrix}\\right]\\right)$"
      ],
      "text/plain": [
       "⎛⎡1  4⎤  ⎡1  4⎤⎞\n",
       "⎜⎢    ⎥, ⎢    ⎥⎟\n",
       "⎝⎣3  4⎦  ⎣3  4⎦⎠"
      ]
     },
     "execution_count": 14,
     "metadata": {},
     "output_type": "execute_result"
    }
   ],
   "source": [
    "a,simplify(z)"
   ]
  },
  {
   "cell_type": "code",
   "execution_count": 15,
   "metadata": {},
   "outputs": [
    {
     "data": {
      "image/png": "[encoded data removed]",
      "text/latex": [
       "$\\displaystyle \\operatorname{PurePoly}{\\left( x^{2} - 5 x - 8, x, domain=\\mathbb{Z} \\right)}$"
      ],
      "text/plain": [
       "PurePoly(x**2 - 5*x - 8, x, domain='ZZ')"
      ]
     },
     "execution_count": 15,
     "metadata": {},
     "output_type": "execute_result"
    }
   ],
   "source": [
    "# 特征方程\n",
    "x=symbols('x')\n",
    "a.charpoly(x)"
   ]
  },
  {
   "cell_type": "markdown",
   "metadata": {},
   "source": [
    "# 表达式进阶"
   ]
  },
  {
   "cell_type": "code",
   "execution_count": 16,
   "metadata": {},
   "outputs": [
    {
     "data": {
      "text/plain": [
       "\"Mul(Pow(Symbol('x'), Integer(2)), Symbol('y'))\""
      ]
     },
     "execution_count": 16,
     "metadata": {},
     "output_type": "execute_result"
    }
   ],
   "source": [
    "x,y=symbols('x,y')\n",
    "srepr(x**2*y)"
   ]
  },
  {
   "cell_type": "code",
   "execution_count": 18,
   "metadata": {},
   "outputs": [
    {
     "data": {
      "text/plain": [
       "\"Symbol('x')\""
      ]
     },
     "execution_count": 18,
     "metadata": {},
     "output_type": "execute_result"
    }
   ],
   "source": [
    "# symbols函数只是语法糖，一切皆函数\n",
    "x=Symbol('x')\n",
    "srepr(x)"
   ]
  },
  {
   "cell_type": "code",
   "execution_count": 25,
   "metadata": {},
   "outputs": [
    {
     "data": {
      "image/png": "[encoded data removed]",
      "text/latex": [
       "$\\displaystyle \\left( x^{4}, \\  2 x, \\  x^{3}\\right)$"
      ],
      "text/plain": [
       "⎛ 4        3⎞\n",
       "⎝x , 2⋅x, x ⎠"
      ]
     },
     "execution_count": 25,
     "metadata": {},
     "output_type": "execute_result"
    }
   ],
   "source": [
    "# 减法就是特殊的加法，除法就是特殊的乘法，sympy没有Sub\n",
    "# 乘法可以接受一个参数列表，而不仅仅是两个参数\n",
    "Pow(x,4),Add(x,x),Mul(x,x,x)"
   ]
  },
  {
   "cell_type": "code",
   "execution_count": 22,
   "metadata": {},
   "outputs": [
    {
     "data": {
      "text/plain": [
       "sympy.core.numbers.Integer"
      ]
     },
     "execution_count": 22,
     "metadata": {},
     "output_type": "execute_result"
    }
   ],
   "source": [
    "type(sympify(4))"
   ]
  },
  {
   "cell_type": "code",
   "execution_count": 33,
   "metadata": {},
   "outputs": [],
   "source": [
    "x=Symbol('x')\n",
    "y=Mul(Add(x,x),x,3)"
   ]
  },
  {
   "cell_type": "code",
   "execution_count": 35,
   "metadata": {},
   "outputs": [
    {
     "data": {
      "text/plain": [
       "(sympy.core.mul.Mul, sympy.core.mul.Mul, (6, x**2))"
      ]
     },
     "execution_count": 35,
     "metadata": {},
     "output_type": "execute_result"
    }
   ],
   "source": [
    "y.func,type(y),y.args"
   ]
  },
  {
   "cell_type": "markdown",
   "metadata": {},
   "source": [
    "通过args，func（或者使用type）两个元素就可以遍历整个公式树。  \n",
    "表达式其实就是一棵树，树根就是这个表达式的类型。  "
   ]
  },
  {
   "cell_type": "code",
   "execution_count": 36,
   "metadata": {},
   "outputs": [
    {
     "data": {
      "text/plain": [
       "sympy.core.power.Pow"
      ]
     },
     "execution_count": 36,
     "metadata": {},
     "output_type": "execute_result"
    }
   ],
   "source": [
    "type(y.args[1])"
   ]
  },
  {
   "cell_type": "code",
   "execution_count": 42,
   "metadata": {},
   "outputs": [
    {
     "data": {
      "image/png": "[encoded data removed]",
      "text/latex": [
       "$\\displaystyle \\left( 6 x^{2}, \\  3 x \\left(x + x\\right)\\right)$"
      ],
      "text/plain": [
       "⎛   2             ⎞\n",
       "⎝6⋅x , 3⋅x⋅(x + x)⎠"
      ]
     },
     "execution_count": 42,
     "metadata": {},
     "output_type": "execute_result"
    }
   ],
   "source": [
    "# 阻止表达式求值\n",
    "# 表达式会自动化简\n",
    "x=symbols('x')\n",
    "y=Mul(Add(x,x),x,3)\n",
    "z=Mul(Add(x,x,evaluate=False),x,3,evaluate=False)\n",
    "y,z"
   ]
  },
  {
   "cell_type": "markdown",
   "metadata": {},
   "source": [
    "阻止表达式求值有两种方法：\n",
    "* 传入evaluate=False\n",
    "* 使用UnevaluatedExpr类把结点固定住"
   ]
  },
  {
   "cell_type": "code",
   "execution_count": 52,
   "metadata": {},
   "outputs": [
    {
     "data": {
      "image/png": "[encoded data removed]",
      "text/latex": [
       "$\\displaystyle 6 x^{2}$"
      ],
      "text/plain": [
       "   2\n",
       "6⋅x "
      ]
     },
     "execution_count": 52,
     "metadata": {},
     "output_type": "execute_result"
    }
   ],
   "source": [
    "sympify('3*x * (x+x)')"
   ]
  },
  {
   "cell_type": "code",
   "execution_count": 51,
   "metadata": {},
   "outputs": [
    {
     "data": {
      "image/png": "[encoded data removed]",
      "text/latex": [
       "$\\displaystyle 3 x \\left(x + x\\right)$"
      ],
      "text/plain": [
       "3⋅x⋅(x + x)"
      ]
     },
     "execution_count": 51,
     "metadata": {},
     "output_type": "execute_result"
    }
   ],
   "source": [
    "sympify(\"3 * x * ( x + x)\",evaluate=False)"
   ]
  },
  {
   "cell_type": "code",
   "execution_count": 56,
   "metadata": {},
   "outputs": [
    {
     "data": {
      "image/png": "[encoded data removed]",
      "text/latex": [
       "$\\displaystyle 3 x \\left(x + x\\right)$"
      ],
      "text/plain": [
       "3⋅x⋅(x + x)"
      ]
     },
     "execution_count": 56,
     "metadata": {},
     "output_type": "execute_result"
    }
   ],
   "source": [
    "# 使用UnevaluatedExpr把不想求值的表达式包裹起来\n",
    "Mul(Add(x,UnevaluatedExpr(x)),x,3)"
   ]
  },
  {
   "cell_type": "markdown",
   "metadata": {},
   "source": [
    "# 补遗\n",
    "sympy的教程介绍完毕，剩余一些边边角角的知识点总结如下。"
   ]
  },
  {
   "cell_type": "code",
   "execution_count": 61,
   "metadata": {
    "collapsed": true
   },
   "outputs": [
    {
     "data": {
      "text/plain": [
       "['Add',\n",
       " 'AlgebraicNumber',\n",
       " 'AtomicExpr',\n",
       " 'BIGBITS',\n",
       " 'Catalan',\n",
       " 'ComplexInfinity',\n",
       " 'E',\n",
       " 'EulerGamma',\n",
       " 'Exp1',\n",
       " 'Expr',\n",
       " 'Float',\n",
       " 'GoldenRatio',\n",
       " 'HAS_GMPY',\n",
       " 'Half',\n",
       " 'I',\n",
       " 'ImaginaryUnit',\n",
       " 'Infinity',\n",
       " 'Integer',\n",
       " 'IntegerConstant',\n",
       " 'MPZ',\n",
       " 'Mul',\n",
       " 'NaN',\n",
       " 'NegativeInfinity',\n",
       " 'NegativeOne',\n",
       " 'Number',\n",
       " 'NumberSymbol',\n",
       " 'One',\n",
       " 'Pi',\n",
       " 'Pow',\n",
       " 'Rational',\n",
       " 'RationalConstant',\n",
       " 'RealNumber',\n",
       " 'S',\n",
       " 'SYMPY_INTS',\n",
       " 'Singleton',\n",
       " 'SymPyDeprecationWarning',\n",
       " 'SympifyError',\n",
       " 'TribonacciConstant',\n",
       " 'Tuple',\n",
       " 'Zero',\n",
       " '_LOG2',\n",
       " '__builtins__',\n",
       " '__cached__',\n",
       " '__doc__',\n",
       " '__file__',\n",
       " '__loader__',\n",
       " '__name__',\n",
       " '__package__',\n",
       " '__spec__',\n",
       " '_as_integer_ratio',\n",
       " '_convert_numpy_types',\n",
       " '_decimal_to_Rational_prec',\n",
       " '_errdict',\n",
       " '_literal_float',\n",
       " '_mpf_inf',\n",
       " '_mpf_nan',\n",
       " '_mpf_ninf',\n",
       " '_mpf_zero',\n",
       " '_sympify',\n",
       " '_sympifyit',\n",
       " 'as_int',\n",
       " 'cacheit',\n",
       " 'clear_cache',\n",
       " 'comp',\n",
       " 'converter',\n",
       " 'debug',\n",
       " 'decimal',\n",
       " 'division',\n",
       " 'filldedent',\n",
       " 'fractions',\n",
       " 'fuzzy_not',\n",
       " 'global_evaluate',\n",
       " 'gmpy',\n",
       " 'i_type',\n",
       " 'igcd',\n",
       " 'igcd2',\n",
       " 'igcd_lehmer',\n",
       " 'igcdex',\n",
       " 'ilcm',\n",
       " 'int_info',\n",
       " 'integer_nthroot',\n",
       " 'integer_types',\n",
       " 'long',\n",
       " 'lru_cache',\n",
       " 'math',\n",
       " 'mlib',\n",
       " 'mod_inverse',\n",
       " 'mpf_e',\n",
       " 'mpf_norm',\n",
       " 'mpf_normalize',\n",
       " 'mpf_pi',\n",
       " 'mpf_pow',\n",
       " 'mpmath',\n",
       " 'mpnumeric',\n",
       " 'nan',\n",
       " 'oo',\n",
       " 'phi_fixed',\n",
       " 'pi',\n",
       " 'prec_to_dps',\n",
       " 'print_function',\n",
       " 'regex',\n",
       " 'rnd',\n",
       " 'seterr',\n",
       " 'string_types',\n",
       " 'sympify',\n",
       " 'sympify_complex',\n",
       " 'sympify_fractions',\n",
       " 'sympify_mpmath',\n",
       " 'sympify_mpq',\n",
       " 'sympify_mpz',\n",
       " 'with_metaclass',\n",
       " 'zoo']"
      ]
     },
     "execution_count": 61,
     "metadata": {},
     "output_type": "execute_result"
    }
   ],
   "source": [
    "# sympy内置了一堆符号，例如oo（无穷）,这些符号定义在core.numbers包下，但是会全部import到根包下面\n",
    "from sympy.core import numbers\n",
    "dir(numbers)"
   ]
  },
  {
   "cell_type": "code",
   "execution_count": 63,
   "metadata": {},
   "outputs": [
    {
     "name": "stdout",
     "output_type": "stream",
     "text": [
      "In file: /home/weiyinfu/anaconda3/lib/python3.7/site-packages/sympy/integrals/integrals.py\n",
      "def integrate(*args, **kwargs):\n",
      "    \"\"\"integrate(f, var, ...)\n",
      "\n",
      "    Compute definite or indefinite integral of one or more variables\n",
      "    using Risch-Norman algorithm and table lookup. This procedure is\n",
      "    able to handle elementary algebraic and transcendental functions\n",
      "    and also a huge class of special functions, including Airy,\n",
      "    Bessel, Whittaker and Lambert.\n",
      "\n",
      "    var can be:\n",
      "\n",
      "    - a symbol                   -- indefinite integration\n",
      "    - a tuple (symbol, a)        -- indefinite integration with result\n",
      "                                    given with `a` replacing `symbol`\n",
      "    - a tuple (symbol, a, b)     -- definite integration\n",
      "\n",
      "    Several variables can be specified, in which case the result is\n",
      "    multiple integration. (If var is omitted and the integrand is\n",
      "    univariate, the indefinite integral in that variable will be performed.)\n",
      "\n",
      "    Indefinite integrals are returned without terms that are independent\n",
      "    of the integration variables. (see examples)\n",
      "\n",
      "    Definite improper integrals often entail delicate convergence\n",
      "    conditions. Pass conds='piecewise', 'separate' or 'none' to have\n",
      "    these returned, respectively, as a Piecewise function, as a separate\n",
      "    result (i.e. result will be a tuple), or not at all (default is\n",
      "    'piecewise').\n",
      "\n",
      "    **Strategy**\n",
      "\n",
      "    SymPy uses various approaches to definite integration. One method is to\n",
      "    find an antiderivative for the integrand, and then use the fundamental\n",
      "    theorem of calculus. Various functions are implemented to integrate\n",
      "    polynomial, rational and trigonometric functions, and integrands\n",
      "    containing DiracDelta terms.\n",
      "\n",
      "    SymPy also implements the part of the Risch algorithm, which is a decision\n",
      "    procedure for integrating elementary functions, i.e., the algorithm can\n",
      "    either find an elementary antiderivative, or prove that one does not\n",
      "    exist.  There is also a (very successful, albeit somewhat slow) general\n",
      "    implementation of the heuristic Risch algorithm.  This algorithm will\n",
      "    eventually be phased out as more of the full Risch algorithm is\n",
      "    implemented. See the docstring of Integral._eval_integral() for more\n",
      "    details on computing the antiderivative using algebraic methods.\n",
      "\n",
      "    The option risch=True can be used to use only the (full) Risch algorithm.\n",
      "    This is useful if you want to know if an elementary function has an\n",
      "    elementary antiderivative.  If the indefinite Integral returned by this\n",
      "    function is an instance of NonElementaryIntegral, that means that the\n",
      "    Risch algorithm has proven that integral to be non-elementary.  Note that\n",
      "    by default, additional methods (such as the Meijer G method outlined\n",
      "    below) are tried on these integrals, as they may be expressible in terms\n",
      "    of special functions, so if you only care about elementary answers, use\n",
      "    risch=True.  Also note that an unevaluated Integral returned by this\n",
      "    function is not necessarily a NonElementaryIntegral, even with risch=True,\n",
      "    as it may just be an indication that the particular part of the Risch\n",
      "    algorithm needed to integrate that function is not yet implemented.\n",
      "\n",
      "    Another family of strategies comes from re-writing the integrand in\n",
      "    terms of so-called Meijer G-functions. Indefinite integrals of a\n",
      "    single G-function can always be computed, and the definite integral\n",
      "    of a product of two G-functions can be computed from zero to\n",
      "    infinity. Various strategies are implemented to rewrite integrands\n",
      "    as G-functions, and use this information to compute integrals (see\n",
      "    the ``meijerint`` module).\n",
      "\n",
      "    The option manual=True can be used to use only an algorithm that tries\n",
      "    to mimic integration by hand. This algorithm does not handle as many\n",
      "    integrands as the other algorithms implemented but may return results in\n",
      "    a more familiar form. The ``manualintegrate`` module has functions that\n",
      "    return the steps used (see the module docstring for more information).\n",
      "\n",
      "    In general, the algebraic methods work best for computing\n",
      "    antiderivatives of (possibly complicated) combinations of elementary\n",
      "    functions. The G-function methods work best for computing definite\n",
      "    integrals from zero to infinity of moderately complicated\n",
      "    combinations of special functions, or indefinite integrals of very\n",
      "    simple combinations of special functions.\n",
      "\n",
      "    The strategy employed by the integration code is as follows:\n",
      "\n",
      "    - If computing a definite integral, and both limits are real,\n",
      "      and at least one limit is +- oo, try the G-function method of\n",
      "      definite integration first.\n",
      "\n",
      "    - Try to find an antiderivative, using all available methods, ordered\n",
      "      by performance (that is try fastest method first, slowest last; in\n",
      "      particular polynomial integration is tried first, Meijer\n",
      "      G-functions second to last, and heuristic Risch last).\n",
      "\n",
      "    - If still not successful, try G-functions irrespective of the\n",
      "      limits.\n",
      "\n",
      "    The option meijerg=True, False, None can be used to, respectively:\n",
      "    always use G-function methods and no others, never use G-function\n",
      "    methods, or use all available methods (in order as described above).\n",
      "    It defaults to None.\n",
      "\n",
      "    Examples\n",
      "    ========\n",
      "\n",
      "    >>> from sympy import integrate, log, exp, oo\n",
      "    >>> from sympy.abc import a, x, y\n",
      "\n",
      "    >>> integrate(x*y, x)\n",
      "    x**2*y/2\n",
      "\n",
      "    >>> integrate(log(x), x)\n",
      "    x*log(x) - x\n",
      "\n",
      "    >>> integrate(log(x), (x, 1, a))\n",
      "    a*log(a) - a + 1\n",
      "\n",
      "    >>> integrate(x)\n",
      "    x**2/2\n",
      "\n",
      "    Terms that are independent of x are dropped by indefinite integration:\n",
      "\n",
      "    >>> from sympy import sqrt\n",
      "    >>> integrate(sqrt(1 + x), (x, 0, x))\n",
      "    2*(x + 1)**(3/2)/3 - 2/3\n",
      "    >>> integrate(sqrt(1 + x), x)\n",
      "    2*(x + 1)**(3/2)/3\n",
      "\n",
      "    >>> integrate(x*y)\n",
      "    Traceback (most recent call last):\n",
      "    ...\n",
      "    ValueError: specify integration variables to integrate x*y\n",
      "\n",
      "    Note that ``integrate(x)`` syntax is meant only for convenience\n",
      "    in interactive sessions and should be avoided in library code.\n",
      "\n",
      "    >>> integrate(x**a*exp(-x), (x, 0, oo)) # same as conds='piecewise'\n",
      "    Piecewise((gamma(a + 1), re(a) > -1),\n",
      "        (Integral(x**a*exp(-x), (x, 0, oo)), True))\n",
      "\n",
      "    >>> integrate(x**a*exp(-x), (x, 0, oo), conds='none')\n",
      "    gamma(a + 1)\n",
      "\n",
      "    >>> integrate(x**a*exp(-x), (x, 0, oo), conds='separate')\n",
      "    (gamma(a + 1), -re(a) < 1)\n",
      "\n",
      "    See Also\n",
      "    ========\n",
      "\n",
      "    Integral, Integral.doit\n",
      "\n",
      "    \"\"\"\n",
      "    doit_flags = {\n",
      "        'deep': False,\n",
      "        'meijerg': kwargs.pop('meijerg', None),\n",
      "        'conds': kwargs.pop('conds', 'piecewise'),\n",
      "        'risch': kwargs.pop('risch', None),\n",
      "        'heurisch': kwargs.pop('heurisch', None),\n",
      "        'manual': kwargs.pop('manual', None)\n",
      "        }\n",
      "    integral = Integral(*args, **kwargs)\n",
      "\n",
      "    if isinstance(integral, Integral):\n",
      "        return integral.doit(**doit_flags)\n",
      "    else:\n",
      "        new_args = [a.doit(**doit_flags) if isinstance(a, Integral) else a\n",
      "            for a in integral.args]\n",
      "        return integral.func(*new_args)\n",
      "\n"
     ]
    }
   ],
   "source": [
    "# 寻求帮助\n",
    "source(integrate)"
   ]
  },
  {
   "cell_type": "code",
   "execution_count": 64,
   "metadata": {
    "collapsed": true
   },
   "outputs": [
    {
     "name": "stdout",
     "output_type": "stream",
     "text": [
      "Help on function integrate in module sympy.integrals.integrals:\n",
      "\n",
      "integrate(*args, **kwargs)\n",
      "    integrate(f, var, ...)\n",
      "    \n",
      "    Compute definite or indefinite integral of one or more variables\n",
      "    using Risch-Norman algorithm and table lookup. This procedure is\n",
      "    able to handle elementary algebraic and transcendental functions\n",
      "    and also a huge class of special functions, including Airy,\n",
      "    Bessel, Whittaker and Lambert.\n",
      "    \n",
      "    var can be:\n",
      "    \n",
      "    - a symbol                   -- indefinite integration\n",
      "    - a tuple (symbol, a)        -- indefinite integration with result\n",
      "                                    given with `a` replacing `symbol`\n",
      "    - a tuple (symbol, a, b)     -- definite integration\n",
      "    \n",
      "    Several variables can be specified, in which case the result is\n",
      "    multiple integration. (If var is omitted and the integrand is\n",
      "    univariate, the indefinite integral in that variable will be performed.)\n",
      "    \n",
      "    Indefinite integrals are returned without terms that are independent\n",
      "    of the integration variables. (see examples)\n",
      "    \n",
      "    Definite improper integrals often entail delicate convergence\n",
      "    conditions. Pass conds='piecewise', 'separate' or 'none' to have\n",
      "    these returned, respectively, as a Piecewise function, as a separate\n",
      "    result (i.e. result will be a tuple), or not at all (default is\n",
      "    'piecewise').\n",
      "    \n",
      "    **Strategy**\n",
      "    \n",
      "    SymPy uses various approaches to definite integration. One method is to\n",
      "    find an antiderivative for the integrand, and then use the fundamental\n",
      "    theorem of calculus. Various functions are implemented to integrate\n",
      "    polynomial, rational and trigonometric functions, and integrands\n",
      "    containing DiracDelta terms.\n",
      "    \n",
      "    SymPy also implements the part of the Risch algorithm, which is a decision\n",
      "    procedure for integrating elementary functions, i.e., the algorithm can\n",
      "    either find an elementary antiderivative, or prove that one does not\n",
      "    exist.  There is also a (very successful, albeit somewhat slow) general\n",
      "    implementation of the heuristic Risch algorithm.  This algorithm will\n",
      "    eventually be phased out as more of the full Risch algorithm is\n",
      "    implemented. See the docstring of Integral._eval_integral() for more\n",
      "    details on computing the antiderivative using algebraic methods.\n",
      "    \n",
      "    The option risch=True can be used to use only the (full) Risch algorithm.\n",
      "    This is useful if you want to know if an elementary function has an\n",
      "    elementary antiderivative.  If the indefinite Integral returned by this\n",
      "    function is an instance of NonElementaryIntegral, that means that the\n",
      "    Risch algorithm has proven that integral to be non-elementary.  Note that\n",
      "    by default, additional methods (such as the Meijer G method outlined\n",
      "    below) are tried on these integrals, as they may be expressible in terms\n",
      "    of special functions, so if you only care about elementary answers, use\n",
      "    risch=True.  Also note that an unevaluated Integral returned by this\n",
      "    function is not necessarily a NonElementaryIntegral, even with risch=True,\n",
      "    as it may just be an indication that the particular part of the Risch\n",
      "    algorithm needed to integrate that function is not yet implemented.\n",
      "    \n",
      "    Another family of strategies comes from re-writing the integrand in\n",
      "    terms of so-called Meijer G-functions. Indefinite integrals of a\n",
      "    single G-function can always be computed, and the definite integral\n",
      "    of a product of two G-functions can be computed from zero to\n",
      "    infinity. Various strategies are implemented to rewrite integrands\n",
      "    as G-functions, and use this information to compute integrals (see\n",
      "    the ``meijerint`` module).\n",
      "    \n",
      "    The option manual=True can be used to use only an algorithm that tries\n",
      "    to mimic integration by hand. This algorithm does not handle as many\n",
      "    integrands as the other algorithms implemented but may return results in\n",
      "    a more familiar form. The ``manualintegrate`` module has functions that\n",
      "    return the steps used (see the module docstring for more information).\n",
      "    \n",
      "    In general, the algebraic methods work best for computing\n",
      "    antiderivatives of (possibly complicated) combinations of elementary\n",
      "    functions. The G-function methods work best for computing definite\n",
      "    integrals from zero to infinity of moderately complicated\n",
      "    combinations of special functions, or indefinite integrals of very\n",
      "    simple combinations of special functions.\n",
      "    \n",
      "    The strategy employed by the integration code is as follows:\n",
      "    \n",
      "    - If computing a definite integral, and both limits are real,\n",
      "      and at least one limit is +- oo, try the G-function method of\n",
      "      definite integration first.\n",
      "    \n",
      "    - Try to find an antiderivative, using all available methods, ordered\n",
      "      by performance (that is try fastest method first, slowest last; in\n",
      "      particular polynomial integration is tried first, Meijer\n",
      "      G-functions second to last, and heuristic Risch last).\n",
      "    \n",
      "    - If still not successful, try G-functions irrespective of the\n",
      "      limits.\n",
      "    \n",
      "    The option meijerg=True, False, None can be used to, respectively:\n",
      "    always use G-function methods and no others, never use G-function\n",
      "    methods, or use all available methods (in order as described above).\n",
      "    It defaults to None.\n",
      "    \n",
      "    Examples\n",
      "    ========\n",
      "    \n",
      "    >>> from sympy import integrate, log, exp, oo\n",
      "    >>> from sympy.abc import a, x, y\n",
      "    \n",
      "    >>> integrate(x*y, x)\n",
      "    x**2*y/2\n",
      "    \n",
      "    >>> integrate(log(x), x)\n",
      "    x*log(x) - x\n",
      "    \n",
      "    >>> integrate(log(x), (x, 1, a))\n",
      "    a*log(a) - a + 1\n",
      "    \n",
      "    >>> integrate(x)\n",
      "    x**2/2\n",
      "    \n",
      "    Terms that are independent of x are dropped by indefinite integration:\n",
      "    \n",
      "    >>> from sympy import sqrt\n",
      "    >>> integrate(sqrt(1 + x), (x, 0, x))\n",
      "    2*(x + 1)**(3/2)/3 - 2/3\n",
      "    >>> integrate(sqrt(1 + x), x)\n",
      "    2*(x + 1)**(3/2)/3\n",
      "    \n",
      "    >>> integrate(x*y)\n",
      "    Traceback (most recent call last):\n",
      "    ...\n",
      "    ValueError: specify integration variables to integrate x*y\n",
      "    \n",
      "    Note that ``integrate(x)`` syntax is meant only for convenience\n",
      "    in interactive sessions and should be avoided in library code.\n",
      "    \n",
      "    >>> integrate(x**a*exp(-x), (x, 0, oo)) # same as conds='piecewise'\n",
      "    Piecewise((gamma(a + 1), re(a) > -1),\n",
      "        (Integral(x**a*exp(-x), (x, 0, oo)), True))\n",
      "    \n",
      "    >>> integrate(x**a*exp(-x), (x, 0, oo), conds='none')\n",
      "    gamma(a + 1)\n",
      "    \n",
      "    >>> integrate(x**a*exp(-x), (x, 0, oo), conds='separate')\n",
      "    (gamma(a + 1), -re(a) < 1)\n",
      "    \n",
      "    See Also\n",
      "    ========\n",
      "    \n",
      "    Integral, Integral.doit\n",
      "\n"
     ]
    }
   ],
   "source": [
    "help(integrate)"
   ]
  },
  {
   "cell_type": "code",
   "execution_count": 65,
   "metadata": {},
   "outputs": [
    {
     "data": {
      "image/png": "[encoded data removed]",
      "text/latex": [
       "$\\displaystyle x$"
      ],
      "text/plain": [
       "x"
      ]
     },
     "execution_count": 65,
     "metadata": {},
     "output_type": "execute_result"
    }
   ],
   "source": [
    "# 独一无二的东西\n",
    "Dummy('x')"
   ]
  },
  {
   "cell_type": "code",
   "execution_count": 67,
   "metadata": {},
   "outputs": [
    {
     "data": {
      "text/plain": [
       "(False, True)"
      ]
     },
     "execution_count": 67,
     "metadata": {},
     "output_type": "execute_result"
    }
   ],
   "source": [
    "Dummy('x')==Dummy('x'),Symbol('x')==Symbol('x')"
   ]
  }
 ],
 "metadata": {
  "kernelspec": {
   "display_name": "Python 3",
   "language": "python",
   "name": "python3"
  },
  "language_info": {
   "codemirror_mode": {
    "name": "ipython",
    "version": 3
   },
   "file_extension": ".py",
   "mimetype": "text/x-python",
   "name": "python",
   "nbconvert_exporter": "python",
   "pygments_lexer": "ipython3",
   "version": "3.7.4"
  }
 },
 "nbformat": 4,
 "nbformat_minor": 2
}

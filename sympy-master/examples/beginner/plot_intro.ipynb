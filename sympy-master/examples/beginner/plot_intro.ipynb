{
 "cells": [
  {
   "cell_type": "markdown",
   "metadata": {},
   "source": [
    "#New Plotting Framework for SymPy"
   ]
  },
  {
   "cell_type": "markdown",
   "metadata": {},
   "source": [
    "\n",
    "\n",
    "## Structure of the Module\n",
    "\n",
    "\n",
    "\n",
    "This module implements a new plotting framework for SymPy. The central class of the module is the `Plot` class that connects the data representations (subclasses of `BaseSeries`) with different plotting backends. It's not imported by default for backward compatibility with the old module.\n",
    "\n",
    "\n",
    "\n",
    "Then there are the `plot_*()` functions for plotting different kinds of plots and is better suited for interactive work.\n",
    "\n",
    "\n",
    "\n",
    "* ``plot``: Plots line plots in 2D.\n",
    "\n",
    "* ``plot_parametric``: Plots parametric line plots in 2D.\n",
    "\n",
    "* ``plot_implicit`` : Plots implicit equations and region plots in 2D\n",
    "\n",
    "* ``plot3d`` : Plots functions of two variables in 3D\n",
    "\n",
    "* ``plot3d_parametric_line``: Plots line parametric plots in 3D\n",
    "\n",
    "* ``plot3d_parametric_surface``   : Plots surface parametric plots of functions with two variables in 3D."
   ]
  },
  {
   "cell_type": "markdown",
   "metadata": {},
   "source": [
    "##General examples"
   ]
  },
  {
   "cell_type": "code",
   "execution_count": 2,
   "metadata": {
    "collapsed": true
   },
   "outputs": [],
   "source": [
    "from sympy.plotting import plot, plot_parametric, plot3d, plot3d_parametric_line, plot3d_parametric_surface"
   ]
  },
  {
   "cell_type": "code",
   "execution_count": 3,
   "metadata": {
    "collapsed": false
   },
   "outputs": [
    {
     "ename": "NameError",
     "evalue": "name 'x' is not defined",
     "output_type": "error",
     "traceback": [
      "\u001b[1;31m---------------------------------------------------------------------------\u001b[0m",
      "\u001b[1;31mNameError\u001b[0m                                 Traceback (most recent call last)",
      "\u001b[1;32m<ipython-input-3-3378d1230886>\u001b[0m in \u001b[0;36m<module>\u001b[1;34m()\u001b[0m\n\u001b[1;32m----> 1\u001b[1;33m \u001b[0mp\u001b[0m \u001b[1;33m=\u001b[0m \u001b[0mplot\u001b[0m\u001b[1;33m(\u001b[0m\u001b[0mx\u001b[0m\u001b[1;33m)\u001b[0m\u001b[1;33m\u001b[0m\u001b[0m\n\u001b[0m",
      "\u001b[1;31mNameError\u001b[0m: name 'x' is not defined"
     ]
    }
   ],
   "source": [
    "p = plot(x)"
   ]
  },
  {
   "cell_type": "code",
   "execution_count": 10,
   "metadata": {
    "collapsed": false
   },
   "outputs": [],
   "source": [
    "p # the Plot object"
   ]
  },
  {
   "cell_type": "code",
   "execution_count": 11,
   "metadata": {
    "collapsed": false
   },
   "outputs": [],
   "source": [
    "p[0] # one of the data series objects"
   ]
  },
  {
   "cell_type": "code",
   "execution_count": 12,
   "metadata": {
    "collapsed": false
   },
   "outputs": [],
   "source": [
    "p[0].label # an option of the data series"
   ]
  },
  {
   "cell_type": "code",
   "execution_count": 13,
   "metadata": {
    "collapsed": false
   },
   "outputs": [],
   "source": [
    "p.legend # a global option of the plot"
   ]
  },
  {
   "cell_type": "code",
   "execution_count": 14,
   "metadata": {
    "collapsed": false
   },
   "outputs": [],
   "source": [
    "p.legend = True\n",
    "\n",
    "p.show()"
   ]
  },
  {
   "cell_type": "markdown",
   "metadata": {},
   "source": [
    "You can plot 2D different functions in the same plot."
   ]
  },
  {
   "cell_type": "code",
   "execution_count": 15,
   "metadata": {
    "collapsed": false
   },
   "outputs": [],
   "source": [
    "p1 = plot_parametric(x*sin(x),x*cos(x), show=False)\n",
    "\n",
    "p1.extend(p) # Plot objects are just like lists.\n",
    "\n",
    "p1.show()"
   ]
  },
  {
   "cell_type": "code",
   "execution_count": 16,
   "metadata": {
    "collapsed": false
   },
   "outputs": [],
   "source": [
    "p1.legend = True\n",
    "\n",
    "p1.show()"
   ]
  },
  {
   "cell_type": "code",
   "execution_count": 17,
   "metadata": {
    "collapsed": false
   },
   "outputs": [],
   "source": [
    "p1[0].line_color='r'\n",
    "\n",
    "p1[1].line_color='b' # a constant color\n",
    "\n",
    "p1.show()"
   ]
  },
  {
   "cell_type": "code",
   "execution_count": 18,
   "metadata": {
    "collapsed": false
   },
   "outputs": [],
   "source": [
    "p1[0].line_color = lambda a : a # color dependent on the parameter\n",
    "\n",
    "p1.show()"
   ]
  },
  {
   "cell_type": "code",
   "execution_count": 19,
   "metadata": {
    "collapsed": false
   },
   "outputs": [],
   "source": [
    "p1.title = 'Big title'\n",
    "\n",
    "p1.xlabel = 'the x axis'\n",
    "\n",
    "p1[1].label = 'straight line'\n",
    "\n",
    "p1.show()"
   ]
  },
  {
   "cell_type": "code",
   "execution_count": 20,
   "metadata": {
    "collapsed": false
   },
   "outputs": [],
   "source": [
    "p1.aspect_ratio"
   ]
  },
  {
   "cell_type": "code",
   "execution_count": 21,
   "metadata": {
    "collapsed": false
   },
   "outputs": [],
   "source": [
    "p1.aspect_ratio = (1,1)\n",
    "\n",
    "p1.xlim = (-15,20)\n",
    "\n",
    "p1.show()"
   ]
  },
  {
   "cell_type": "markdown",
   "metadata": {},
   "source": [
    "Hm, `xlim` does not work in the notebook. Hopefully it works in IPython."
   ]
  },
  {
   "cell_type": "code",
   "execution_count": 17,
   "metadata": {
    "collapsed": true
   },
   "outputs": [],
   "source": [
    "p1._backend.ax.get_xlim()"
   ]
  },
  {
   "cell_type": "markdown",
   "metadata": {},
   "source": [
    "Yeah, the backend got the command, but the `inline` backend does not honour it."
   ]
  },
  {
   "cell_type": "markdown",
   "metadata": {},
   "source": [
    "## Adding expressions to a plot"
   ]
  },
  {
   "cell_type": "code",
   "execution_count": 23,
   "metadata": {
    "collapsed": false
   },
   "outputs": [],
   "source": [
    "p = plot(x)\n",
    "\n",
    "p"
   ]
  },
  {
   "cell_type": "code",
   "execution_count": 24,
   "metadata": {
    "collapsed": false
   },
   "outputs": [],
   "source": [
    "p.extend(plot(x+1, show=False))\n",
    "\n",
    "p.show()\n",
    "\n",
    "p"
   ]
  },
  {
   "cell_type": "code",
   "execution_count": 25,
   "metadata": {
    "collapsed": false
   },
   "outputs": [],
   "source": [
    "p.append(plot(x+3, x**2, show=False)[1])\n",
    "\n",
    "p.show()\n",
    "\n",
    "p"
   ]
  },
  {
   "cell_type": "markdown",
   "metadata": {},
   "source": [
    "## Different types of plots"
   ]
  },
  {
   "cell_type": "markdown",
   "metadata": {},
   "source": [
    "###``plot``\n",
    "\n",
    "The ``plot`` by default uses an recursive adaptive algorithm to plot line plots. The default depth of recursion is 12, which means the function will be sampled at a maximum of $2^{12}$ points."
   ]
  },
  {
   "cell_type": "code",
   "execution_count": 4,
   "metadata": {
    "collapsed": false
   },
   "outputs": [
    {
     "name": "stdout",
     "output_type": "stream",
     "text": [
      "Help on function plot in module sympy.plotting.plot:\n",
      "\n",
      "plot(*args, **kwargs)\n",
      "    Plots a function of a single variable and returns an instance of\n",
      "    the ``Plot`` class (also, see the description of the\n",
      "    ``show`` keyword argument below).\n",
      "    \n",
      "    The plotting uses an adaptive algorithm which samples recursively to\n",
      "    accurately plot the plot. The adaptive algorithm uses a random point near\n",
      "    the midpoint of two points that has to be further sampled. Hence the same\n",
      "    plots can appear slightly different.\n",
      "    \n",
      "    Usage\n",
      "    =====\n",
      "    \n",
      "    Single Plot\n",
      "    \n",
      "    ``plot(expr, range, **kwargs)``\n",
      "    \n",
      "    If the range is not specified, then a default range of (-10, 10) is used.\n",
      "    \n",
      "    Multiple plots with same range.\n",
      "    \n",
      "    ``plot(expr1, expr2, ..., range, **kwargs)``\n",
      "    \n",
      "    If the range is not specified, then a default range of (-10, 10) is used.\n",
      "    \n",
      "    Multiple plots with different ranges.\n",
      "    \n",
      "    ``plot((expr1, range), (expr2, range), ..., **kwargs)``\n",
      "    \n",
      "    Range has to be specified for every expression.\n",
      "    \n",
      "    Default range may change in the future if a more advanced default range\n",
      "    detection algorithm is implemented.\n",
      "    \n",
      "    Arguments\n",
      "    =========\n",
      "    \n",
      "    ``expr`` : Expression representing the function of single variable\n",
      "    \n",
      "    ``range``: (x, 0, 5), A 3-tuple denoting the range of the free variable.\n",
      "    \n",
      "    Keyword Arguments\n",
      "    =================\n",
      "    \n",
      "    Arguments for ``plot`` function:\n",
      "    \n",
      "    ``show``: Boolean. The default value is set to ``True``. Set show to\n",
      "    ``False`` and the function will not display the plot. The returned\n",
      "    instance of the ``Plot`` class can then be used to save or display\n",
      "    the plot by calling the ``save()`` and ``show()`` methods\n",
      "    respectively.\n",
      "    \n",
      "    Arguments for ``LineOver1DRangeSeries`` class:\n",
      "    \n",
      "    ``adaptive``: Boolean. The default value is set to True. Set adaptive to False and\n",
      "    specify ``nb_of_points`` if uniform sampling is required.\n",
      "    \n",
      "    ``depth``: int Recursion depth of the adaptive algorithm. A depth of value ``n``\n",
      "    samples a maximum of `2^{n}` points.\n",
      "    \n",
      "    ``nb_of_points``: int. Used when the ``adaptive`` is set to False. The function\n",
      "    is uniformly sampled at ``nb_of_points`` number of points.\n",
      "    \n",
      "    Aesthetics options:\n",
      "    \n",
      "    ``line_color``: float. Specifies the color for the plot.\n",
      "    See ``Plot`` to see how to set color for the plots.\n",
      "    \n",
      "    If there are multiple plots, then the same series series are applied to\n",
      "    all the plots. If you want to set these options separately, you can index\n",
      "    the ``Plot`` object returned and set it.\n",
      "    \n",
      "    Arguments for ``Plot`` class:\n",
      "    \n",
      "    ``title`` : str. Title of the plot. It is set to the latex representation of\n",
      "    the expression, if the plot has only one expression.\n",
      "    \n",
      "    ``xlabel`` : str. Label for the x-axis.\n",
      "    \n",
      "    ``ylabel`` : str. Label for the y-axis.\n",
      "    \n",
      "    ``xscale``: {'linear', 'log'} Sets the scaling of the x-axis.\n",
      "    \n",
      "    ``yscale``: {'linear', 'log'} Sets the scaling if the y-axis.\n",
      "    \n",
      "    ``axis_center``: tuple of two floats denoting the coordinates of the center or\n",
      "    {'center', 'auto'}\n",
      "    \n",
      "    ``xlim`` : tuple of two floats, denoting the x-axis limits.\n",
      "    \n",
      "    ``ylim`` : tuple of two floats, denoting the y-axis limits.\n",
      "    \n",
      "    Examples\n",
      "    ========\n",
      "    \n",
      "    >>> from sympy import symbols\n",
      "    >>> from sympy.plotting import plot\n",
      "    >>> x = symbols('x')\n",
      "    \n",
      "    Single Plot\n",
      "    \n",
      "    >>> plot(x**2, (x, -5, 5))\n",
      "    Plot object containing:\n",
      "    [0]: cartesian line: x**2 for x over (-5.0, 5.0)\n",
      "    \n",
      "    Multiple plots with single range.\n",
      "    \n",
      "    >>> plot(x, x**2, x**3, (x, -5, 5))\n",
      "    Plot object containing:\n",
      "    [0]: cartesian line: x for x over (-5.0, 5.0)\n",
      "    [1]: cartesian line: x**2 for x over (-5.0, 5.0)\n",
      "    [2]: cartesian line: x**3 for x over (-5.0, 5.0)\n",
      "    \n",
      "    \n",
      "    Multiple plots with different ranges.\n",
      "    \n",
      "    >>> plot((x**2, (x, -6, 6)), (x, (x, -5, 5)))\n",
      "    Plot object containing:\n",
      "    [0]: cartesian line: x**2 for x over (-6.0, 6.0)\n",
      "    [1]: cartesian line: x for x over (-5.0, 5.0)\n",
      "    \n",
      "    No adaptive sampling.\n",
      "    \n",
      "    >>> plot(x**2, adaptive=False, nb_of_points=400)\n",
      "    Plot object containing:\n",
      "    [0]: cartesian line: x**2 for x over (-10.0, 10.0)\n",
      "    \n",
      "    See Also\n",
      "    ========\n",
      "    \n",
      "    Plot, LineOver1DRangeSeries.\n",
      "\n"
     ]
    }
   ],
   "source": [
    "help(plot)"
   ]
  },
  {
   "cell_type": "code",
   "execution_count": 9,
   "metadata": {
    "collapsed": false
   },
   "outputs": [
    {
     "data": {
      "text/plain": [
       "<sympy.plotting.plot.Plot at 0xbbf796a400>"
      ]
     },
     "execution_count": 9,
     "metadata": {},
     "output_type": "execute_result"
    }
   ],
   "source": [
    "from sympy import *\n",
    "x=Symbol('x')\n",
    "plot(sin(x**2)) # plots with adaptive sampling and default range of (-10, 10)"
   ]
  },
  {
   "cell_type": "markdown",
   "metadata": {},
   "source": [
    "You can also specify the depth of the recursion. It is also possible to disable adaptive sampling and use uniform sampling with ``nb_of_points``."
   ]
  },
  {
   "cell_type": "code",
   "execution_count": 30,
   "metadata": {
    "collapsed": false
   },
   "outputs": [],
   "source": [
    "plot(sin(x**2), depth=7)  #specifying the depth of recursion."
   ]
  },
  {
   "cell_type": "code",
   "execution_count": 31,
   "metadata": {
    "collapsed": false
   },
   "outputs": [],
   "source": [
    "plot(sin(x**2), adaptive=False, nb_of_points=500)"
   ]
  },
  {
   "cell_type": "markdown",
   "metadata": {},
   "source": [
    "###``plot_parametric``\n",
    "\n",
    "``plot_parametric`` uses an recursive adaptive sampling algorithm to plot."
   ]
  },
  {
   "cell_type": "code",
   "execution_count": 32,
   "metadata": {
    "collapsed": false
   },
   "outputs": [],
   "source": [
    "help(plot_parametric)"
   ]
  },
  {
   "cell_type": "code",
   "execution_count": 33,
   "metadata": {
    "collapsed": false
   },
   "outputs": [],
   "source": [
    "plot_parametric(cos(x), sin(x))"
   ]
  },
  {
   "cell_type": "markdown",
   "metadata": {},
   "source": [
    "Multiple plots."
   ]
  },
  {
   "cell_type": "code",
   "execution_count": 34,
   "metadata": {
    "collapsed": false
   },
   "outputs": [],
   "source": [
    "plot_parametric((cos(x), sin(x)), (x, cos(x)))"
   ]
  },
  {
   "cell_type": "markdown",
   "metadata": {},
   "source": [
    "We can combine parametric and line plots into a single plot."
   ]
  },
  {
   "cell_type": "code",
   "execution_count": 35,
   "metadata": {
    "collapsed": false
   },
   "outputs": [],
   "source": [
    "p = plot(sin(x), show=False)\n",
    "\n",
    "\n",
    "\n",
    "p.extend(plot_parametric(cos(x), sin(x), show=False))\n",
    "\n",
    "p.show()"
   ]
  },
  {
   "cell_type": "markdown",
   "metadata": {},
   "source": [
    "###``plot3d``"
   ]
  },
  {
   "cell_type": "code",
   "execution_count": 36,
   "metadata": {
    "collapsed": false
   },
   "outputs": [],
   "source": [
    "help(plot3d)"
   ]
  },
  {
   "cell_type": "code",
   "execution_count": 37,
   "metadata": {
    "collapsed": false
   },
   "outputs": [],
   "source": [
    "plot3d(x*y)"
   ]
  },
  {
   "cell_type": "code",
   "execution_count": 38,
   "metadata": {
    "collapsed": false
   },
   "outputs": [],
   "source": [
    "plot3d(x*y, nb_of_points_x=100, nb_of_points_y=50) "
   ]
  },
  {
   "cell_type": "markdown",
   "metadata": {},
   "source": [
    "###``plot3_parametric_line``"
   ]
  },
  {
   "cell_type": "code",
   "execution_count": 39,
   "metadata": {
    "collapsed": false
   },
   "outputs": [],
   "source": [
    "help(plot3d_parametric_line)"
   ]
  },
  {
   "cell_type": "code",
   "execution_count": 40,
   "metadata": {
    "collapsed": false
   },
   "outputs": [],
   "source": [
    "plot3d_parametric_line(cos(x), sin(x), x)"
   ]
  },
  {
   "cell_type": "markdown",
   "metadata": {},
   "source": [
    "###``plot3d_parametric_surface``"
   ]
  },
  {
   "cell_type": "code",
   "execution_count": 41,
   "metadata": {
    "collapsed": false
   },
   "outputs": [],
   "source": [
    "help(plot3d_parametric_surface)"
   ]
  },
  {
   "cell_type": "code",
   "execution_count": 42,
   "metadata": {
    "collapsed": false
   },
   "outputs": [],
   "source": [
    "plot3d_parametric_surface(cos(x + y), sin(x - y), x - y)"
   ]
  },
  {
   "cell_type": "markdown",
   "metadata": {},
   "source": [
    "## Complex values\n",
    "\n",
    "If complex values are encountered, they are discarded while plotting."
   ]
  },
  {
   "cell_type": "code",
   "execution_count": 43,
   "metadata": {
    "collapsed": false
   },
   "outputs": [],
   "source": [
    "plot(sqrt(x), (x, -5, 5))"
   ]
  },
  {
   "cell_type": "markdown",
   "metadata": {},
   "source": [
    "\n",
    "\n",
    "## Textplot\n",
    "\n",
    "\n",
    "\n",
    "There is also the textplot backend that permits plotting in the terminal."
   ]
  },
  {
   "cell_type": "code",
   "execution_count": 44,
   "metadata": {
    "collapsed": true
   },
   "outputs": [],
   "source": [
    "pt = plot(sin(x),show=False)"
   ]
  },
  {
   "cell_type": "code",
   "execution_count": 45,
   "metadata": {
    "collapsed": true
   },
   "outputs": [],
   "source": [
    "pt.backend = plot_backends['text']"
   ]
  },
  {
   "cell_type": "code",
   "execution_count": 46,
   "metadata": {
    "collapsed": false
   },
   "outputs": [],
   "source": [
    "pt.show()"
   ]
  }
 ],
 "metadata": {
  "kernelspec": {
   "display_name": "Python 3",
   "language": "python",
   "name": "python3"
  },
  "language_info": {
   "codemirror_mode": {
    "name": "ipython",
    "version": 3
   },
   "file_extension": ".py",
   "mimetype": "text/x-python",
   "name": "python",
   "nbconvert_exporter": "python",
   "pygments_lexer": "ipython3",
   "version": "3.5.2"
  }
 },
 "nbformat": 4,
 "nbformat_minor": 0
}

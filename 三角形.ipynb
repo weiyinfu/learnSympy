{
 "cells": [
  {
   "attachments": {},
   "cell_type": "markdown",
   "metadata": {},
   "source": [
    "![image.png](triangle.)"
   ]
  },
  {
   "cell_type": "code",
   "execution_count": 52,
   "metadata": {},
   "outputs": [],
   "source": [
    "from sympy import *\n",
    "import numpy as np\n",
    "x,a,b=symbols('x a b')\n",
    "t=(2*cos(a))**2\n",
    "def co(a,b,c):\n",
    "    return (a**2+b**2-c**2)/(2*a*b)\n",
    "one=Eq(cos(pi-2*a),co(1-t,t,x))\n",
    "x=solve(one,x)[1]\n",
    "two=Eq(cos(b),co(x,2*cos(a),1-t))\n",
    "b=solve(two,b)[1]"
   ]
  },
  {
   "cell_type": "code",
   "execution_count": 53,
   "metadata": {},
   "outputs": [],
   "source": [
    "f=lambdify(a,b,'numpy')"
   ]
  },
  {
   "cell_type": "code",
   "execution_count": 54,
   "metadata": {},
   "outputs": [
    {
     "data": {
      "text/latex": [
       "$\\displaystyle \\operatorname{acos}{\\left(\\frac{\\left(- 16 \\sin^{4}{\\left(a \\right)} - 16 \\cos^{2}{\\left(a \\right)} + 15\\right) \\cos{\\left(a \\right)}}{\\sqrt{64 \\sin^{6}{\\left(a \\right)} - 112 \\sin^{4}{\\left(a \\right)} + 48 \\sin^{2}{\\left(a \\right)} + 1}} \\right)}$"
      ],
      "text/plain": [
       "acos((-16*sin(a)**4 - 16*cos(a)**2 + 15)*cos(a)/sqrt(64*sin(a)**6 - 112*sin(a)**4 + 48*sin(a)**2 + 1))"
      ]
     },
     "execution_count": 54,
     "metadata": {},
     "output_type": "execute_result"
    }
   ],
   "source": [
    "b"
   ]
  },
  {
   "cell_type": "code",
   "execution_count": 56,
   "metadata": {},
   "outputs": [],
   "source": [
    "def deg(x):\n",
    "    return f(np.pi/180*x)/np.pi*180"
   ]
  },
  {
   "cell_type": "code",
   "execution_count": 57,
   "metadata": {},
   "outputs": [
    {
     "data": {
      "text/plain": [
       "49.99999999999962"
      ]
     },
     "execution_count": 57,
     "metadata": {},
     "output_type": "execute_result"
    }
   ],
   "source": [
    "deg(70)"
   ]
  },
  {
   "cell_type": "code",
   "execution_count": 60,
   "metadata": {},
   "outputs": [
    {
     "data": {
      "text/plain": [
       "61.824573908913685"
      ]
     },
     "execution_count": 60,
     "metadata": {},
     "output_type": "execute_result"
    }
   ],
   "source": [
    "deg(71)"
   ]
  }
 ],
 "metadata": {
  "kernelspec": {
   "display_name": "Python 3",
   "language": "python",
   "name": "python3"
  },
  "language_info": {
   "codemirror_mode": {
    "name": "ipython",
    "version": 3
   },
   "file_extension": ".py",
   "mimetype": "text/x-python",
   "name": "python",
   "nbconvert_exporter": "python",
   "pygments_lexer": "ipython3",
   "version": "3.7.4"
  }
 },
 "nbformat": 4,
 "nbformat_minor": 2
}
